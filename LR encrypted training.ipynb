{
  "cells": [
    {
      "cell_type": "markdown",
      "metadata": {
        "id": "bnjYsvUlFAmw"
      },
      "source": [
        "# Data"
      ]
    },
    {
      "cell_type": "markdown",
      "metadata": {
        "id": "-qHl4Uc5EeQX"
      },
      "source": [
        "## Mounting Google Drive"
      ]
    },
    {
      "cell_type": "code",
      "execution_count": 2,
      "metadata": {
        "colab": {
          "base_uri": "https://localhost:8080/"
        },
        "id": "-ks3zG3uFCEe",
        "outputId": "c18abc2b-d1dc-4fe2-b47d-e50a117e4a31"
      },
      "outputs": [
        {
          "name": "stdout",
          "output_type": "stream",
          "text": [
            "Mounted at /content/drive\n"
          ]
        }
      ],
      "source": [
        "# Mounting Google Drive locally to read datasets - skip if not working on colab\n",
        "from google.colab import drive\n",
        "drive.mount('/content/drive')"
      ]
    },
    {
      "cell_type": "code",
      "execution_count": 3,
      "metadata": {
        "colab": {
          "base_uri": "https://localhost:8080/"
        },
        "id": "DpRHLv6kGCJE",
        "outputId": "93899283-a650-4ed4-ff47-cfa6f5d61278"
      },
      "outputs": [
        {
          "name": "stdout",
          "output_type": "stream",
          "text": [
            "['msk_impact_2017_clinical_data.tsv']\n"
          ]
        }
      ],
      "source": [
        "import os\n",
        "path = \"/content/drive/MyDrive/ml4health/\" # change this path to where your files are!\n",
        "print(os.listdir(path))"
      ]
    },
    {
      "cell_type": "markdown",
      "metadata": {
        "id": "rKDXKPNmF8dR"
      },
      "source": [
        "## Data Exploration & Preprocessing"
      ]
    },
    {
      "cell_type": "code",
      "execution_count": 4,
      "metadata": {
        "id": "342hXXiKDDJd"
      },
      "outputs": [],
      "source": [
        "import pandas as pd\n",
        "import warnings\n",
        "import matplotlib.pyplot as plt\n",
        "import seaborn as sns\n",
        "warnings.simplefilter(action='ignore', category=FutureWarning)\n",
        "warnings.simplefilter(action='ignore', category=UserWarning)"
      ]
    },
    {
      "cell_type": "code",
      "execution_count": 5,
      "metadata": {
        "colab": {
          "base_uri": "https://localhost:8080/",
          "height": 443
        },
        "id": "IIVZKnBlGKnI",
        "outputId": "bb04c4df-ef37-4d1a-8038-86f08d8530a5"
      },
      "outputs": [
        {
          "data": {
            "application/vnd.google.colaboratory.intrinsic+json": {
              "type": "dataframe",
              "variable_name": "df"
            },
            "text/html": [
              "\n",
              "  <div id=\"df-fa625d68-f20f-4e01-a78f-c3f461397324\" class=\"colab-df-container\">\n",
              "    <div>\n",
              "<style scoped>\n",
              "    .dataframe tbody tr th:only-of-type {\n",
              "        vertical-align: middle;\n",
              "    }\n",
              "\n",
              "    .dataframe tbody tr th {\n",
              "        vertical-align: top;\n",
              "    }\n",
              "\n",
              "    .dataframe thead th {\n",
              "        text-align: right;\n",
              "    }\n",
              "</style>\n",
              "<table border=\"1\" class=\"dataframe\">\n",
              "  <thead>\n",
              "    <tr style=\"text-align: right;\">\n",
              "      <th></th>\n",
              "      <th>Study ID</th>\n",
              "      <th>Patient ID</th>\n",
              "      <th>Sample ID</th>\n",
              "      <th>Cancer Type</th>\n",
              "      <th>Cancer Type Detailed</th>\n",
              "      <th>DNA Input</th>\n",
              "      <th>Fraction Genome Altered</th>\n",
              "      <th>Matched Status</th>\n",
              "      <th>Metastatic Site</th>\n",
              "      <th>Mutation Count</th>\n",
              "      <th>...</th>\n",
              "      <th>Sample coverage</th>\n",
              "      <th>Sample Type</th>\n",
              "      <th>Sex</th>\n",
              "      <th>Smoking History</th>\n",
              "      <th>Somatic Status</th>\n",
              "      <th>Specimen Preservation Type</th>\n",
              "      <th>Specimen Type</th>\n",
              "      <th>TMB (nonsynonymous)</th>\n",
              "      <th>Tumor Purity</th>\n",
              "      <th>Patient's Vital Status</th>\n",
              "    </tr>\n",
              "  </thead>\n",
              "  <tbody>\n",
              "    <tr>\n",
              "      <th>0</th>\n",
              "      <td>msk_impact_2017</td>\n",
              "      <td>P-0000004</td>\n",
              "      <td>P-0000004-T01-IM3</td>\n",
              "      <td>Breast Cancer</td>\n",
              "      <td>Breast Invasive Ductal Carcinoma</td>\n",
              "      <td>250.0</td>\n",
              "      <td>0.2782</td>\n",
              "      <td>Matched</td>\n",
              "      <td>NaN</td>\n",
              "      <td>16</td>\n",
              "      <td>...</td>\n",
              "      <td>428</td>\n",
              "      <td>Primary</td>\n",
              "      <td>Female</td>\n",
              "      <td>Unknown</td>\n",
              "      <td>Matched</td>\n",
              "      <td>FFPE</td>\n",
              "      <td>Biopsy</td>\n",
              "      <td>17.746485</td>\n",
              "      <td>50.0</td>\n",
              "      <td>ALIVE</td>\n",
              "    </tr>\n",
              "    <tr>\n",
              "      <th>1</th>\n",
              "      <td>msk_impact_2017</td>\n",
              "      <td>P-0000015</td>\n",
              "      <td>P-0000015-T01-IM3</td>\n",
              "      <td>Breast Cancer</td>\n",
              "      <td>Breast Invasive Ductal Carcinoma</td>\n",
              "      <td>198.0</td>\n",
              "      <td>0.3503</td>\n",
              "      <td>Matched</td>\n",
              "      <td>Liver</td>\n",
              "      <td>7</td>\n",
              "      <td>...</td>\n",
              "      <td>281</td>\n",
              "      <td>Metastasis</td>\n",
              "      <td>Female</td>\n",
              "      <td>Never</td>\n",
              "      <td>Matched</td>\n",
              "      <td>FFPE</td>\n",
              "      <td>Biopsy</td>\n",
              "      <td>7.764087</td>\n",
              "      <td>40.0</td>\n",
              "      <td>DECEASED</td>\n",
              "    </tr>\n",
              "    <tr>\n",
              "      <th>2</th>\n",
              "      <td>msk_impact_2017</td>\n",
              "      <td>P-0000023</td>\n",
              "      <td>P-0000023-T01-IM3</td>\n",
              "      <td>Mesothelioma</td>\n",
              "      <td>Peritoneal Mesothelioma</td>\n",
              "      <td>250.0</td>\n",
              "      <td>0.1596</td>\n",
              "      <td>Matched</td>\n",
              "      <td>NaN</td>\n",
              "      <td>5</td>\n",
              "      <td>...</td>\n",
              "      <td>454</td>\n",
              "      <td>Primary</td>\n",
              "      <td>Male</td>\n",
              "      <td>Never</td>\n",
              "      <td>Matched</td>\n",
              "      <td>FFPE</td>\n",
              "      <td>Biopsy</td>\n",
              "      <td>5.545777</td>\n",
              "      <td>30.0</td>\n",
              "      <td>DECEASED</td>\n",
              "    </tr>\n",
              "    <tr>\n",
              "      <th>3</th>\n",
              "      <td>msk_impact_2017</td>\n",
              "      <td>P-0000024</td>\n",
              "      <td>P-0000024-T01-IM3</td>\n",
              "      <td>Endometrial Cancer</td>\n",
              "      <td>Uterine Endometrioid Carcinoma</td>\n",
              "      <td>250.0</td>\n",
              "      <td>0.3878</td>\n",
              "      <td>Matched</td>\n",
              "      <td>Lung</td>\n",
              "      <td>6</td>\n",
              "      <td>...</td>\n",
              "      <td>1016</td>\n",
              "      <td>Metastasis</td>\n",
              "      <td>Female</td>\n",
              "      <td>Prev/Curr Smoker</td>\n",
              "      <td>Matched</td>\n",
              "      <td>FFPE</td>\n",
              "      <td>Resection</td>\n",
              "      <td>6.654932</td>\n",
              "      <td>40.0</td>\n",
              "      <td>ALIVE</td>\n",
              "    </tr>\n",
              "    <tr>\n",
              "      <th>4</th>\n",
              "      <td>msk_impact_2017</td>\n",
              "      <td>P-0000025</td>\n",
              "      <td>P-0000025-T01-IM3</td>\n",
              "      <td>Endometrial Cancer</td>\n",
              "      <td>Uterine Serous Carcinoma/Uterine Papillary Ser...</td>\n",
              "      <td>250.0</td>\n",
              "      <td>0.0000</td>\n",
              "      <td>Matched</td>\n",
              "      <td>NaN</td>\n",
              "      <td>1</td>\n",
              "      <td>...</td>\n",
              "      <td>1161</td>\n",
              "      <td>Primary</td>\n",
              "      <td>Female</td>\n",
              "      <td>Never</td>\n",
              "      <td>Matched</td>\n",
              "      <td>FFPE</td>\n",
              "      <td>Resection</td>\n",
              "      <td>1.109155</td>\n",
              "      <td>NaN</td>\n",
              "      <td>ALIVE</td>\n",
              "    </tr>\n",
              "  </tbody>\n",
              "</table>\n",
              "<p>5 rows × 27 columns</p>\n",
              "</div>\n",
              "    <div class=\"colab-df-buttons\">\n",
              "\n",
              "  <div class=\"colab-df-container\">\n",
              "    <button class=\"colab-df-convert\" onclick=\"convertToInteractive('df-fa625d68-f20f-4e01-a78f-c3f461397324')\"\n",
              "            title=\"Convert this dataframe to an interactive table.\"\n",
              "            style=\"display:none;\">\n",
              "\n",
              "  <svg xmlns=\"http://www.w3.org/2000/svg\" height=\"24px\" viewBox=\"0 -960 960 960\">\n",
              "    <path d=\"M120-120v-720h720v720H120Zm60-500h600v-160H180v160Zm220 220h160v-160H400v160Zm0 220h160v-160H400v160ZM180-400h160v-160H180v160Zm440 0h160v-160H620v160ZM180-180h160v-160H180v160Zm440 0h160v-160H620v160Z\"/>\n",
              "  </svg>\n",
              "    </button>\n",
              "\n",
              "  <style>\n",
              "    .colab-df-container {\n",
              "      display:flex;\n",
              "      gap: 12px;\n",
              "    }\n",
              "\n",
              "    .colab-df-convert {\n",
              "      background-color: #E8F0FE;\n",
              "      border: none;\n",
              "      border-radius: 50%;\n",
              "      cursor: pointer;\n",
              "      display: none;\n",
              "      fill: #1967D2;\n",
              "      height: 32px;\n",
              "      padding: 0 0 0 0;\n",
              "      width: 32px;\n",
              "    }\n",
              "\n",
              "    .colab-df-convert:hover {\n",
              "      background-color: #E2EBFA;\n",
              "      box-shadow: 0px 1px 2px rgba(60, 64, 67, 0.3), 0px 1px 3px 1px rgba(60, 64, 67, 0.15);\n",
              "      fill: #174EA6;\n",
              "    }\n",
              "\n",
              "    .colab-df-buttons div {\n",
              "      margin-bottom: 4px;\n",
              "    }\n",
              "\n",
              "    [theme=dark] .colab-df-convert {\n",
              "      background-color: #3B4455;\n",
              "      fill: #D2E3FC;\n",
              "    }\n",
              "\n",
              "    [theme=dark] .colab-df-convert:hover {\n",
              "      background-color: #434B5C;\n",
              "      box-shadow: 0px 1px 3px 1px rgba(0, 0, 0, 0.15);\n",
              "      filter: drop-shadow(0px 1px 2px rgba(0, 0, 0, 0.3));\n",
              "      fill: #FFFFFF;\n",
              "    }\n",
              "  </style>\n",
              "\n",
              "    <script>\n",
              "      const buttonEl =\n",
              "        document.querySelector('#df-fa625d68-f20f-4e01-a78f-c3f461397324 button.colab-df-convert');\n",
              "      buttonEl.style.display =\n",
              "        google.colab.kernel.accessAllowed ? 'block' : 'none';\n",
              "\n",
              "      async function convertToInteractive(key) {\n",
              "        const element = document.querySelector('#df-fa625d68-f20f-4e01-a78f-c3f461397324');\n",
              "        const dataTable =\n",
              "          await google.colab.kernel.invokeFunction('convertToInteractive',\n",
              "                                                    [key], {});\n",
              "        if (!dataTable) return;\n",
              "\n",
              "        const docLinkHtml = 'Like what you see? Visit the ' +\n",
              "          '<a target=\"_blank\" href=https://colab.research.google.com/notebooks/data_table.ipynb>data table notebook</a>'\n",
              "          + ' to learn more about interactive tables.';\n",
              "        element.innerHTML = '';\n",
              "        dataTable['output_type'] = 'display_data';\n",
              "        await google.colab.output.renderOutput(dataTable, element);\n",
              "        const docLink = document.createElement('div');\n",
              "        docLink.innerHTML = docLinkHtml;\n",
              "        element.appendChild(docLink);\n",
              "      }\n",
              "    </script>\n",
              "  </div>\n",
              "\n",
              "\n",
              "<div id=\"df-9dccd312-f4f3-43c2-93f1-703bef03c85f\">\n",
              "  <button class=\"colab-df-quickchart\" onclick=\"quickchart('df-9dccd312-f4f3-43c2-93f1-703bef03c85f')\"\n",
              "            title=\"Suggest charts\"\n",
              "            style=\"display:none;\">\n",
              "\n",
              "<svg xmlns=\"http://www.w3.org/2000/svg\" height=\"24px\"viewBox=\"0 0 24 24\"\n",
              "     width=\"24px\">\n",
              "    <g>\n",
              "        <path d=\"M19 3H5c-1.1 0-2 .9-2 2v14c0 1.1.9 2 2 2h14c1.1 0 2-.9 2-2V5c0-1.1-.9-2-2-2zM9 17H7v-7h2v7zm4 0h-2V7h2v10zm4 0h-2v-4h2v4z\"/>\n",
              "    </g>\n",
              "</svg>\n",
              "  </button>\n",
              "\n",
              "<style>\n",
              "  .colab-df-quickchart {\n",
              "      --bg-color: #E8F0FE;\n",
              "      --fill-color: #1967D2;\n",
              "      --hover-bg-color: #E2EBFA;\n",
              "      --hover-fill-color: #174EA6;\n",
              "      --disabled-fill-color: #AAA;\n",
              "      --disabled-bg-color: #DDD;\n",
              "  }\n",
              "\n",
              "  [theme=dark] .colab-df-quickchart {\n",
              "      --bg-color: #3B4455;\n",
              "      --fill-color: #D2E3FC;\n",
              "      --hover-bg-color: #434B5C;\n",
              "      --hover-fill-color: #FFFFFF;\n",
              "      --disabled-bg-color: #3B4455;\n",
              "      --disabled-fill-color: #666;\n",
              "  }\n",
              "\n",
              "  .colab-df-quickchart {\n",
              "    background-color: var(--bg-color);\n",
              "    border: none;\n",
              "    border-radius: 50%;\n",
              "    cursor: pointer;\n",
              "    display: none;\n",
              "    fill: var(--fill-color);\n",
              "    height: 32px;\n",
              "    padding: 0;\n",
              "    width: 32px;\n",
              "  }\n",
              "\n",
              "  .colab-df-quickchart:hover {\n",
              "    background-color: var(--hover-bg-color);\n",
              "    box-shadow: 0 1px 2px rgba(60, 64, 67, 0.3), 0 1px 3px 1px rgba(60, 64, 67, 0.15);\n",
              "    fill: var(--button-hover-fill-color);\n",
              "  }\n",
              "\n",
              "  .colab-df-quickchart-complete:disabled,\n",
              "  .colab-df-quickchart-complete:disabled:hover {\n",
              "    background-color: var(--disabled-bg-color);\n",
              "    fill: var(--disabled-fill-color);\n",
              "    box-shadow: none;\n",
              "  }\n",
              "\n",
              "  .colab-df-spinner {\n",
              "    border: 2px solid var(--fill-color);\n",
              "    border-color: transparent;\n",
              "    border-bottom-color: var(--fill-color);\n",
              "    animation:\n",
              "      spin 1s steps(1) infinite;\n",
              "  }\n",
              "\n",
              "  @keyframes spin {\n",
              "    0% {\n",
              "      border-color: transparent;\n",
              "      border-bottom-color: var(--fill-color);\n",
              "      border-left-color: var(--fill-color);\n",
              "    }\n",
              "    20% {\n",
              "      border-color: transparent;\n",
              "      border-left-color: var(--fill-color);\n",
              "      border-top-color: var(--fill-color);\n",
              "    }\n",
              "    30% {\n",
              "      border-color: transparent;\n",
              "      border-left-color: var(--fill-color);\n",
              "      border-top-color: var(--fill-color);\n",
              "      border-right-color: var(--fill-color);\n",
              "    }\n",
              "    40% {\n",
              "      border-color: transparent;\n",
              "      border-right-color: var(--fill-color);\n",
              "      border-top-color: var(--fill-color);\n",
              "    }\n",
              "    60% {\n",
              "      border-color: transparent;\n",
              "      border-right-color: var(--fill-color);\n",
              "    }\n",
              "    80% {\n",
              "      border-color: transparent;\n",
              "      border-right-color: var(--fill-color);\n",
              "      border-bottom-color: var(--fill-color);\n",
              "    }\n",
              "    90% {\n",
              "      border-color: transparent;\n",
              "      border-bottom-color: var(--fill-color);\n",
              "    }\n",
              "  }\n",
              "</style>\n",
              "\n",
              "  <script>\n",
              "    async function quickchart(key) {\n",
              "      const quickchartButtonEl =\n",
              "        document.querySelector('#' + key + ' button');\n",
              "      quickchartButtonEl.disabled = true;  // To prevent multiple clicks.\n",
              "      quickchartButtonEl.classList.add('colab-df-spinner');\n",
              "      try {\n",
              "        const charts = await google.colab.kernel.invokeFunction(\n",
              "            'suggestCharts', [key], {});\n",
              "      } catch (error) {\n",
              "        console.error('Error during call to suggestCharts:', error);\n",
              "      }\n",
              "      quickchartButtonEl.classList.remove('colab-df-spinner');\n",
              "      quickchartButtonEl.classList.add('colab-df-quickchart-complete');\n",
              "    }\n",
              "    (() => {\n",
              "      let quickchartButtonEl =\n",
              "        document.querySelector('#df-9dccd312-f4f3-43c2-93f1-703bef03c85f button');\n",
              "      quickchartButtonEl.style.display =\n",
              "        google.colab.kernel.accessAllowed ? 'block' : 'none';\n",
              "    })();\n",
              "  </script>\n",
              "</div>\n",
              "    </div>\n",
              "  </div>\n"
            ],
            "text/plain": [
              "          Study ID Patient ID          Sample ID         Cancer Type  \\\n",
              "0  msk_impact_2017  P-0000004  P-0000004-T01-IM3       Breast Cancer   \n",
              "1  msk_impact_2017  P-0000015  P-0000015-T01-IM3       Breast Cancer   \n",
              "2  msk_impact_2017  P-0000023  P-0000023-T01-IM3        Mesothelioma   \n",
              "3  msk_impact_2017  P-0000024  P-0000024-T01-IM3  Endometrial Cancer   \n",
              "4  msk_impact_2017  P-0000025  P-0000025-T01-IM3  Endometrial Cancer   \n",
              "\n",
              "                                Cancer Type Detailed  DNA Input  \\\n",
              "0                   Breast Invasive Ductal Carcinoma      250.0   \n",
              "1                   Breast Invasive Ductal Carcinoma      198.0   \n",
              "2                            Peritoneal Mesothelioma      250.0   \n",
              "3                     Uterine Endometrioid Carcinoma      250.0   \n",
              "4  Uterine Serous Carcinoma/Uterine Papillary Ser...      250.0   \n",
              "\n",
              "   Fraction Genome Altered Matched Status Metastatic Site  Mutation Count  \\\n",
              "0                   0.2782        Matched             NaN              16   \n",
              "1                   0.3503        Matched           Liver               7   \n",
              "2                   0.1596        Matched             NaN               5   \n",
              "3                   0.3878        Matched            Lung               6   \n",
              "4                   0.0000        Matched             NaN               1   \n",
              "\n",
              "   ... Sample coverage  Sample Type     Sex   Smoking History Somatic Status  \\\n",
              "0  ...             428      Primary  Female           Unknown        Matched   \n",
              "1  ...             281   Metastasis  Female             Never        Matched   \n",
              "2  ...             454      Primary    Male             Never        Matched   \n",
              "3  ...            1016   Metastasis  Female  Prev/Curr Smoker        Matched   \n",
              "4  ...            1161      Primary  Female             Never        Matched   \n",
              "\n",
              "  Specimen Preservation Type  Specimen Type  TMB (nonsynonymous) Tumor Purity  \\\n",
              "0                       FFPE         Biopsy            17.746485         50.0   \n",
              "1                       FFPE         Biopsy             7.764087         40.0   \n",
              "2                       FFPE         Biopsy             5.545777         30.0   \n",
              "3                       FFPE      Resection             6.654932         40.0   \n",
              "4                       FFPE      Resection             1.109155          NaN   \n",
              "\n",
              "  Patient's Vital Status  \n",
              "0                  ALIVE  \n",
              "1               DECEASED  \n",
              "2               DECEASED  \n",
              "3                  ALIVE  \n",
              "4                  ALIVE  \n",
              "\n",
              "[5 rows x 27 columns]"
            ]
          },
          "execution_count": 5,
          "metadata": {},
          "output_type": "execute_result"
        }
      ],
      "source": [
        "df = pd.read_csv(path+\"msk_impact_2017_clinical_data.tsv\", sep=\"\\t\")\n",
        "df.head()"
      ]
    },
    {
      "cell_type": "code",
      "execution_count": 6,
      "metadata": {
        "colab": {
          "base_uri": "https://localhost:8080/"
        },
        "id": "DYInDpxetpC8",
        "outputId": "add25064-e53f-4ab3-ae6e-548a6475b4ef"
      },
      "outputs": [
        {
          "data": {
            "text/plain": [
              "(10945, 27)"
            ]
          },
          "execution_count": 6,
          "metadata": {},
          "output_type": "execute_result"
        }
      ],
      "source": [
        "df.shape"
      ]
    },
    {
      "cell_type": "code",
      "execution_count": 7,
      "metadata": {
        "colab": {
          "base_uri": "https://localhost:8080/"
        },
        "id": "8WGFGVm6treY",
        "outputId": "2eb65a1a-d539-4e55-daa8-d339a959b76f"
      },
      "outputs": [
        {
          "name": "stdout",
          "output_type": "stream",
          "text": [
            "<class 'pandas.core.frame.DataFrame'>\n",
            "RangeIndex: 10945 entries, 0 to 10944\n",
            "Data columns (total 27 columns):\n",
            " #   Column                         Non-Null Count  Dtype  \n",
            "---  ------                         --------------  -----  \n",
            " 0   Study ID                       10945 non-null  object \n",
            " 1   Patient ID                     10945 non-null  object \n",
            " 2   Sample ID                      10945 non-null  object \n",
            " 3   Cancer Type                    10945 non-null  object \n",
            " 4   Cancer Type Detailed           10945 non-null  object \n",
            " 5   DNA Input                      10945 non-null  float64\n",
            " 6   Fraction Genome Altered        10939 non-null  float64\n",
            " 7   Matched Status                 10945 non-null  object \n",
            " 8   Metastatic Site                4779 non-null   object \n",
            " 9   Mutation Count                 10945 non-null  int64  \n",
            " 10  Oncotree Code                  10945 non-null  object \n",
            " 11  Overall Survival (Months)      8142 non-null   float64\n",
            " 12  Overall Survival Status        10943 non-null  object \n",
            " 13  Primary Tumor Site             10917 non-null  object \n",
            " 14  Sample Class                   10945 non-null  object \n",
            " 15  Sample Collection Source       10945 non-null  object \n",
            " 16  Number of Samples Per Patient  10945 non-null  int64  \n",
            " 17  Sample coverage                10945 non-null  int64  \n",
            " 18  Sample Type                    10945 non-null  object \n",
            " 19  Sex                            10945 non-null  object \n",
            " 20  Smoking History                10943 non-null  object \n",
            " 21  Somatic Status                 10945 non-null  object \n",
            " 22  Specimen Preservation Type     10945 non-null  object \n",
            " 23  Specimen Type                  10944 non-null  object \n",
            " 24  TMB (nonsynonymous)            10945 non-null  float64\n",
            " 25  Tumor Purity                   10475 non-null  float64\n",
            " 26  Patient's Vital Status         10943 non-null  object \n",
            "dtypes: float64(5), int64(3), object(19)\n",
            "memory usage: 2.3+ MB\n"
          ]
        }
      ],
      "source": [
        "df.info()"
      ]
    },
    {
      "cell_type": "markdown",
      "metadata": {
        "id": "QlELYUWCt-nd"
      },
      "source": [
        "### Dropping columns with domain knowledge"
      ]
    },
    {
      "cell_type": "code",
      "execution_count": 8,
      "metadata": {
        "colab": {
          "base_uri": "https://localhost:8080/"
        },
        "id": "APopt4pOtvY7",
        "outputId": "062e683c-7342-4513-ecde-57fdb9b73756"
      },
      "outputs": [
        {
          "data": {
            "text/plain": [
              "(10945, 20)"
            ]
          },
          "execution_count": 8,
          "metadata": {},
          "output_type": "execute_result"
        }
      ],
      "source": [
        "# ID columns are dropped since they do not contain any information\n",
        "df.drop(columns=[\"Study ID\",\"Patient ID\"], inplace = True)\n",
        "\n",
        "# Repetitive columns are dropped\n",
        "df.drop(columns=[\"Cancer Type Detailed\"], inplace = True)\n",
        "\n",
        "# Sample collection attributes dropped since they do not contain any info\n",
        "df.drop(columns=[\"Sample ID\"],\n",
        "        inplace = True)\n",
        "\n",
        "# Oncotree Code is dropped since it is repetition to cancer type\n",
        "df.drop(columns=[\"Oncotree Code\"], inplace = True)\n",
        "\n",
        "# Survival repetitive attributes are dropped\n",
        "df.drop(columns=[\"Overall Survival (Months)\",\"Patient's Vital Status\"], inplace = True)\n",
        "\n",
        "df.shape"
      ]
    },
    {
      "cell_type": "code",
      "execution_count": 9,
      "metadata": {
        "colab": {
          "base_uri": "https://localhost:8080/",
          "height": 275
        },
        "id": "hufRp4_kuJXZ",
        "outputId": "e7e84ace-0e4a-48cc-8988-13eceffd4f9d"
      },
      "outputs": [
        {
          "data": {
            "application/vnd.google.colaboratory.intrinsic+json": {
              "summary": "{\n  \"name\": \"df\",\n  \"rows\": 10945,\n  \"fields\": [\n    {\n      \"column\": \"Cancer Type\",\n      \"properties\": {\n        \"dtype\": \"category\",\n        \"num_unique_values\": 58,\n        \"samples\": [\n          \"Breast Cancer\",\n          \"Hepatobiliary Cancer\",\n          \"Small Bowel Cancer\"\n        ],\n        \"semantic_type\": \"\",\n        \"description\": \"\"\n      }\n    },\n    {\n      \"column\": \"DNA Input\",\n      \"properties\": {\n        \"dtype\": \"number\",\n        \"std\": 36.33581050675948,\n        \"min\": 50.0,\n        \"max\": 250.0,\n        \"num_unique_values\": 900,\n        \"samples\": [\n          63.6,\n          140.1,\n          227.12\n        ],\n        \"semantic_type\": \"\",\n        \"description\": \"\"\n      }\n    },\n    {\n      \"column\": \"Fraction Genome Altered\",\n      \"properties\": {\n        \"dtype\": \"number\",\n        \"std\": 0.18934479011409824,\n        \"min\": 0.0,\n        \"max\": 1.0,\n        \"num_unique_values\": 4573,\n        \"samples\": [\n          0.4766,\n          0.2363,\n          0.0752\n        ],\n        \"semantic_type\": \"\",\n        \"description\": \"\"\n      }\n    },\n    {\n      \"column\": \"Matched Status\",\n      \"properties\": {\n        \"dtype\": \"category\",\n        \"num_unique_values\": 2,\n        \"samples\": [\n          \"Unmatched\",\n          \"Matched\"\n        ],\n        \"semantic_type\": \"\",\n        \"description\": \"\"\n      }\n    },\n    {\n      \"column\": \"Metastatic Site\",\n      \"properties\": {\n        \"dtype\": \"category\",\n        \"num_unique_values\": 150,\n        \"samples\": [\n          \"Fallopian Tube\",\n          \"Stomach\"\n        ],\n        \"semantic_type\": \"\",\n        \"description\": \"\"\n      }\n    },\n    {\n      \"column\": \"Mutation Count\",\n      \"properties\": {\n        \"dtype\": \"number\",\n        \"std\": 16,\n        \"min\": 0,\n        \"max\": 456,\n        \"num_unique_values\": 128,\n        \"samples\": [\n          64,\n          57\n        ],\n        \"semantic_type\": \"\",\n        \"description\": \"\"\n      }\n    },\n    {\n      \"column\": \"Overall Survival Status\",\n      \"properties\": {\n        \"dtype\": \"category\",\n        \"num_unique_values\": 2,\n        \"samples\": [\n          \"1:DECEASED\",\n          \"0:LIVING\"\n        ],\n        \"semantic_type\": \"\",\n        \"description\": \"\"\n      }\n    },\n    {\n      \"column\": \"Primary Tumor Site\",\n      \"properties\": {\n        \"dtype\": \"category\",\n        \"num_unique_values\": 157,\n        \"samples\": [\n          \"Bone Marrow\",\n          \"Buttock\"\n        ],\n        \"semantic_type\": \"\",\n        \"description\": \"\"\n      }\n    },\n    {\n      \"column\": \"Sample Class\",\n      \"properties\": {\n        \"dtype\": \"category\",\n        \"num_unique_values\": 1,\n        \"samples\": [\n          \"Tumor\"\n        ],\n        \"semantic_type\": \"\",\n        \"description\": \"\"\n      }\n    },\n    {\n      \"column\": \"Sample Collection Source\",\n      \"properties\": {\n        \"dtype\": \"category\",\n        \"num_unique_values\": 2,\n        \"samples\": [\n          \"In-House\"\n        ],\n        \"semantic_type\": \"\",\n        \"description\": \"\"\n      }\n    },\n    {\n      \"column\": \"Number of Samples Per Patient\",\n      \"properties\": {\n        \"dtype\": \"number\",\n        \"std\": 0,\n        \"min\": 1,\n        \"max\": 5,\n        \"num_unique_values\": 5,\n        \"samples\": [\n          2\n        ],\n        \"semantic_type\": \"\",\n        \"description\": \"\"\n      }\n    },\n    {\n      \"column\": \"Sample coverage\",\n      \"properties\": {\n        \"dtype\": \"number\",\n        \"std\": 267,\n        \"min\": 48,\n        \"max\": 2778,\n        \"num_unique_values\": 1321,\n        \"samples\": [\n          855\n        ],\n        \"semantic_type\": \"\",\n        \"description\": \"\"\n      }\n    },\n    {\n      \"column\": \"Sample Type\",\n      \"properties\": {\n        \"dtype\": \"category\",\n        \"num_unique_values\": 2,\n        \"samples\": [\n          \"Metastasis\"\n        ],\n        \"semantic_type\": \"\",\n        \"description\": \"\"\n      }\n    },\n    {\n      \"column\": \"Sex\",\n      \"properties\": {\n        \"dtype\": \"category\",\n        \"num_unique_values\": 2,\n        \"samples\": [\n          \"Male\"\n        ],\n        \"semantic_type\": \"\",\n        \"description\": \"\"\n      }\n    },\n    {\n      \"column\": \"Smoking History\",\n      \"properties\": {\n        \"dtype\": \"category\",\n        \"num_unique_values\": 3,\n        \"samples\": [\n          \"Unknown\"\n        ],\n        \"semantic_type\": \"\",\n        \"description\": \"\"\n      }\n    },\n    {\n      \"column\": \"Somatic Status\",\n      \"properties\": {\n        \"dtype\": \"category\",\n        \"num_unique_values\": 2,\n        \"samples\": [\n          \"Unmatched\"\n        ],\n        \"semantic_type\": \"\",\n        \"description\": \"\"\n      }\n    },\n    {\n      \"column\": \"Specimen Preservation Type\",\n      \"properties\": {\n        \"dtype\": \"category\",\n        \"num_unique_values\": 5,\n        \"samples\": [\n          \"DNA\"\n        ],\n        \"semantic_type\": \"\",\n        \"description\": \"\"\n      }\n    },\n    {\n      \"column\": \"Specimen Type\",\n      \"properties\": {\n        \"dtype\": \"category\",\n        \"num_unique_values\": 4,\n        \"samples\": [\n          \"Resection\"\n        ],\n        \"semantic_type\": \"\",\n        \"description\": \"\"\n      }\n    },\n    {\n      \"column\": \"TMB (nonsynonymous)\",\n      \"properties\": {\n        \"dtype\": \"number\",\n        \"std\": 16.693101670810087,\n        \"min\": 0.0,\n        \"max\": 445.3174624,\n        \"num_unique_values\": 199,\n        \"samples\": [\n          83.18664754\n        ],\n        \"semantic_type\": \"\",\n        \"description\": \"\"\n      }\n    },\n    {\n      \"column\": \"Tumor Purity\",\n      \"properties\": {\n        \"dtype\": \"number\",\n        \"std\": 22.28376163127442,\n        \"min\": 10.0,\n        \"max\": 100.0,\n        \"num_unique_values\": 22,\n        \"samples\": [\n          50.0\n        ],\n        \"semantic_type\": \"\",\n        \"description\": \"\"\n      }\n    }\n  ]\n}",
              "type": "dataframe",
              "variable_name": "df"
            },
            "text/html": [
              "\n",
              "  <div id=\"df-57266048-e9f6-467f-8757-c5f114435cec\" class=\"colab-df-container\">\n",
              "    <div>\n",
              "<style scoped>\n",
              "    .dataframe tbody tr th:only-of-type {\n",
              "        vertical-align: middle;\n",
              "    }\n",
              "\n",
              "    .dataframe tbody tr th {\n",
              "        vertical-align: top;\n",
              "    }\n",
              "\n",
              "    .dataframe thead th {\n",
              "        text-align: right;\n",
              "    }\n",
              "</style>\n",
              "<table border=\"1\" class=\"dataframe\">\n",
              "  <thead>\n",
              "    <tr style=\"text-align: right;\">\n",
              "      <th></th>\n",
              "      <th>Cancer Type</th>\n",
              "      <th>DNA Input</th>\n",
              "      <th>Fraction Genome Altered</th>\n",
              "      <th>Matched Status</th>\n",
              "      <th>Metastatic Site</th>\n",
              "      <th>Mutation Count</th>\n",
              "      <th>Overall Survival Status</th>\n",
              "      <th>Primary Tumor Site</th>\n",
              "      <th>Sample Class</th>\n",
              "      <th>Sample Collection Source</th>\n",
              "      <th>Number of Samples Per Patient</th>\n",
              "      <th>Sample coverage</th>\n",
              "      <th>Sample Type</th>\n",
              "      <th>Sex</th>\n",
              "      <th>Smoking History</th>\n",
              "      <th>Somatic Status</th>\n",
              "      <th>Specimen Preservation Type</th>\n",
              "      <th>Specimen Type</th>\n",
              "      <th>TMB (nonsynonymous)</th>\n",
              "      <th>Tumor Purity</th>\n",
              "    </tr>\n",
              "  </thead>\n",
              "  <tbody>\n",
              "    <tr>\n",
              "      <th>0</th>\n",
              "      <td>Breast Cancer</td>\n",
              "      <td>250.0</td>\n",
              "      <td>0.2782</td>\n",
              "      <td>Matched</td>\n",
              "      <td>NaN</td>\n",
              "      <td>16</td>\n",
              "      <td>0:LIVING</td>\n",
              "      <td>Breast</td>\n",
              "      <td>Tumor</td>\n",
              "      <td>Outside</td>\n",
              "      <td>1</td>\n",
              "      <td>428</td>\n",
              "      <td>Primary</td>\n",
              "      <td>Female</td>\n",
              "      <td>Unknown</td>\n",
              "      <td>Matched</td>\n",
              "      <td>FFPE</td>\n",
              "      <td>Biopsy</td>\n",
              "      <td>17.746485</td>\n",
              "      <td>50.0</td>\n",
              "    </tr>\n",
              "    <tr>\n",
              "      <th>1</th>\n",
              "      <td>Breast Cancer</td>\n",
              "      <td>198.0</td>\n",
              "      <td>0.3503</td>\n",
              "      <td>Matched</td>\n",
              "      <td>Liver</td>\n",
              "      <td>7</td>\n",
              "      <td>1:DECEASED</td>\n",
              "      <td>Breast</td>\n",
              "      <td>Tumor</td>\n",
              "      <td>In-House</td>\n",
              "      <td>1</td>\n",
              "      <td>281</td>\n",
              "      <td>Metastasis</td>\n",
              "      <td>Female</td>\n",
              "      <td>Never</td>\n",
              "      <td>Matched</td>\n",
              "      <td>FFPE</td>\n",
              "      <td>Biopsy</td>\n",
              "      <td>7.764087</td>\n",
              "      <td>40.0</td>\n",
              "    </tr>\n",
              "    <tr>\n",
              "      <th>2</th>\n",
              "      <td>Mesothelioma</td>\n",
              "      <td>250.0</td>\n",
              "      <td>0.1596</td>\n",
              "      <td>Matched</td>\n",
              "      <td>NaN</td>\n",
              "      <td>5</td>\n",
              "      <td>1:DECEASED</td>\n",
              "      <td>Peritoneum</td>\n",
              "      <td>Tumor</td>\n",
              "      <td>In-House</td>\n",
              "      <td>1</td>\n",
              "      <td>454</td>\n",
              "      <td>Primary</td>\n",
              "      <td>Male</td>\n",
              "      <td>Never</td>\n",
              "      <td>Matched</td>\n",
              "      <td>FFPE</td>\n",
              "      <td>Biopsy</td>\n",
              "      <td>5.545777</td>\n",
              "      <td>30.0</td>\n",
              "    </tr>\n",
              "    <tr>\n",
              "      <th>3</th>\n",
              "      <td>Endometrial Cancer</td>\n",
              "      <td>250.0</td>\n",
              "      <td>0.3878</td>\n",
              "      <td>Matched</td>\n",
              "      <td>Lung</td>\n",
              "      <td>6</td>\n",
              "      <td>0:LIVING</td>\n",
              "      <td>Uterus</td>\n",
              "      <td>Tumor</td>\n",
              "      <td>In-House</td>\n",
              "      <td>1</td>\n",
              "      <td>1016</td>\n",
              "      <td>Metastasis</td>\n",
              "      <td>Female</td>\n",
              "      <td>Prev/Curr Smoker</td>\n",
              "      <td>Matched</td>\n",
              "      <td>FFPE</td>\n",
              "      <td>Resection</td>\n",
              "      <td>6.654932</td>\n",
              "      <td>40.0</td>\n",
              "    </tr>\n",
              "    <tr>\n",
              "      <th>4</th>\n",
              "      <td>Endometrial Cancer</td>\n",
              "      <td>250.0</td>\n",
              "      <td>0.0000</td>\n",
              "      <td>Matched</td>\n",
              "      <td>NaN</td>\n",
              "      <td>1</td>\n",
              "      <td>0:LIVING</td>\n",
              "      <td>Uterus</td>\n",
              "      <td>Tumor</td>\n",
              "      <td>In-House</td>\n",
              "      <td>2</td>\n",
              "      <td>1161</td>\n",
              "      <td>Primary</td>\n",
              "      <td>Female</td>\n",
              "      <td>Never</td>\n",
              "      <td>Matched</td>\n",
              "      <td>FFPE</td>\n",
              "      <td>Resection</td>\n",
              "      <td>1.109155</td>\n",
              "      <td>NaN</td>\n",
              "    </tr>\n",
              "  </tbody>\n",
              "</table>\n",
              "</div>\n",
              "    <div class=\"colab-df-buttons\">\n",
              "\n",
              "  <div class=\"colab-df-container\">\n",
              "    <button class=\"colab-df-convert\" onclick=\"convertToInteractive('df-57266048-e9f6-467f-8757-c5f114435cec')\"\n",
              "            title=\"Convert this dataframe to an interactive table.\"\n",
              "            style=\"display:none;\">\n",
              "\n",
              "  <svg xmlns=\"http://www.w3.org/2000/svg\" height=\"24px\" viewBox=\"0 -960 960 960\">\n",
              "    <path d=\"M120-120v-720h720v720H120Zm60-500h600v-160H180v160Zm220 220h160v-160H400v160Zm0 220h160v-160H400v160ZM180-400h160v-160H180v160Zm440 0h160v-160H620v160ZM180-180h160v-160H180v160Zm440 0h160v-160H620v160Z\"/>\n",
              "  </svg>\n",
              "    </button>\n",
              "\n",
              "  <style>\n",
              "    .colab-df-container {\n",
              "      display:flex;\n",
              "      gap: 12px;\n",
              "    }\n",
              "\n",
              "    .colab-df-convert {\n",
              "      background-color: #E8F0FE;\n",
              "      border: none;\n",
              "      border-radius: 50%;\n",
              "      cursor: pointer;\n",
              "      display: none;\n",
              "      fill: #1967D2;\n",
              "      height: 32px;\n",
              "      padding: 0 0 0 0;\n",
              "      width: 32px;\n",
              "    }\n",
              "\n",
              "    .colab-df-convert:hover {\n",
              "      background-color: #E2EBFA;\n",
              "      box-shadow: 0px 1px 2px rgba(60, 64, 67, 0.3), 0px 1px 3px 1px rgba(60, 64, 67, 0.15);\n",
              "      fill: #174EA6;\n",
              "    }\n",
              "\n",
              "    .colab-df-buttons div {\n",
              "      margin-bottom: 4px;\n",
              "    }\n",
              "\n",
              "    [theme=dark] .colab-df-convert {\n",
              "      background-color: #3B4455;\n",
              "      fill: #D2E3FC;\n",
              "    }\n",
              "\n",
              "    [theme=dark] .colab-df-convert:hover {\n",
              "      background-color: #434B5C;\n",
              "      box-shadow: 0px 1px 3px 1px rgba(0, 0, 0, 0.15);\n",
              "      filter: drop-shadow(0px 1px 2px rgba(0, 0, 0, 0.3));\n",
              "      fill: #FFFFFF;\n",
              "    }\n",
              "  </style>\n",
              "\n",
              "    <script>\n",
              "      const buttonEl =\n",
              "        document.querySelector('#df-57266048-e9f6-467f-8757-c5f114435cec button.colab-df-convert');\n",
              "      buttonEl.style.display =\n",
              "        google.colab.kernel.accessAllowed ? 'block' : 'none';\n",
              "\n",
              "      async function convertToInteractive(key) {\n",
              "        const element = document.querySelector('#df-57266048-e9f6-467f-8757-c5f114435cec');\n",
              "        const dataTable =\n",
              "          await google.colab.kernel.invokeFunction('convertToInteractive',\n",
              "                                                    [key], {});\n",
              "        if (!dataTable) return;\n",
              "\n",
              "        const docLinkHtml = 'Like what you see? Visit the ' +\n",
              "          '<a target=\"_blank\" href=https://colab.research.google.com/notebooks/data_table.ipynb>data table notebook</a>'\n",
              "          + ' to learn more about interactive tables.';\n",
              "        element.innerHTML = '';\n",
              "        dataTable['output_type'] = 'display_data';\n",
              "        await google.colab.output.renderOutput(dataTable, element);\n",
              "        const docLink = document.createElement('div');\n",
              "        docLink.innerHTML = docLinkHtml;\n",
              "        element.appendChild(docLink);\n",
              "      }\n",
              "    </script>\n",
              "  </div>\n",
              "\n",
              "\n",
              "<div id=\"df-92566b3a-5b58-4142-af9a-13e2482e55a5\">\n",
              "  <button class=\"colab-df-quickchart\" onclick=\"quickchart('df-92566b3a-5b58-4142-af9a-13e2482e55a5')\"\n",
              "            title=\"Suggest charts\"\n",
              "            style=\"display:none;\">\n",
              "\n",
              "<svg xmlns=\"http://www.w3.org/2000/svg\" height=\"24px\"viewBox=\"0 0 24 24\"\n",
              "     width=\"24px\">\n",
              "    <g>\n",
              "        <path d=\"M19 3H5c-1.1 0-2 .9-2 2v14c0 1.1.9 2 2 2h14c1.1 0 2-.9 2-2V5c0-1.1-.9-2-2-2zM9 17H7v-7h2v7zm4 0h-2V7h2v10zm4 0h-2v-4h2v4z\"/>\n",
              "    </g>\n",
              "</svg>\n",
              "  </button>\n",
              "\n",
              "<style>\n",
              "  .colab-df-quickchart {\n",
              "      --bg-color: #E8F0FE;\n",
              "      --fill-color: #1967D2;\n",
              "      --hover-bg-color: #E2EBFA;\n",
              "      --hover-fill-color: #174EA6;\n",
              "      --disabled-fill-color: #AAA;\n",
              "      --disabled-bg-color: #DDD;\n",
              "  }\n",
              "\n",
              "  [theme=dark] .colab-df-quickchart {\n",
              "      --bg-color: #3B4455;\n",
              "      --fill-color: #D2E3FC;\n",
              "      --hover-bg-color: #434B5C;\n",
              "      --hover-fill-color: #FFFFFF;\n",
              "      --disabled-bg-color: #3B4455;\n",
              "      --disabled-fill-color: #666;\n",
              "  }\n",
              "\n",
              "  .colab-df-quickchart {\n",
              "    background-color: var(--bg-color);\n",
              "    border: none;\n",
              "    border-radius: 50%;\n",
              "    cursor: pointer;\n",
              "    display: none;\n",
              "    fill: var(--fill-color);\n",
              "    height: 32px;\n",
              "    padding: 0;\n",
              "    width: 32px;\n",
              "  }\n",
              "\n",
              "  .colab-df-quickchart:hover {\n",
              "    background-color: var(--hover-bg-color);\n",
              "    box-shadow: 0 1px 2px rgba(60, 64, 67, 0.3), 0 1px 3px 1px rgba(60, 64, 67, 0.15);\n",
              "    fill: var(--button-hover-fill-color);\n",
              "  }\n",
              "\n",
              "  .colab-df-quickchart-complete:disabled,\n",
              "  .colab-df-quickchart-complete:disabled:hover {\n",
              "    background-color: var(--disabled-bg-color);\n",
              "    fill: var(--disabled-fill-color);\n",
              "    box-shadow: none;\n",
              "  }\n",
              "\n",
              "  .colab-df-spinner {\n",
              "    border: 2px solid var(--fill-color);\n",
              "    border-color: transparent;\n",
              "    border-bottom-color: var(--fill-color);\n",
              "    animation:\n",
              "      spin 1s steps(1) infinite;\n",
              "  }\n",
              "\n",
              "  @keyframes spin {\n",
              "    0% {\n",
              "      border-color: transparent;\n",
              "      border-bottom-color: var(--fill-color);\n",
              "      border-left-color: var(--fill-color);\n",
              "    }\n",
              "    20% {\n",
              "      border-color: transparent;\n",
              "      border-left-color: var(--fill-color);\n",
              "      border-top-color: var(--fill-color);\n",
              "    }\n",
              "    30% {\n",
              "      border-color: transparent;\n",
              "      border-left-color: var(--fill-color);\n",
              "      border-top-color: var(--fill-color);\n",
              "      border-right-color: var(--fill-color);\n",
              "    }\n",
              "    40% {\n",
              "      border-color: transparent;\n",
              "      border-right-color: var(--fill-color);\n",
              "      border-top-color: var(--fill-color);\n",
              "    }\n",
              "    60% {\n",
              "      border-color: transparent;\n",
              "      border-right-color: var(--fill-color);\n",
              "    }\n",
              "    80% {\n",
              "      border-color: transparent;\n",
              "      border-right-color: var(--fill-color);\n",
              "      border-bottom-color: var(--fill-color);\n",
              "    }\n",
              "    90% {\n",
              "      border-color: transparent;\n",
              "      border-bottom-color: var(--fill-color);\n",
              "    }\n",
              "  }\n",
              "</style>\n",
              "\n",
              "  <script>\n",
              "    async function quickchart(key) {\n",
              "      const quickchartButtonEl =\n",
              "        document.querySelector('#' + key + ' button');\n",
              "      quickchartButtonEl.disabled = true;  // To prevent multiple clicks.\n",
              "      quickchartButtonEl.classList.add('colab-df-spinner');\n",
              "      try {\n",
              "        const charts = await google.colab.kernel.invokeFunction(\n",
              "            'suggestCharts', [key], {});\n",
              "      } catch (error) {\n",
              "        console.error('Error during call to suggestCharts:', error);\n",
              "      }\n",
              "      quickchartButtonEl.classList.remove('colab-df-spinner');\n",
              "      quickchartButtonEl.classList.add('colab-df-quickchart-complete');\n",
              "    }\n",
              "    (() => {\n",
              "      let quickchartButtonEl =\n",
              "        document.querySelector('#df-92566b3a-5b58-4142-af9a-13e2482e55a5 button');\n",
              "      quickchartButtonEl.style.display =\n",
              "        google.colab.kernel.accessAllowed ? 'block' : 'none';\n",
              "    })();\n",
              "  </script>\n",
              "</div>\n",
              "    </div>\n",
              "  </div>\n"
            ],
            "text/plain": [
              "          Cancer Type  DNA Input  Fraction Genome Altered Matched Status  \\\n",
              "0       Breast Cancer      250.0                   0.2782        Matched   \n",
              "1       Breast Cancer      198.0                   0.3503        Matched   \n",
              "2        Mesothelioma      250.0                   0.1596        Matched   \n",
              "3  Endometrial Cancer      250.0                   0.3878        Matched   \n",
              "4  Endometrial Cancer      250.0                   0.0000        Matched   \n",
              "\n",
              "  Metastatic Site  Mutation Count Overall Survival Status Primary Tumor Site  \\\n",
              "0             NaN              16                0:LIVING             Breast   \n",
              "1           Liver               7              1:DECEASED             Breast   \n",
              "2             NaN               5              1:DECEASED         Peritoneum   \n",
              "3            Lung               6                0:LIVING             Uterus   \n",
              "4             NaN               1                0:LIVING             Uterus   \n",
              "\n",
              "  Sample Class Sample Collection Source  Number of Samples Per Patient  \\\n",
              "0        Tumor                  Outside                              1   \n",
              "1        Tumor                 In-House                              1   \n",
              "2        Tumor                 In-House                              1   \n",
              "3        Tumor                 In-House                              1   \n",
              "4        Tumor                 In-House                              2   \n",
              "\n",
              "   Sample coverage Sample Type     Sex   Smoking History Somatic Status  \\\n",
              "0              428     Primary  Female           Unknown        Matched   \n",
              "1              281  Metastasis  Female             Never        Matched   \n",
              "2              454     Primary    Male             Never        Matched   \n",
              "3             1016  Metastasis  Female  Prev/Curr Smoker        Matched   \n",
              "4             1161     Primary  Female             Never        Matched   \n",
              "\n",
              "  Specimen Preservation Type Specimen Type  TMB (nonsynonymous)  Tumor Purity  \n",
              "0                       FFPE        Biopsy            17.746485          50.0  \n",
              "1                       FFPE        Biopsy             7.764087          40.0  \n",
              "2                       FFPE        Biopsy             5.545777          30.0  \n",
              "3                       FFPE     Resection             6.654932          40.0  \n",
              "4                       FFPE     Resection             1.109155           NaN  "
            ]
          },
          "execution_count": 9,
          "metadata": {},
          "output_type": "execute_result"
        }
      ],
      "source": [
        "df.head()"
      ]
    },
    {
      "cell_type": "markdown",
      "metadata": {
        "id": "x0J_R8-dvOI7"
      },
      "source": [
        "### Dealing with missing values\n"
      ]
    },
    {
      "cell_type": "code",
      "execution_count": 10,
      "metadata": {
        "id": "wVK_k4AlvJsr"
      },
      "outputs": [],
      "source": [
        "# before any operation on data, we split it into training and test to prevent information leakage!!!!\n",
        "from sklearn.model_selection import train_test_split\n",
        "\n",
        "X = df.drop(\"Overall Survival Status\", axis=1)\n",
        "y = df[\"Overall Survival Status\"]\n",
        "\n",
        "X_train, X_test, y_train, y_test = train_test_split(X, y, test_size=0.3, random_state=42)\n",
        "\n",
        "train_data = pd.concat([X_train, y_train], axis=1)\n",
        "test_data = pd.concat([X_test, y_test], axis=1)"
      ]
    },
    {
      "cell_type": "code",
      "execution_count": 11,
      "metadata": {
        "id": "VRoHppsNvlGO"
      },
      "outputs": [],
      "source": [
        "# imputing Metastatic Site\n",
        "train_data[\"Metastatic Site\"].fillna(\"None\", inplace=True)\n",
        "test_data[\"Metastatic Site\"].fillna(\"None\", inplace=True)\n",
        "\n",
        "# imputing Tumor Purity\n",
        "train_data.loc[:, \"Tumor Purity\"] = train_data[\"Tumor Purity\"].fillna(train_data[\"Tumor Purity\"].mode()[0])\n",
        "test_data.loc[:, \"Tumor Purity\"] = test_data[\"Tumor Purity\"].fillna(test_data[\"Tumor Purity\"].mode()[0])\n",
        "\n",
        "\n",
        "# dropping other NaN rows\n",
        "train_data = train_data.dropna(subset=[\"Fraction Genome Altered\",\"Primary Tumor Site\",\"Specimen Type\",\n",
        "                                       \"Smoking History\",\"Overall Survival Status\"], how='any')\n",
        "test_data = test_data.dropna(subset=[\"Fraction Genome Altered\",\"Primary Tumor Site\",\"Specimen Type\",\n",
        "                                       \"Smoking History\",\"Overall Survival Status\"], how='any')"
      ]
    },
    {
      "cell_type": "markdown",
      "metadata": {
        "id": "duBTlvYD4hEv"
      },
      "source": [
        "### Final updates and encoding"
      ]
    },
    {
      "cell_type": "code",
      "execution_count": 12,
      "metadata": {
        "colab": {
          "base_uri": "https://localhost:8080/"
        },
        "id": "SgCj1zHjQbzP",
        "outputId": "3545d5e3-a189-4e4f-eeeb-c828b89a20d3"
      },
      "outputs": [
        {
          "name": "stdout",
          "output_type": "stream",
          "text": [
            "(7629, 19) (3279, 19)\n"
          ]
        }
      ],
      "source": [
        "# Dropping Matched Status since it has no information (99% same)\n",
        "train_data = train_data.drop(\"Matched Status\", axis=1)\n",
        "test_data = test_data.drop(\"Matched Status\", axis=1)\n",
        "\n",
        "print(train_data.shape,test_data.shape)"
      ]
    },
    {
      "cell_type": "code",
      "execution_count": 13,
      "metadata": {
        "id": "Lt0ERHm14gtV"
      },
      "outputs": [],
      "source": [
        "# Convert metastatic site into binary feature (to reflect there is metastasis or not)\n",
        "train_data['Metastatic Site'] = train_data['Metastatic Site'].apply(lambda x: 0 if x == 'None' else 1)\n",
        "test_data['Metastatic Site'] = test_data['Metastatic Site'].apply(lambda x: 0 if x == 'None' else 1)"
      ]
    },
    {
      "cell_type": "code",
      "execution_count": 14,
      "metadata": {
        "id": "5AJb7JjRLVdG"
      },
      "outputs": [],
      "source": [
        "# Combining rare cancer types into \"Other\"\n",
        "top_cancer_types = train_data['Cancer Type'].value_counts().nlargest(20).index\n",
        "\n",
        "train_data['Cancer Type'] = train_data['Cancer Type'].apply(lambda x: x if x in top_cancer_types else 'Other')\n",
        "test_data['Cancer Type'] = test_data['Cancer Type'].apply(lambda x: x if x in top_cancer_types else 'Other')"
      ]
    },
    {
      "cell_type": "code",
      "execution_count": 15,
      "metadata": {
        "id": "GZL28pIBNw7x"
      },
      "outputs": [],
      "source": [
        "# Same for Primary Tumor Site\n",
        "top_primary_tumor_sites = train_data['Primary Tumor Site'].value_counts().nlargest(20).index\n",
        "\n",
        "train_data['Primary Tumor Site'] = train_data['Primary Tumor Site'].apply(lambda x: x if x in top_primary_tumor_sites else 'Other')\n",
        "test_data['Primary Tumor Site'] = test_data['Primary Tumor Site'].apply(lambda x: x if x in top_primary_tumor_sites else 'Other')"
      ]
    },
    {
      "cell_type": "code",
      "execution_count": 16,
      "metadata": {
        "id": "j0-zg4V1QkKq"
      },
      "outputs": [],
      "source": [
        "from sklearn.model_selection import train_test_split\n",
        "from copy import deepcopy\n",
        "\n",
        "# merging test and train before encodings to control dimensionality\n",
        "merged = pd.concat([train_data, test_data], ignore_index=True)\n",
        "data_cleaned = deepcopy(merged)\n",
        "\n",
        "one_hot_features = ['Cancer Type', 'Primary Tumor Site', 'Smoking History',\n",
        "                    'Specimen Preservation Type', 'Specimen Type']\n",
        "\n",
        "binary_features = ['Sample Class', 'Sample Collection Source',\n",
        "                   'Sample Type', 'Sex', 'Somatic Status']\n",
        "\n",
        "# One hot encoding\n",
        "one_hot_encoded = pd.get_dummies(data_cleaned[one_hot_features])\n",
        "\n",
        "# Binary encoding\n",
        "for feature in binary_features:\n",
        "    data_cleaned[feature] = data_cleaned[feature].astype('category').cat.codes\n",
        "\n",
        "# Combine into dataset\n",
        "data_encoded = data_cleaned.drop(one_hot_features, axis=1)\n",
        "data_encoded = pd.concat([data_encoded, one_hot_encoded], axis=1)\n",
        "\n",
        "# Train and test separation\n",
        "y_encoded = data_encoded['Overall Survival Status'].map({'0:LIVING': 0, '1:DECEASED': 1})\n",
        "X_encoded = data_encoded.drop('Overall Survival Status', axis=1)\n",
        "\n",
        "X_train_encoded = X_encoded.iloc[:len(train_data)]\n",
        "X_test_encoded = X_encoded.iloc[len(train_data):]\n",
        "y_train_encoded = y_encoded.iloc[:len(train_data)]\n",
        "y_test_encoded = y_encoded.iloc[len(train_data):]"
      ]
    },
    {
      "cell_type": "code",
      "execution_count": 17,
      "metadata": {
        "colab": {
          "base_uri": "https://localhost:8080/"
        },
        "id": "NDXoNbpGxaPd",
        "outputId": "bf7fe241-b2e0-4f04-db9f-f05872b17884"
      },
      "outputs": [
        {
          "name": "stdout",
          "output_type": "stream",
          "text": [
            "<class 'pandas.core.frame.DataFrame'>\n",
            "RangeIndex: 7629 entries, 0 to 7628\n",
            "Data columns (total 67 columns):\n",
            " #   Column                                        Non-Null Count  Dtype  \n",
            "---  ------                                        --------------  -----  \n",
            " 0   DNA Input                                     7629 non-null   float64\n",
            " 1   Fraction Genome Altered                       7629 non-null   float64\n",
            " 2   Metastatic Site                               7629 non-null   int64  \n",
            " 3   Mutation Count                                7629 non-null   int64  \n",
            " 4   Sample Class                                  7629 non-null   int8   \n",
            " 5   Sample Collection Source                      7629 non-null   int8   \n",
            " 6   Number of Samples Per Patient                 7629 non-null   int64  \n",
            " 7   Sample coverage                               7629 non-null   int64  \n",
            " 8   Sample Type                                   7629 non-null   int8   \n",
            " 9   Sex                                           7629 non-null   int8   \n",
            " 10  Somatic Status                                7629 non-null   int8   \n",
            " 11  TMB (nonsynonymous)                           7629 non-null   float64\n",
            " 12  Tumor Purity                                  7629 non-null   float64\n",
            " 13  Cancer Type_Bladder Cancer                    7629 non-null   bool   \n",
            " 14  Cancer Type_Breast Cancer                     7629 non-null   bool   \n",
            " 15  Cancer Type_Cancer of Unknown Primary         7629 non-null   bool   \n",
            " 16  Cancer Type_Colorectal Cancer                 7629 non-null   bool   \n",
            " 17  Cancer Type_Endometrial Cancer                7629 non-null   bool   \n",
            " 18  Cancer Type_Esophagogastric Cancer            7629 non-null   bool   \n",
            " 19  Cancer Type_Germ Cell Tumor                   7629 non-null   bool   \n",
            " 20  Cancer Type_Glioma                            7629 non-null   bool   \n",
            " 21  Cancer Type_Head and Neck Cancer              7629 non-null   bool   \n",
            " 22  Cancer Type_Hepatobiliary Cancer              7629 non-null   bool   \n",
            " 23  Cancer Type_Mature B-Cell Neoplasms           7629 non-null   bool   \n",
            " 24  Cancer Type_Melanoma                          7629 non-null   bool   \n",
            " 25  Cancer Type_Non-Small Cell Lung Cancer        7629 non-null   bool   \n",
            " 26  Cancer Type_Other                             7629 non-null   bool   \n",
            " 27  Cancer Type_Ovarian Cancer                    7629 non-null   bool   \n",
            " 28  Cancer Type_Pancreatic Cancer                 7629 non-null   bool   \n",
            " 29  Cancer Type_Prostate Cancer                   7629 non-null   bool   \n",
            " 30  Cancer Type_Renal Cell Carcinoma              7629 non-null   bool   \n",
            " 31  Cancer Type_Skin Cancer, Non-Melanoma         7629 non-null   bool   \n",
            " 32  Cancer Type_Soft Tissue Sarcoma               7629 non-null   bool   \n",
            " 33  Cancer Type_Thyroid Cancer                    7629 non-null   bool   \n",
            " 34  Primary Tumor Site_Bladder                    7629 non-null   bool   \n",
            " 35  Primary Tumor Site_Brain                      7629 non-null   bool   \n",
            " 36  Primary Tumor Site_Breast                     7629 non-null   bool   \n",
            " 37  Primary Tumor Site_Cancer of Unknown Primary  7629 non-null   bool   \n",
            " 38  Primary Tumor Site_Cecum                      7629 non-null   bool   \n",
            " 39  Primary Tumor Site_Esophagus                  7629 non-null   bool   \n",
            " 40  Primary Tumor Site_Kidney                     7629 non-null   bool   \n",
            " 41  Primary Tumor Site_Liver                      7629 non-null   bool   \n",
            " 42  Primary Tumor Site_Lung                       7629 non-null   bool   \n",
            " 43  Primary Tumor Site_Other                      7629 non-null   bool   \n",
            " 44  Primary Tumor Site_Ovary                      7629 non-null   bool   \n",
            " 45  Primary Tumor Site_Pancreas                   7629 non-null   bool   \n",
            " 46  Primary Tumor Site_Prostate                   7629 non-null   bool   \n",
            " 47  Primary Tumor Site_Rectum                     7629 non-null   bool   \n",
            " 48  Primary Tumor Site_Sigmoid Colon              7629 non-null   bool   \n",
            " 49  Primary Tumor Site_Skin                       7629 non-null   bool   \n",
            " 50  Primary Tumor Site_Soft Tissue                7629 non-null   bool   \n",
            " 51  Primary Tumor Site_Stomach                    7629 non-null   bool   \n",
            " 52  Primary Tumor Site_Testis                     7629 non-null   bool   \n",
            " 53  Primary Tumor Site_Thyroid                    7629 non-null   bool   \n",
            " 54  Primary Tumor Site_Uterus                     7629 non-null   bool   \n",
            " 55  Smoking History_Never                         7629 non-null   bool   \n",
            " 56  Smoking History_Prev/Curr Smoker              7629 non-null   bool   \n",
            " 57  Smoking History_Unknown                       7629 non-null   bool   \n",
            " 58  Specimen Preservation Type_Cell Pellet        7629 non-null   bool   \n",
            " 59  Specimen Preservation Type_DNA                7629 non-null   bool   \n",
            " 60  Specimen Preservation Type_FFPE               7629 non-null   bool   \n",
            " 61  Specimen Preservation Type_FNA                7629 non-null   bool   \n",
            " 62  Specimen Preservation Type_Other              7629 non-null   bool   \n",
            " 63  Specimen Type_Biopsy                          7629 non-null   bool   \n",
            " 64  Specimen Type_CUSA                            7629 non-null   bool   \n",
            " 65  Specimen Type_Cytology                        7629 non-null   bool   \n",
            " 66  Specimen Type_Resection                       7629 non-null   bool   \n",
            "dtypes: bool(54), float64(4), int64(4), int8(5)\n",
            "memory usage: 916.5 KB\n"
          ]
        }
      ],
      "source": [
        "X_train_encoded.info()"
      ]
    },
    {
      "cell_type": "markdown",
      "metadata": {
        "id": "jXPhxjC2Ed1U"
      },
      "source": [
        "# Encrypted Machine Learning"
      ]
    },
    {
      "cell_type": "markdown",
      "metadata": {
        "id": "oQkDDC56Eimq"
      },
      "source": [
        "## TenSEAL"
      ]
    },
    {
      "cell_type": "code",
      "execution_count": 26,
      "metadata": {
        "colab": {
          "base_uri": "https://localhost:8080/"
        },
        "id": "7PGKyIODC0ox",
        "outputId": "3e640264-4cad-425a-e379-5d9bf4c1b354"
      },
      "outputs": [
        {
          "name": "stdout",
          "output_type": "stream",
          "text": [
            "Collecting tenseal\n",
            "  Downloading tenseal-0.3.14-cp310-cp310-manylinux_2_17_x86_64.manylinux2014_x86_64.whl (4.9 MB)\n",
            "\u001b[2K     \u001b[90m━━━━━━━━━━━━━━━━━━━━━━━━━━━━━━━━━━━━━━━━\u001b[0m \u001b[32m4.9/4.9 MB\u001b[0m \u001b[31m40.8 MB/s\u001b[0m eta \u001b[36m0:00:00\u001b[0m\n",
            "\u001b[?25hInstalling collected packages: tenseal\n",
            "Successfully installed tenseal-0.3.14\n"
          ]
        }
      ],
      "source": [
        "!pip install tenseal"
      ]
    },
    {
      "cell_type": "markdown",
      "metadata": {
        "id": "pZnG5mooEhLR"
      },
      "source": [
        "## Encrypted ML"
      ]
    },
    {
      "cell_type": "markdown",
      "metadata": {
        "id": "NRTu0eISkF9m"
      },
      "source": [
        "### Data Processing for Enc ML\n"
      ]
    },
    {
      "cell_type": "code",
      "execution_count": 18,
      "metadata": {
        "colab": {
          "base_uri": "https://localhost:8080/"
        },
        "id": "MrAN17wsEiAI",
        "outputId": "cc71e17b-4aa1-42d9-dfb8-bed07b22f793"
      },
      "outputs": [
        {
          "name": "stderr",
          "output_type": "stream",
          "text": [
            "<ipython-input-18-5ab2cb337f94>:26: SettingWithCopyWarning: \n",
            "A value is trying to be set on a copy of a slice from a DataFrame.\n",
            "Try using .loc[row_indexer,col_indexer] = value instead\n",
            "\n",
            "See the caveats in the documentation: https://pandas.pydata.org/pandas-docs/stable/user_guide/indexing.html#returning-a-view-versus-a-copy\n",
            "  X_train_encoded[non_one_hot_columns_train] = scaler.fit_transform(X_train_encoded[non_one_hot_columns_train])\n",
            "<ipython-input-18-5ab2cb337f94>:27: SettingWithCopyWarning: \n",
            "A value is trying to be set on a copy of a slice from a DataFrame.\n",
            "Try using .loc[row_indexer,col_indexer] = value instead\n",
            "\n",
            "See the caveats in the documentation: https://pandas.pydata.org/pandas-docs/stable/user_guide/indexing.html#returning-a-view-versus-a-copy\n",
            "  X_test_encoded[non_one_hot_columns_train] = scaler.transform(X_test_encoded[non_one_hot_columns_train])\n"
          ]
        }
      ],
      "source": [
        "import pandas as pd\n",
        "from sklearn.preprocessing import StandardScaler\n",
        "\n",
        "# Example DataFrames, replace these with your actual dataframes\n",
        "# X_train_encoded = pd.read_csv('path_to_train.csv')\n",
        "# X_test_encoded = pd.read_csv('path_to_test.csv')\n",
        "\n",
        "# Identifying columns that are not one-hot (assuming one-hot are close to 0 or 1)\n",
        "def identify_non_one_hot_columns(df):\n",
        "    non_one_hot_columns = []\n",
        "    for col in df.columns:\n",
        "        if df[col].dtype == 'bool' or df[col].nunique() == 2:\n",
        "            # Check if the column behaves like a one-hot encoder\n",
        "            if df[col].mean() < 0.1 or df[col].mean() > 0.9:\n",
        "                continue\n",
        "        non_one_hot_columns.append(col)\n",
        "    return non_one_hot_columns\n",
        "\n",
        "# Get non-one-hot columns for training data\n",
        "non_one_hot_columns_train = identify_non_one_hot_columns(X_train_encoded)\n",
        "\n",
        "# Initialize the StandardScaler\n",
        "scaler = StandardScaler()\n",
        "\n",
        "# Fit the scaler on the training data and transform both training and test data\n",
        "X_train_encoded[non_one_hot_columns_train] = scaler.fit_transform(X_train_encoded[non_one_hot_columns_train])\n",
        "X_test_encoded[non_one_hot_columns_train] = scaler.transform(X_test_encoded[non_one_hot_columns_train])"
      ]
    },
    {
      "cell_type": "code",
      "execution_count": 19,
      "metadata": {
        "colab": {
          "base_uri": "https://localhost:8080/"
        },
        "id": "3vgRh-zNsPdB",
        "outputId": "f07e9081-a459-4905-a4ad-f5046f96cc0a"
      },
      "outputs": [
        {
          "name": "stdout",
          "output_type": "stream",
          "text": [
            "Training Dataset - Means and Standard Deviations:\n",
            "DNA Input: Mean = -0.0000, Std Dev = 1.0001\n",
            "Fraction Genome Altered: Mean = 0.0000, Std Dev = 1.0001\n",
            "Metastatic Site: Mean = -0.0000, Std Dev = 1.0001\n",
            "Mutation Count: Mean = 0.0000, Std Dev = 1.0001\n",
            "Sample Class: Mean = 0.0000, Std Dev = 0.0000\n",
            "Sample Collection Source: Mean = -0.0000, Std Dev = 1.0001\n",
            "Number of Samples Per Patient: Mean = -0.0000, Std Dev = 1.0001\n",
            "Sample coverage: Mean = 0.0000, Std Dev = 1.0001\n",
            "Sample Type: Mean = -0.0000, Std Dev = 1.0001\n",
            "Sex: Mean = -0.0000, Std Dev = 1.0001\n",
            "Somatic Status: Mean = 0.0216, Std Dev = 0.1455\n",
            "TMB (nonsynonymous): Mean = -0.0000, Std Dev = 1.0001\n",
            "Tumor Purity: Mean = -0.0000, Std Dev = 1.0001\n",
            "Cancer Type_Bladder Cancer: Mean = 0.0375, Std Dev = 0.1900\n",
            "Cancer Type_Breast Cancer: Mean = 0.0000, Std Dev = 1.0001\n",
            "Cancer Type_Cancer of Unknown Primary: Mean = 0.0170, Std Dev = 0.1294\n",
            "Cancer Type_Colorectal Cancer: Mean = 0.0914, Std Dev = 0.2881\n",
            "Cancer Type_Endometrial Cancer: Mean = 0.0211, Std Dev = 0.1437\n",
            "Cancer Type_Esophagogastric Cancer: Mean = 0.0329, Std Dev = 0.1784\n",
            "Cancer Type_Germ Cell Tumor: Mean = 0.0262, Std Dev = 0.1598\n",
            "Cancer Type_Glioma: Mean = 0.0505, Std Dev = 0.2189\n",
            "Cancer Type_Head and Neck Cancer: Mean = 0.0190, Std Dev = 0.1366\n",
            "Cancer Type_Hepatobiliary Cancer: Mean = 0.0336, Std Dev = 0.1801\n",
            "Cancer Type_Mature B-Cell Neoplasms: Mean = 0.0132, Std Dev = 0.1143\n",
            "Cancer Type_Melanoma: Mean = 0.0325, Std Dev = 0.1774\n",
            "Cancer Type_Non-Small Cell Lung Cancer: Mean = 0.0000, Std Dev = 1.0001\n",
            "Cancer Type_Other: Mean = -0.0000, Std Dev = 1.0001\n",
            "Cancer Type_Ovarian Cancer: Mean = 0.0189, Std Dev = 0.1361\n",
            "Cancer Type_Pancreatic Cancer: Mean = 0.0472, Std Dev = 0.2121\n",
            "Cancer Type_Prostate Cancer: Mean = 0.0633, Std Dev = 0.2435\n",
            "Cancer Type_Renal Cell Carcinoma: Mean = 0.0339, Std Dev = 0.1811\n",
            "Cancer Type_Skin Cancer, Non-Melanoma: Mean = 0.0139, Std Dev = 0.1171\n",
            "Cancer Type_Soft Tissue Sarcoma: Mean = 0.0395, Std Dev = 0.1947\n",
            "Cancer Type_Thyroid Cancer: Mean = 0.0201, Std Dev = 0.1402\n",
            "Primary Tumor Site_Bladder: Mean = 0.0312, Std Dev = 0.1739\n",
            "Primary Tumor Site_Brain: Mean = 0.0566, Std Dev = 0.2311\n",
            "Primary Tumor Site_Breast: Mean = 0.0000, Std Dev = 1.0001\n",
            "Primary Tumor Site_Cancer of Unknown Primary: Mean = 0.0198, Std Dev = 0.1393\n",
            "Primary Tumor Site_Cecum: Mean = 0.0134, Std Dev = 0.1149\n",
            "Primary Tumor Site_Esophagus: Mean = 0.0135, Std Dev = 0.1154\n",
            "Primary Tumor Site_Kidney: Mean = 0.0347, Std Dev = 0.1831\n",
            "Primary Tumor Site_Liver: Mean = 0.0254, Std Dev = 0.1574\n",
            "Primary Tumor Site_Lung: Mean = 0.0000, Std Dev = 1.0001\n",
            "Primary Tumor Site_Other: Mean = -0.0000, Std Dev = 1.0001\n",
            "Primary Tumor Site_Ovary: Mean = 0.0219, Std Dev = 0.1463\n",
            "Primary Tumor Site_Pancreas: Mean = 0.0484, Std Dev = 0.2146\n",
            "Primary Tumor Site_Prostate: Mean = 0.0632, Std Dev = 0.2433\n",
            "Primary Tumor Site_Rectum: Mean = 0.0246, Std Dev = 0.1550\n",
            "Primary Tumor Site_Sigmoid Colon: Mean = 0.0239, Std Dev = 0.1526\n",
            "Primary Tumor Site_Skin: Mean = 0.0299, Std Dev = 0.1703\n",
            "Primary Tumor Site_Soft Tissue: Mean = 0.0138, Std Dev = 0.1165\n",
            "Primary Tumor Site_Stomach: Mean = 0.0237, Std Dev = 0.1522\n",
            "Primary Tumor Site_Testis: Mean = 0.0219, Std Dev = 0.1463\n",
            "Primary Tumor Site_Thyroid: Mean = 0.0202, Std Dev = 0.1406\n",
            "Primary Tumor Site_Uterus: Mean = 0.0290, Std Dev = 0.1677\n",
            "Smoking History_Never: Mean = 0.0000, Std Dev = 1.0001\n",
            "Smoking History_Prev/Curr Smoker: Mean = 0.0000, Std Dev = 1.0001\n",
            "Smoking History_Unknown: Mean = -0.0000, Std Dev = 1.0001\n",
            "Specimen Preservation Type_Cell Pellet: Mean = 0.0017, Std Dev = 0.0412\n",
            "Specimen Preservation Type_DNA: Mean = 0.0000, Std Dev = 1.0001\n",
            "Specimen Preservation Type_FFPE: Mean = 0.0000, Std Dev = 1.0001\n",
            "Specimen Preservation Type_FNA: Mean = 0.0001, Std Dev = 0.0114\n",
            "Specimen Preservation Type_Other: Mean = 0.0000, Std Dev = 0.0000\n",
            "Specimen Type_Biopsy: Mean = -0.0000, Std Dev = 1.0001\n",
            "Specimen Type_CUSA: Mean = 0.0001, Std Dev = 0.0114\n",
            "Specimen Type_Cytology: Mean = 0.0564, Std Dev = 0.2306\n",
            "Specimen Type_Resection: Mean = -0.0000, Std Dev = 1.0001\n",
            "\n",
            "Test Dataset - Means and Standard Deviations:\n",
            "DNA Input: Mean = 0.0201, Std Dev = 0.9751\n",
            "Fraction Genome Altered: Mean = 0.0051, Std Dev = 1.0090\n",
            "Metastatic Site: Mean = -0.0060, Std Dev = 0.9994\n",
            "Mutation Count: Mean = -0.0100, Std Dev = 1.0324\n",
            "Sample Class: Mean = 0.0000, Std Dev = 0.0000\n",
            "Sample Collection Source: Mean = -0.0010, Std Dev = 0.9998\n",
            "Number of Samples Per Patient: Mean = 0.0152, Std Dev = 1.0591\n",
            "Sample coverage: Mean = 0.0047, Std Dev = 0.9855\n",
            "Sample Type: Mean = 0.0073, Std Dev = 0.9992\n",
            "Sex: Mean = 0.0017, Std Dev = 1.0002\n",
            "Somatic Status: Mean = 0.0229, Std Dev = 0.1495\n",
            "TMB (nonsynonymous): Mean = -0.0105, Std Dev = 1.0227\n",
            "Tumor Purity: Mean = 0.0176, Std Dev = 0.9908\n",
            "Cancer Type_Bladder Cancer: Mean = 0.0412, Std Dev = 0.1987\n",
            "Cancer Type_Breast Cancer: Mean = 0.0130, Std Dev = 1.0150\n",
            "Cancer Type_Cancer of Unknown Primary: Mean = 0.0171, Std Dev = 0.1296\n",
            "Cancer Type_Colorectal Cancer: Mean = 0.0945, Std Dev = 0.2926\n",
            "Cancer Type_Endometrial Cancer: Mean = 0.0174, Std Dev = 0.1307\n",
            "Cancer Type_Esophagogastric Cancer: Mean = 0.0271, Std Dev = 0.1625\n",
            "Cancer Type_Germ Cell Tumor: Mean = 0.0268, Std Dev = 0.1616\n",
            "Cancer Type_Glioma: Mean = 0.0512, Std Dev = 0.2205\n",
            "Cancer Type_Head and Neck Cancer: Mean = 0.0125, Std Dev = 0.1111\n",
            "Cancer Type_Hepatobiliary Cancer: Mean = 0.0302, Std Dev = 0.1711\n",
            "Cancer Type_Mature B-Cell Neoplasms: Mean = 0.0101, Std Dev = 0.0998\n",
            "Cancer Type_Melanoma: Mean = 0.0357, Std Dev = 0.1855\n",
            "Cancer Type_Non-Small Cell Lung Cancer: Mean = -0.0191, Std Dev = 0.9816\n",
            "Cancer Type_Other: Mean = 0.0176, Std Dev = 1.0214\n",
            "Cancer Type_Ovarian Cancer: Mean = 0.0244, Std Dev = 0.1543\n",
            "Cancer Type_Pancreatic Cancer: Mean = 0.0433, Std Dev = 0.2036\n",
            "Cancer Type_Prostate Cancer: Mean = 0.0714, Std Dev = 0.2575\n",
            "Cancer Type_Renal Cell Carcinoma: Mean = 0.0311, Std Dev = 0.1736\n",
            "Cancer Type_Skin Cancer, Non-Melanoma: Mean = 0.0128, Std Dev = 0.1125\n",
            "Cancer Type_Soft Tissue Sarcoma: Mean = 0.0381, Std Dev = 0.1915\n",
            "Cancer Type_Thyroid Cancer: Mean = 0.0238, Std Dev = 0.1524\n",
            "Primary Tumor Site_Bladder: Mean = 0.0293, Std Dev = 0.1686\n",
            "Primary Tumor Site_Brain: Mean = 0.0576, Std Dev = 0.2331\n",
            "Primary Tumor Site_Breast: Mean = 0.0113, Std Dev = 1.0130\n",
            "Primary Tumor Site_Cancer of Unknown Primary: Mean = 0.0210, Std Dev = 0.1435\n",
            "Primary Tumor Site_Cecum: Mean = 0.0113, Std Dev = 0.1056\n",
            "Primary Tumor Site_Esophagus: Mean = 0.0101, Std Dev = 0.0998\n",
            "Primary Tumor Site_Kidney: Mean = 0.0317, Std Dev = 0.1753\n",
            "Primary Tumor Site_Liver: Mean = 0.0207, Std Dev = 0.1425\n",
            "Primary Tumor Site_Lung: Mean = -0.0225, Std Dev = 0.9794\n",
            "Primary Tumor Site_Other: Mean = 0.0054, Std Dev = 1.0042\n",
            "Primary Tumor Site_Ovary: Mean = 0.0256, Std Dev = 0.1580\n",
            "Primary Tumor Site_Pancreas: Mean = 0.0445, Std Dev = 0.2063\n",
            "Primary Tumor Site_Prostate: Mean = 0.0714, Std Dev = 0.2575\n",
            "Primary Tumor Site_Rectum: Mean = 0.0226, Std Dev = 0.1485\n",
            "Primary Tumor Site_Sigmoid Colon: Mean = 0.0281, Std Dev = 0.1652\n",
            "Primary Tumor Site_Skin: Mean = 0.0323, Std Dev = 0.1769\n",
            "Primary Tumor Site_Soft Tissue: Mean = 0.0134, Std Dev = 0.1151\n",
            "Primary Tumor Site_Stomach: Mean = 0.0229, Std Dev = 0.1495\n",
            "Primary Tumor Site_Testis: Mean = 0.0223, Std Dev = 0.1476\n",
            "Primary Tumor Site_Thyroid: Mean = 0.0238, Std Dev = 0.1524\n",
            "Primary Tumor Site_Uterus: Mean = 0.0290, Std Dev = 0.1678\n",
            "Smoking History_Never: Mean = 0.0008, Std Dev = 1.0003\n",
            "Smoking History_Prev/Curr Smoker: Mean = -0.0113, Std Dev = 0.9978\n",
            "Smoking History_Unknown: Mean = 0.0138, Std Dev = 1.0123\n",
            "Specimen Preservation Type_Cell Pellet: Mean = 0.0021, Std Dev = 0.0462\n",
            "Specimen Preservation Type_DNA: Mean = -0.0255, Std Dev = 0.9785\n",
            "Specimen Preservation Type_FFPE: Mean = 0.0238, Std Dev = 0.9801\n",
            "Specimen Preservation Type_FNA: Mean = 0.0000, Std Dev = 0.0000\n",
            "Specimen Preservation Type_Other: Mean = 0.0003, Std Dev = 0.0175\n",
            "Specimen Type_Biopsy: Mean = -0.0109, Std Dev = 0.9990\n",
            "Specimen Type_CUSA: Mean = 0.0000, Std Dev = 0.0000\n",
            "Specimen Type_Cytology: Mean = 0.0473, Std Dev = 0.2122\n",
            "Specimen Type_Resection: Mean = 0.0293, Std Dev = 1.0002\n"
          ]
        }
      ],
      "source": [
        "import pandas as pd\n",
        "\n",
        "# Example DataFrames, replace these with your actual dataframes\n",
        "# X_train_encoded = pd.read_csv('path_to_train.csv')\n",
        "# X_test_encoded = pd.read_csv('path_to_test.csv')\n",
        "X_train_encoded = X_train_encoded.astype(\"float32\")\n",
        "X_test_encoded = X_test_encoded.astype(\"float32\")\n",
        "\n",
        "# Compute mean and standard deviation for each column in the training dataset\n",
        "train_means = X_train_encoded.mean()\n",
        "train_stds = X_train_encoded.std()\n",
        "\n",
        "# Compute mean and standard deviation for each column in the test dataset\n",
        "test_means = X_test_encoded.mean()\n",
        "test_stds = X_test_encoded.std()\n",
        "\n",
        "# Print the results for the training dataset\n",
        "print(\"Training Dataset - Means and Standard Deviations:\")\n",
        "for col in X_train_encoded.columns:\n",
        "    print(f\"{col}: Mean = {train_means[col]:.4f}, Std Dev = {train_stds[col]:.4f}\")\n",
        "\n",
        "# Print the results for the test dataset\n",
        "print(\"\\nTest Dataset - Means and Standard Deviations:\")\n",
        "for col in X_test_encoded.columns:\n",
        "    print(f\"{col}: Mean = {test_means[col]:.4f}, Std Dev = {test_stds[col]:.4f}\")"
      ]
    },
    {
      "cell_type": "code",
      "execution_count": 20,
      "metadata": {
        "id": "Tayf7-bTsWnI"
      },
      "outputs": [],
      "source": [
        "X_train_fin = X_train_encoded.to_numpy()\n",
        "X_test_fin = X_test_encoded.to_numpy()"
      ]
    },
    {
      "cell_type": "code",
      "execution_count": 21,
      "metadata": {
        "id": "O0sA8njEsvdc"
      },
      "outputs": [],
      "source": [
        "y_train_fin = y_train_encoded.astype(\"float32\").to_numpy().reshape(-1, 1)\n",
        "y_test_fin = y_test_encoded.astype(\"float32\").to_numpy().reshape(-1, 1)"
      ]
    },
    {
      "cell_type": "code",
      "execution_count": 22,
      "metadata": {
        "colab": {
          "base_uri": "https://localhost:8080/"
        },
        "id": "mgQ02ROOKAMh",
        "outputId": "57831c9d-dbf9-4dd6-c966-5bb66c048696"
      },
      "outputs": [
        {
          "data": {
            "text/plain": [
              "(7629, 67)"
            ]
          },
          "execution_count": 22,
          "metadata": {},
          "output_type": "execute_result"
        }
      ],
      "source": [
        "X_train_fin.shape"
      ]
    },
    {
      "cell_type": "markdown",
      "metadata": {
        "id": "xogV7flikMI6"
      },
      "source": [
        "### Single Layer MLP Encrypted training and evaluation"
      ]
    },
    {
      "cell_type": "code",
      "execution_count": 27,
      "metadata": {
        "id": "w0RI07Lvs2Ao"
      },
      "outputs": [],
      "source": [
        "import torch\n",
        "import tenseal as ts\n",
        "import pandas as pd\n",
        "import random\n",
        "from time import time\n",
        "\n",
        "# those are optional and are not necessary for training\n",
        "import numpy as np\n",
        "import matplotlib.pyplot as plt\n",
        "from tqdm import tqdm\n",
        "from sklearn.model_selection import KFold\n",
        "from sklearn.metrics import accuracy_score, f1_score, roc_auc_score, confusion_matrix\n",
        "from sklearn.preprocessing import StandardScaler\n"
      ]
    },
    {
      "cell_type": "code",
      "execution_count": null,
      "metadata": {
        "id": "84I_bJbds68s"
      },
      "outputs": [],
      "source": [
        "class LR(torch.nn.Module):\n",
        "\n",
        "    def __init__(self, n_features):\n",
        "        super(LR, self).__init__()\n",
        "        self.lr = torch.nn.Linear(n_features, 1)\n",
        "\n",
        "    def forward(self, x):\n",
        "        out = torch.sigmoid(self.lr(x))\n",
        "        return out"
      ]
    },
    {
      "cell_type": "code",
      "execution_count": null,
      "metadata": {
        "id": "mgUT5tz_tAqx"
      },
      "outputs": [],
      "source": [
        "n_features = X_train_fin.shape[1]\n",
        "model = LR(n_features)\n",
        "# use gradient descent with a learning_rate=1\n",
        "optim = torch.optim.SGD(model.parameters(), lr=0.1)\n",
        "# use Binary Cross Entropy Loss\n",
        "criterion = torch.nn.BCELoss()"
      ]
    },
    {
      "cell_type": "code",
      "execution_count": null,
      "metadata": {
        "colab": {
          "base_uri": "https://localhost:8080/"
        },
        "id": "FQhUk6dhtXa_",
        "outputId": "b4ed14dc-51b7-4133-ed7c-a1fcd60fdcdd"
      },
      "outputs": [
        {
          "data": {
            "text/plain": [
              "dtype('float32')"
            ]
          },
          "execution_count": 40,
          "metadata": {},
          "output_type": "execute_result"
        }
      ],
      "source": [
        "y_train_fin.dtype"
      ]
    },
    {
      "cell_type": "code",
      "execution_count": null,
      "metadata": {
        "colab": {
          "base_uri": "https://localhost:8080/"
        },
        "id": "9Dn9o6aItD3A",
        "outputId": "55f8a262-426e-4b26-eea0-1abf906a1a7c"
      },
      "outputs": [
        {
          "name": "stdout",
          "output_type": "stream",
          "text": [
            "torch.float32 torch.float32\n",
            "Loss at epoch 1: 0.7093190550804138\n",
            "torch.float32 torch.float32\n",
            "Loss at epoch 2: 0.6454836130142212\n",
            "torch.float32 torch.float32\n",
            "Loss at epoch 3: 0.61383455991745\n",
            "torch.float32 torch.float32\n",
            "Loss at epoch 4: 0.5962717533111572\n",
            "torch.float32 torch.float32\n",
            "Loss at epoch 5: 0.5859662890434265\n"
          ]
        }
      ],
      "source": [
        "# define the number of epochs for both plain and encrypted training\n",
        "EPOCHS = 5\n",
        "\n",
        "def train(model, optim, criterion, x, y, epochs=EPOCHS):\n",
        "    for e in range(1, epochs + 1):\n",
        "        optim.zero_grad()\n",
        "        out = model(x)\n",
        "        print(out.dtype, y.dtype)\n",
        "        loss = criterion(out, y)\n",
        "        loss.backward()\n",
        "        optim.step()\n",
        "        print(f\"Loss at epoch {e}: {loss.data}\")\n",
        "    return model\n",
        "\n",
        "model = train(model, optim, criterion, torch.tensor(X_train_fin), torch.tensor(y_train_fin))"
      ]
    },
    {
      "cell_type": "code",
      "execution_count": null,
      "metadata": {
        "colab": {
          "base_uri": "https://localhost:8080/"
        },
        "id": "YdXJ6rrCtHzd",
        "outputId": "27ae4f92-5402-4c7e-b696-7ba6d956d9c7"
      },
      "outputs": [
        {
          "name": "stdout",
          "output_type": "stream",
          "text": [
            "Accuracy on plain test_set: 0.7166818976402283\n"
          ]
        }
      ],
      "source": [
        "def accuracy(model, x, y):\n",
        "    out = model(x)\n",
        "    correct = torch.abs(y - out) < 0.5\n",
        "    return correct.float().mean()\n",
        "\n",
        "plain_accuracy = accuracy(model, torch.tensor(X_test_fin), torch.tensor(y_test_fin))\n",
        "print(f\"Accuracy on plain test_set: {plain_accuracy}\")"
      ]
    },
    {
      "cell_type": "code",
      "execution_count": null,
      "metadata": {
        "colab": {
          "base_uri": "https://localhost:8080/",
          "height": 623
        },
        "id": "BL8emyMXC94n",
        "outputId": "b61862b0-a8b4-4a4d-bd10-31204429a2c8"
      },
      "outputs": [
        {
          "name": "stdout",
          "output_type": "stream",
          "text": [
            "\n",
            "Test Set Performance:\n",
            "Accuracy: 0.7166819152180542\n",
            "F1-Score: 0.14061054579093432\n",
            "ROC AUC Score: 0.634936394663357\n",
            "Confusion Matrix:\n",
            " [[2274   70]\n",
            " [ 859   76]]\n"
          ]
        },
        {
          "data": {
            "image/png": "[encoded data removed]",
            "text/plain": [
              "<Figure size 640x480 with 1 Axes>"
            ]
          },
          "metadata": {},
          "output_type": "display_data"
        }
      ],
      "source": [
        "X_test_fin = torch.tensor(X_test_fin).float()\n",
        "y_test_fin = torch.tensor(y_test_fin).float()\n",
        "\n",
        "# Use the PyTorch model to predict\n",
        "y_pred_test_prob = model(X_test_fin).detach().numpy()  # Get probabilities\n",
        "y_pred_test = (y_pred_test_prob > 0.5).astype(int)  # Convert probabilities to 0/1 predictions\n",
        "\n",
        "# Calculate evaluation metrics using sklearn\n",
        "accuracy_test = accuracy_score(y_test_fin, y_pred_test)\n",
        "f1_test = f1_score(y_test_fin, y_pred_test)\n",
        "roc_auc_test = roc_auc_score(y_test_fin, y_pred_test_prob)\n",
        "conf_matrix_test = confusion_matrix(y_test_fin, y_pred_test)\n",
        "\n",
        "print(\"\\nTest Set Performance:\")\n",
        "print(\"Accuracy:\", accuracy_test)\n",
        "print(\"F1-Score:\", f1_test)\n",
        "print(\"ROC AUC Score:\", roc_auc_test)\n",
        "print(\"Confusion Matrix:\\n\", conf_matrix_test)\n",
        "\n",
        "# Plot ROC Curve\n",
        "\n",
        "mean_fpr, mean_tpr, _ = roc_curve(y_test_fin, y_pred_test_prob)\n",
        "plt.plot(mean_fpr, mean_tpr, lw=2, label='Mean ROC curve')\n",
        "plt.plot([0, 1], [0, 1], linestyle='--', lw=2, color='r', label='Chance', alpha=.8)\n",
        "plt.xlabel('False Positive Rate')\n",
        "plt.ylabel('True Positive Rate')\n",
        "plt.title('ROC Curve')\n",
        "plt.legend(loc=\"lower right\")\n",
        "plt.show()"
      ]
    },
    {
      "cell_type": "code",
      "execution_count": null,
      "metadata": {
        "colab": {
          "base_uri": "https://localhost:8080/"
        },
        "id": "AZ5DW1Di62fS",
        "outputId": "ea96c97b-2352-4606-8fe4-2a83d82186fd"
      },
      "outputs": [
        {
          "name": "stdout",
          "output_type": "stream",
          "text": [
            "torch.float32 torch.float32\n",
            "Loss at epoch 1: 0.7042365074157715\n",
            "torch.float32 torch.float32\n",
            "Loss at epoch 2: 0.6946676969528198\n",
            "torch.float32 torch.float32\n",
            "Loss at epoch 3: 0.6858654022216797\n",
            "torch.float32 torch.float32\n",
            "Loss at epoch 4: 0.6777631640434265\n",
            "torch.float32 torch.float32\n",
            "Loss at epoch 5: 0.6703004837036133\n",
            "torch.float32 torch.float32\n",
            "Loss at epoch 1: 0.7112268209457397\n",
            "torch.float32 torch.float32\n",
            "Loss at epoch 2: 0.6985240578651428\n",
            "torch.float32 torch.float32\n",
            "Loss at epoch 3: 0.6871131062507629\n",
            "torch.float32 torch.float32\n",
            "Loss at epoch 4: 0.6768519878387451\n",
            "torch.float32 torch.float32\n",
            "Loss at epoch 5: 0.6676120758056641\n",
            "torch.float32 torch.float32\n",
            "Loss at epoch 1: 0.7108181118965149\n",
            "torch.float32 torch.float32\n",
            "Loss at epoch 2: 0.6988296508789062\n",
            "torch.float32 torch.float32\n",
            "Loss at epoch 3: 0.6880379915237427\n",
            "torch.float32 torch.float32\n",
            "Loss at epoch 4: 0.6783007979393005\n",
            "torch.float32 torch.float32\n",
            "Loss at epoch 5: 0.6694943904876709\n",
            "torch.float32 torch.float32\n",
            "Loss at epoch 1: 0.7259494662284851\n",
            "torch.float32 torch.float32\n",
            "Loss at epoch 2: 0.711969256401062\n",
            "torch.float32 torch.float32\n",
            "Loss at epoch 3: 0.6995235085487366\n",
            "torch.float32 torch.float32\n",
            "Loss at epoch 4: 0.6884191036224365\n",
            "torch.float32 torch.float32\n",
            "Loss at epoch 5: 0.678486704826355\n",
            "torch.float32 torch.float32\n",
            "Loss at epoch 1: 0.7247248291969299\n",
            "torch.float32 torch.float32\n",
            "Loss at epoch 2: 0.7121807336807251\n",
            "torch.float32 torch.float32\n",
            "Loss at epoch 3: 0.7007874250411987\n",
            "torch.float32 torch.float32\n",
            "Loss at epoch 4: 0.6904388666152954\n",
            "torch.float32 torch.float32\n",
            "Loss at epoch 5: 0.6810368299484253\n",
            "5-Fold Results:\n",
            "accuracy: Mean = 0.6203932707388866, Scores = [0.6330275229357798, 0.6277850589777195, 0.6376146788990825, 0.6028833551769331, 0.600655737704918]\n",
            "f1_score: Mean = 0.31504712697394305, Scores = [0.3926247288503254, 0.27918781725888325, 0.26948480845442535, 0.27163461538461536, 0.362303664921466]\n",
            "roc_auc_score: Mean = 0.5540952444945669, Scores = [0.5984958742051345, 0.5250973449881879, 0.5499716560774855, 0.5048623806621979, 0.5920489665398289]\n",
            "confusion_matrix: Mean = 381.45, Scores = [array([[785, 328],\n",
            "       [232, 181]]), array([[848, 219],\n",
            "       [349, 110]]), array([[871, 192],\n",
            "       [361, 102]]), array([[807, 287],\n",
            "       [319, 113]]), array([[743, 385],\n",
            "       [224, 173]])]\n"
          ]
        }
      ],
      "source": [
        "n_splits = 5\n",
        "kf = KFold(n_splits=n_splits)\n",
        "\n",
        "# Initialize the results storage\n",
        "results = {\n",
        "    \"accuracy\": [],\n",
        "    \"f1_score\": [],\n",
        "    \"roc_auc_score\": [],\n",
        "    \"confusion_matrix\": []\n",
        "}\n",
        "\n",
        "# Convert numpy arrays to PyTorch tensors\n",
        "X = torch.tensor(X_train_fin, dtype=torch.float32)\n",
        "y = torch.tensor(y_train_fin, dtype=torch.float32).view(-1, 1)\n",
        "\n",
        "for train_index, test_index in kf.split(X):\n",
        "    X_train, X_test = X[train_index], X[test_index]\n",
        "    y_train, y_test = y[train_index], y[test_index]\n",
        "\n",
        "    # Initialize model and optimizer\n",
        "    model = LR(n_features)\n",
        "    optim = torch.optim.SGD(model.parameters(), lr=0.1)\n",
        "    criterion = torch.nn.BCELoss()\n",
        "\n",
        "    # Train the model\n",
        "    trained_model = train(model, optim, criterion, X_train, y_train, EPOCHS)\n",
        "\n",
        "    # Evaluate the model\n",
        "    y_pred = trained_model(X_test)\n",
        "    y_pred_np = (y_pred.detach().numpy() > 0.5).astype(int)\n",
        "    y_test_np = y_test.detach().numpy().astype(int)\n",
        "\n",
        "    # Calculate metrics\n",
        "    results['accuracy'].append(accuracy_score(y_test_np, y_pred_np))\n",
        "    results['f1_score'].append(f1_score(y_test_np, y_pred_np))\n",
        "    results['roc_auc_score'].append(roc_auc_score(y_test_np, y_pred.detach().numpy()))\n",
        "    results['confusion_matrix'].append(confusion_matrix(y_test_np, y_pred_np))\n",
        "\n",
        "# Print results\n",
        "print(f\"{n_splits}-Fold Results:\")\n",
        "for metric, scores in results.items():\n",
        "    print(f\"{metric}: Mean = {np.mean(scores)}, Scores = {scores}\")\n"
      ]
    },
    {
      "cell_type": "code",
      "execution_count": null,
      "metadata": {
        "id": "wWf7loSquHrt"
      },
      "outputs": [],
      "source": [
        "class EncryptedLR:\n",
        "\n",
        "    def __init__(self, torch_lr):\n",
        "        self.weight = torch_lr.lr.weight.data.tolist()[0]\n",
        "        self.bias = torch_lr.lr.bias.data.tolist()\n",
        "        # we accumulate gradients and counts the number of iterations\n",
        "        self._delta_w = 0\n",
        "        self._delta_b = 0\n",
        "        self._count = 0\n",
        "\n",
        "    def forward(self, enc_x):\n",
        "        enc_out = enc_x.dot(self.weight) + self.bias\n",
        "        enc_out = EncryptedLR.sigmoid(enc_out)\n",
        "        return enc_out\n",
        "\n",
        "    def backward(self, enc_x, enc_out, enc_y):\n",
        "        out_minus_y = (enc_out - enc_y)\n",
        "        self._delta_w += enc_x * out_minus_y\n",
        "        self._delta_b += out_minus_y\n",
        "        self._count += 1\n",
        "\n",
        "    def update_parameters(self):\n",
        "        if self._count == 0:\n",
        "            raise RuntimeError(\"You should at least run one forward iteration\")\n",
        "        # update weights\n",
        "        # We use a small regularization term to keep the output\n",
        "        # of the linear layer in the range of the sigmoid approximation\n",
        "        self.weight -= self._delta_w * (1 / self._count) + self.weight * 0.05\n",
        "        self.bias -= self._delta_b * (1 / self._count)\n",
        "        # reset gradient accumulators and iterations count\n",
        "        self._delta_w = 0\n",
        "        self._delta_b = 0\n",
        "        self._count = 0\n",
        "\n",
        "    @staticmethod\n",
        "    def sigmoid(enc_x):\n",
        "        # We use the polynomial approximation of degree 3\n",
        "        # sigmoid(x) = 0.5 + 0.197 * x - 0.004 * x^3\n",
        "        # from https://eprint.iacr.org/2018/462.pdf\n",
        "        # which fits the function pretty well in the range [-5,5]\n",
        "        return enc_x.polyval([0.5, 0.197, 0, -0.004])\n",
        "\n",
        "    def plain_accuracy(self, x_test, y_test):\n",
        "        # evaluate accuracy of the model on\n",
        "        # the plain (x_test, y_test) dataset\n",
        "        w = torch.tensor(self.weight)\n",
        "        b = torch.tensor(self.bias)\n",
        "        out = torch.sigmoid(x_test.matmul(w) + b).reshape(-1, 1)\n",
        "        correct = torch.abs(y_test - out) < 0.5\n",
        "        return correct.float().mean()\n",
        "\n",
        "    def encrypt(self, context):\n",
        "        self.weight = ts.ckks_vector(context, self.weight)\n",
        "        self.bias = ts.ckks_vector(context, self.bias)\n",
        "\n",
        "    def decrypt(self):\n",
        "        self.weight = self.weight.decrypt()\n",
        "        self.bias = self.bias.decrypt()\n",
        "\n",
        "    def __call__(self, *args, **kwargs):\n",
        "        return self.forward(*args, **kwargs)"
      ]
    },
    {
      "cell_type": "code",
      "execution_count": null,
      "metadata": {
        "id": "dP4vrNdQvPq2"
      },
      "outputs": [],
      "source": [
        "# Polynomial Modulus\n",
        "poly_mod_degree = 4096\n",
        "# Coefficient Modulus\n",
        "coeff_mod_bit_sizes = [40, 20, 40]\n",
        "ctx_eval = ts.context(ts.SCHEME_TYPE.CKKS, poly_mod_degree, -1, coeff_mod_bit_sizes)\n",
        "# scale of ciphertext to use\n",
        "ctx_eval.global_scale = 2 ** 20\n",
        "# this key is needed for doing dot-product operations\n",
        "ctx_eval.generate_galois_keys()"
      ]
    },
    {
      "cell_type": "code",
      "execution_count": null,
      "metadata": {
        "id": "0uDcSj-ruQIm"
      },
      "outputs": [],
      "source": [
        "# Polynomial Modulus\n",
        "poly_mod_degree = 8192\n",
        "# Coefficient Modulus\n",
        "coeff_mod_bit_sizes = [40, 21, 21, 21, 21, 21, 21, 40]\n",
        "ctx_training = ts.context(ts.SCHEME_TYPE.CKKS, poly_mod_degree, -1, coeff_mod_bit_sizes)\n",
        "# scale of ciphertext to use\n",
        "ctx_training.global_scale = 2 ** 21\n",
        "# this key is needed for doing dot-product operations\n",
        "ctx_training.generate_galois_keys()"
      ]
    },
    {
      "cell_type": "code",
      "execution_count": null,
      "metadata": {
        "colab": {
          "base_uri": "https://localhost:8080/"
        },
        "id": "f6JpQRpjuSUB",
        "outputId": "6662a730-6883-44e2-decd-b3fae8c7287d"
      },
      "outputs": [
        {
          "name": "stdout",
          "output_type": "stream",
          "text": [
            "Encryption of the training_set took 96 seconds\n"
          ]
        }
      ],
      "source": [
        "t_start = time()\n",
        "enc_x_train = [ts.ckks_vector(ctx_training, x.tolist()) for x in X_train_fin]\n",
        "t_end = time()\n",
        "print(f\"Encryption of the training_set took {int(t_end - t_start)} seconds\")"
      ]
    },
    {
      "cell_type": "code",
      "execution_count": null,
      "metadata": {
        "id": "c-99LddRvE6V"
      },
      "outputs": [],
      "source": [
        "enc_y_train = [ts.ckks_vector(ctx_training, y.tolist()) for y in y_train_fin]\n"
      ]
    },
    {
      "cell_type": "code",
      "execution_count": null,
      "metadata": {
        "colab": {
          "base_uri": "https://localhost:8080/"
        },
        "id": "ZexCHoKnukrA",
        "outputId": "04a9abb3-056e-4bfd-eec0-e3837ca45550"
      },
      "outputs": [
        {
          "name": "stdout",
          "output_type": "stream",
          "text": [
            "Encryption of the test-set took 18 seconds\n"
          ]
        }
      ],
      "source": [
        "t_start = time()\n",
        "enc_x_test = [ts.ckks_vector(ctx_eval, x.tolist()) for x in X_test_fin]\n",
        "enc_y_test = [ts.ckks_vector(ctx_eval, y.tolist()) for y in y_test_fin]\n",
        "t_end = time()\n",
        "print(f\"Encryption of the test-set took {int(t_end - t_start)} seconds\")"
      ]
    },
    {
      "cell_type": "code",
      "execution_count": null,
      "metadata": {
        "colab": {
          "base_uri": "https://localhost:8080/",
          "height": 905
        },
        "id": "si9vFT_hvqTI",
        "outputId": "005d2ec1-03f9-484f-a8d3-ff08108e605f"
      },
      "outputs": [
        {
          "name": "stdout",
          "output_type": "stream",
          "text": [
            "Distribution on plain data:\n"
          ]
        },
        {
          "data": {
            "image/png": "[encoded data removed]",
            "text/plain": [
              "<Figure size 640x480 with 1 Axes>"
            ]
          },
          "metadata": {},
          "output_type": "display_data"
        },
        {
          "name": "stderr",
          "output_type": "stream",
          "text": [
            "100%|██████████| 3279/3279 [00:21<00:00, 150.51it/s]\n"
          ]
        },
        {
          "name": "stdout",
          "output_type": "stream",
          "text": [
            "Distribution on encrypted data:\n"
          ]
        },
        {
          "data": {
            "image/png": "[encoded data removed]",
            "text/plain": [
              "<Figure size 640x480 with 1 Axes>"
            ]
          },
          "metadata": {},
          "output_type": "display_data"
        }
      ],
      "source": [
        "normal_dist = lambda x, mean, var: np.exp(- np.square(x - mean) / (2 * var)) / np.sqrt(2 * np.pi * var)\n",
        "\n",
        "def plot_normal_dist(mean, var, rmin=-10, rmax=10):\n",
        "    x = np.arange(rmin, rmax, 0.01)\n",
        "    y = normal_dist(x, mean, var)\n",
        "    fig = plt.plot(x, y)\n",
        "\n",
        "# plain distribution\n",
        "lr = LR(n_features)\n",
        "data = lr.lr(torch.tensor(X_test_fin))\n",
        "mean, var = map(float, [data.mean(), data.std() ** 2])\n",
        "plot_normal_dist(mean, var)\n",
        "print(\"Distribution on plain data:\")\n",
        "plt.show()\n",
        "\n",
        "# encrypted distribution\n",
        "def encrypted_out_distribution(eelr, enc_x_test):\n",
        "    w = eelr.weight\n",
        "    b = eelr.bias\n",
        "    data = []\n",
        "    for enc_x in tqdm(enc_x_test):\n",
        "        enc_out = enc_x.dot(w) + b\n",
        "        data.append(enc_out.decrypt())\n",
        "    data = torch.tensor(data)\n",
        "    mean, var = map(float, [data.mean(), data.std() ** 2])\n",
        "    plot_normal_dist(mean, var)\n",
        "    print(\"Distribution on encrypted data:\")\n",
        "    plt.show()\n",
        "\n",
        "eelr = EncryptedLR(lr)\n",
        "eelr.encrypt(ctx_eval)\n",
        "encrypted_out_distribution(eelr, enc_x_test)"
      ]
    },
    {
      "cell_type": "code",
      "execution_count": null,
      "metadata": {
        "colab": {
          "base_uri": "https://localhost:8080/"
        },
        "id": "ppsBTCahwG0v",
        "outputId": "ae9dc1bc-dfe0-4ea3-d1ee-fe0cdbc84efa"
      },
      "outputs": [
        {
          "name": "stdout",
          "output_type": "stream",
          "text": [
            "Accuracy at epoch #0 is 0.5215004682540894\n",
            "<zip object at 0x7bb448243140>\n"
          ]
        },
        {
          "name": "stderr",
          "output_type": "stream",
          "text": [
            "7629it [22:48,  5.57it/s]\n"
          ]
        },
        {
          "name": "stdout",
          "output_type": "stream",
          "text": [
            "Accuracy at epoch #1 is 0.7108874917030334\n",
            "<zip object at 0x7bb448243140>\n"
          ]
        },
        {
          "name": "stderr",
          "output_type": "stream",
          "text": [
            "7629it [22:43,  5.60it/s]\n"
          ]
        },
        {
          "name": "stdout",
          "output_type": "stream",
          "text": [
            "Accuracy at epoch #2 is 0.7148520946502686\n",
            "<zip object at 0x7bb448150e80>\n"
          ]
        },
        {
          "name": "stderr",
          "output_type": "stream",
          "text": [
            "7629it [22:42,  5.60it/s]\n"
          ]
        },
        {
          "name": "stdout",
          "output_type": "stream",
          "text": [
            "Accuracy at epoch #3 is 0.7148520946502686\n",
            "<zip object at 0x7bb4482c5b80>\n"
          ]
        },
        {
          "name": "stderr",
          "output_type": "stream",
          "text": [
            "7629it [22:40,  5.61it/s]\n"
          ]
        },
        {
          "name": "stdout",
          "output_type": "stream",
          "text": [
            "Accuracy at epoch #4 is 0.7145470976829529\n",
            "<zip object at 0x7bb448152800>\n"
          ]
        },
        {
          "name": "stderr",
          "output_type": "stream",
          "text": [
            "7629it [22:36,  5.63it/s]\n"
          ]
        },
        {
          "name": "stdout",
          "output_type": "stream",
          "text": [
            "Accuracy at epoch #5 is 0.7044830918312073\n",
            "\n",
            "Average time per epoch: 1362 seconds\n",
            "Final accuracy is 0.7044830918312073\n",
            "Difference between plain and encrypted accuracies: 0.010673940181732178\n"
          ]
        }
      ],
      "source": [
        "eelr = EncryptedLR(LR(n_features))\n",
        "accuracy = eelr.plain_accuracy(torch.tensor(X_test_fin), torch.tensor(y_test_fin))\n",
        "print(f\"Accuracy at epoch #0 is {accuracy}\")\n",
        "\n",
        "times = []\n",
        "for epoch in range(EPOCHS):\n",
        "    eelr.encrypt(ctx_training)\n",
        "\n",
        "    # if you want to keep an eye on the distribution to make sure\n",
        "    # the function approximation is still working fine\n",
        "    # WARNING: this operation is time consuming\n",
        "    # encrypted_out_distribution(eelr, enc_x_train)\n",
        "\n",
        "    t_start = time()\n",
        "    print(zip(enc_x_train, enc_y_train))\n",
        "    for enc_x, enc_y in tqdm(zip(enc_x_train, enc_y_train)):\n",
        "        enc_out = eelr.forward(enc_x)\n",
        "        eelr.backward(enc_x, enc_out, enc_y)\n",
        "    eelr.update_parameters()\n",
        "    t_end = time()\n",
        "    times.append(t_end - t_start)\n",
        "\n",
        "    eelr.decrypt()\n",
        "    accuracy = eelr.plain_accuracy(torch.tensor(X_test_fin), torch.tensor(y_test_fin))\n",
        "    print(f\"Accuracy at epoch #{epoch + 1} is {accuracy}\")\n",
        "\n",
        "\n",
        "print(f\"\\nAverage time per epoch: {int(sum(times) / len(times))} seconds\")\n",
        "print(f\"Final accuracy is {accuracy}\")\n",
        "\n",
        "diff_accuracy = plain_accuracy - accuracy\n",
        "print(f\"Difference between plain and encrypted accuracies: {diff_accuracy}\")\n",
        "if diff_accuracy < 0:\n",
        "    print(\"Oh! We got a better accuracy when training on encrypted data! The noise was on our side...\")"
      ]
    },
    {
      "cell_type": "code",
      "execution_count": null,
      "metadata": {
        "colab": {
          "base_uri": "https://localhost:8080/",
          "height": 623
        },
        "id": "zBxqxDLFxL_f",
        "outputId": "ecf84f50-21f1-441f-c895-2bf7fb0fbd9e"
      },
      "outputs": [
        {
          "name": "stdout",
          "output_type": "stream",
          "text": [
            "\n",
            "Test Set Performance:\n",
            "Accuracy: 0.7044830741079597\n",
            "F1-Score: 0.21791767554479421\n",
            "ROC AUC Score: 0.6110693362048512\n",
            "Confusion Matrix:\n",
            " [[2175  169]\n",
            " [ 800  135]]\n"
          ]
        },
        {
          "data": {
            "image/png": "[encoded data removed]",
            "text/plain": [
              "<Figure size 640x480 with 1 Axes>"
            ]
          },
          "metadata": {},
          "output_type": "display_data"
        }
      ],
      "source": [
        "import torch\n",
        "import numpy as np\n",
        "from sklearn.metrics import accuracy_score, f1_score, roc_auc_score, confusion_matrix, roc_curve\n",
        "import matplotlib.pyplot as plt\n",
        "\n",
        "# Assuming `eelr` is your instance of EncryptedLR and it's already decrypted\n",
        "# Instantiate the PyTorch model\n",
        "n_features = len(eelr.weight)  # Assuming the number of features is the length of the weight vector\n",
        "pytorch_lr_model = LR(n_features)\n",
        "\n",
        "# Convert list weights and biases from EncryptedLR to PyTorch tensors and assign them\n",
        "pytorch_lr_model.lr.weight.data = torch.tensor([eelr.weight], dtype=torch.float32)\n",
        "pytorch_lr_model.lr.bias.data = torch.tensor(eelr.bias, dtype=torch.float32)\n",
        "\n",
        "# # Convert numpy arrays to PyTorch tensors\n",
        "X_test_fin = torch.from_numpy(X_test_fin).float()\n",
        "y_test_fin = torch.from_numpy(y_test_fin).float()\n",
        "\n",
        "# Use the PyTorch model to predict\n",
        "y_pred_test_prob = pytorch_lr_model(X_test_fin).detach().numpy()  # Get probabilities\n",
        "y_pred_test = (y_pred_test_prob > 0.5).astype(int)  # Convert probabilities to 0/1 predictions\n",
        "\n",
        "# Calculate evaluation metrics using sklearn\n",
        "accuracy_test = accuracy_score(y_test_fin, y_pred_test)\n",
        "f1_test = f1_score(y_test_fin, y_pred_test)\n",
        "roc_auc_test = roc_auc_score(y_test_fin, y_pred_test_prob)\n",
        "conf_matrix_test = confusion_matrix(y_test_fin, y_pred_test)\n",
        "\n",
        "print(\"\\nTest Set Performance:\")\n",
        "print(\"Accuracy:\", accuracy_test)\n",
        "print(\"F1-Score:\", f1_test)\n",
        "print(\"ROC AUC Score:\", roc_auc_test)\n",
        "print(\"Confusion Matrix:\\n\", conf_matrix_test)\n",
        "\n",
        "# Plot ROC Curve\n",
        "mean_fpr, mean_tpr, _ = roc_curve(y_test_fin, y_pred_test_prob)\n",
        "plt.plot(mean_fpr, mean_tpr, lw=2, label='Mean ROC curve')\n",
        "plt.plot([0, 1], [0, 1], linestyle='--', lw=2, color='r', label='Chance', alpha=.8)\n",
        "plt.xlabel('False Positive Rate')\n",
        "plt.ylabel('True Positive Rate')\n",
        "plt.title('ROC Curve')\n",
        "plt.legend(loc=\"lower right\")\n",
        "plt.show()"
      ]
    },
    {
      "cell_type": "code",
      "execution_count": null,
      "metadata": {
        "id": "7X2bUFdxJ3rq"
      },
      "outputs": [],
      "source": [
        "import pickle\n",
        "\n",
        "# Function to save model parameters to a file\n",
        "def save_model_parameters(model, filename):\n",
        "    # Gather the parameters in a dictionary\n",
        "    model_parameters = {\n",
        "        'weights': model.weight,\n",
        "        'biases': model.bias\n",
        "    }\n",
        "\n",
        "    # Use pickle to serialize the dictionary and save it to a file\n",
        "    with open(filename, 'wb') as file:\n",
        "        pickle.dump(model_parameters, file)\n",
        "\n",
        "# Assuming `eelr` is your instance of EncryptedLR\n",
        "save_model_parameters(eelr, 'encrypted_model.pkl')"
      ]
    },
    {
      "cell_type": "code",
      "execution_count": null,
      "metadata": {
        "colab": {
          "background_save": true,
          "base_uri": "https://localhost:8080/"
        },
        "id": "5WhnQgjJCH1w",
        "outputId": "b5223691-229f-4f20-b95e-e4cc7528cc17"
      },
      "outputs": [
        {
          "name": "stderr",
          "output_type": "stream",
          "text": [
            "6103it [17:41,  5.75it/s]\n"
          ]
        },
        {
          "name": "stdout",
          "output_type": "stream",
          "text": [
            "Accuracy at epoch #1 is 0.7149410247802734\n"
          ]
        },
        {
          "name": "stderr",
          "output_type": "stream",
          "text": [
            "6103it [17:40,  5.75it/s]\n"
          ]
        },
        {
          "name": "stdout",
          "output_type": "stream",
          "text": [
            "Accuracy at epoch #2 is 0.7287024855613708\n"
          ]
        },
        {
          "name": "stderr",
          "output_type": "stream",
          "text": [
            "6103it [17:40,  5.75it/s]\n"
          ]
        },
        {
          "name": "stdout",
          "output_type": "stream",
          "text": [
            "Accuracy at epoch #3 is 0.7247706651687622\n"
          ]
        },
        {
          "name": "stderr",
          "output_type": "stream",
          "text": [
            "6103it [17:38,  5.77it/s]\n"
          ]
        },
        {
          "name": "stdout",
          "output_type": "stream",
          "text": [
            "Accuracy at epoch #4 is 0.7306684255599976\n"
          ]
        },
        {
          "name": "stderr",
          "output_type": "stream",
          "text": [
            "6103it [17:37,  5.77it/s]\n"
          ]
        },
        {
          "name": "stdout",
          "output_type": "stream",
          "text": [
            "Accuracy at epoch #5 is 0.69986891746521\n"
          ]
        },
        {
          "name": "stderr",
          "output_type": "stream",
          "text": [
            "6103it [17:37,  5.77it/s]\n"
          ]
        },
        {
          "name": "stdout",
          "output_type": "stream",
          "text": [
            "Accuracy at epoch #1 is 0.6972476840019226\n"
          ]
        },
        {
          "name": "stderr",
          "output_type": "stream",
          "text": [
            "6103it [17:36,  5.77it/s]\n"
          ]
        },
        {
          "name": "stdout",
          "output_type": "stream",
          "text": [
            "Accuracy at epoch #2 is 0.697903037071228\n"
          ]
        },
        {
          "name": "stderr",
          "output_type": "stream",
          "text": [
            "6103it [17:38,  5.77it/s]\n"
          ]
        },
        {
          "name": "stdout",
          "output_type": "stream",
          "text": [
            "Accuracy at epoch #3 is 0.6788991093635559\n"
          ]
        },
        {
          "name": "stderr",
          "output_type": "stream",
          "text": [
            "6103it [17:38,  5.77it/s]\n"
          ]
        },
        {
          "name": "stdout",
          "output_type": "stream",
          "text": [
            "Accuracy at epoch #4 is 0.6920052170753479\n"
          ]
        },
        {
          "name": "stderr",
          "output_type": "stream",
          "text": [
            "6103it [17:40,  5.75it/s]\n"
          ]
        },
        {
          "name": "stdout",
          "output_type": "stream",
          "text": [
            "Accuracy at epoch #5 is 0.6651375889778137\n"
          ]
        },
        {
          "name": "stderr",
          "output_type": "stream",
          "text": [
            "6103it [17:40,  5.75it/s]\n"
          ]
        },
        {
          "name": "stdout",
          "output_type": "stream",
          "text": [
            "Accuracy at epoch #1 is 0.6513761281967163\n"
          ]
        },
        {
          "name": "stderr",
          "output_type": "stream",
          "text": [
            "6103it [17:35,  5.78it/s]\n"
          ]
        },
        {
          "name": "stdout",
          "output_type": "stream",
          "text": [
            "Accuracy at epoch #2 is 0.6841415762901306\n"
          ]
        },
        {
          "name": "stderr",
          "output_type": "stream",
          "text": [
            "6103it [17:34,  5.79it/s]\n"
          ]
        },
        {
          "name": "stdout",
          "output_type": "stream",
          "text": [
            "Accuracy at epoch #3 is 0.6448230743408203\n"
          ]
        },
        {
          "name": "stderr",
          "output_type": "stream",
          "text": [
            "6103it [17:35,  5.78it/s]\n"
          ]
        },
        {
          "name": "stdout",
          "output_type": "stream",
          "text": [
            "Accuracy at epoch #4 is 0.6651375889778137\n"
          ]
        },
        {
          "name": "stderr",
          "output_type": "stream",
          "text": [
            "6103it [17:38,  5.77it/s]\n"
          ]
        },
        {
          "name": "stdout",
          "output_type": "stream",
          "text": [
            "Accuracy at epoch #5 is 0.6461336612701416\n"
          ]
        },
        {
          "name": "stderr",
          "output_type": "stream",
          "text": [
            "6103it [17:38,  5.76it/s]\n"
          ]
        },
        {
          "name": "stdout",
          "output_type": "stream",
          "text": [
            "Accuracy at epoch #1 is 0.6618610620498657\n"
          ]
        },
        {
          "name": "stderr",
          "output_type": "stream",
          "text": [
            "6103it [17:38,  5.77it/s]\n"
          ]
        },
        {
          "name": "stdout",
          "output_type": "stream",
          "text": [
            "Accuracy at epoch #2 is 0.7188728451728821\n"
          ]
        },
        {
          "name": "stderr",
          "output_type": "stream",
          "text": [
            "6103it [17:37,  5.77it/s]\n"
          ]
        },
        {
          "name": "stdout",
          "output_type": "stream",
          "text": [
            "Accuracy at epoch #3 is 0.6664482355117798\n"
          ]
        },
        {
          "name": "stderr",
          "output_type": "stream",
          "text": [
            "6103it [17:37,  5.77it/s]\n"
          ]
        },
        {
          "name": "stdout",
          "output_type": "stream",
          "text": [
            "Accuracy at epoch #4 is 0.7083879709243774\n"
          ]
        },
        {
          "name": "stderr",
          "output_type": "stream",
          "text": [
            "6103it [17:39,  5.76it/s]\n"
          ]
        },
        {
          "name": "stdout",
          "output_type": "stream",
          "text": [
            "Accuracy at epoch #5 is 0.6539973616600037\n"
          ]
        },
        {
          "name": "stderr",
          "output_type": "stream",
          "text": [
            "6104it [17:42,  5.74it/s]\n"
          ]
        },
        {
          "name": "stdout",
          "output_type": "stream",
          "text": [
            "Accuracy at epoch #1 is 0.6832786798477173\n"
          ]
        },
        {
          "name": "stderr",
          "output_type": "stream",
          "text": [
            "6104it [17:42,  5.75it/s]\n"
          ]
        },
        {
          "name": "stdout",
          "output_type": "stream",
          "text": [
            "Accuracy at epoch #2 is 0.7095081806182861\n"
          ]
        },
        {
          "name": "stderr",
          "output_type": "stream",
          "text": [
            "6104it [17:43,  5.74it/s]\n"
          ]
        },
        {
          "name": "stdout",
          "output_type": "stream",
          "text": [
            "Accuracy at epoch #3 is 0.6826229691505432\n"
          ]
        },
        {
          "name": "stderr",
          "output_type": "stream",
          "text": [
            "6104it [17:44,  5.74it/s]\n"
          ]
        },
        {
          "name": "stdout",
          "output_type": "stream",
          "text": [
            "Accuracy at epoch #4 is 0.6990163922309875\n"
          ]
        },
        {
          "name": "stderr",
          "output_type": "stream",
          "text": [
            "6104it [17:52,  5.69it/s]\n"
          ]
        },
        {
          "name": "stdout",
          "output_type": "stream",
          "text": [
            "Accuracy at epoch #5 is 0.6996721029281616\n",
            "accuracy: Mean = 0.6730930107642394, Scores = [0.700524246395806, 0.6651376146788991, 0.6461336828309305, 0.653997378768021, 0.699672131147541]\n",
            "f1_score: Mean = 0.2754619679574886, Scores = [0.14897579143389197, 0.32317880794701986, 0.31645569620253167, 0.25633802816901413, 0.3323615160349854]\n",
            "roc_auc_score: Mean = 0.61051755643248, Scores = [0.5954763101275048, 0.6188343920302684, 0.6085551914078293, 0.6003897521836279, 0.6293321364131697]\n",
            "confusion_matrix: Mean = 381.45, Scores = [array([[1029,   84],\n",
            "       [ 373,   40]]), array([[893, 174],\n",
            "       [337, 122]]), array([[861, 202],\n",
            "       [338, 125]]), array([[907, 187],\n",
            "       [341,  91]]), array([[953, 175],\n",
            "       [283, 114]])]\n"
          ]
        }
      ],
      "source": [
        "import torch\n",
        "import numpy as np\n",
        "import tenseal as ts\n",
        "from sklearn.model_selection import KFold\n",
        "from sklearn.metrics import accuracy_score, f1_score, roc_auc_score, confusion_matrix\n",
        "import matplotlib.pyplot as plt\n",
        "from time import time\n",
        "\n",
        "n_splits = 5\n",
        "kf = KFold(n_splits=n_splits)\n",
        "\n",
        "results = {\n",
        "    \"accuracy\": [],\n",
        "    \"f1_score\": [],\n",
        "    \"roc_auc_score\": [],\n",
        "    \"confusion_matrix\": []\n",
        "}\n",
        "\n",
        "# Assume enc_x_train and enc_y_train are already defined and encrypted\n",
        "for train_index, test_index in kf.split(X_train_fin):\n",
        "    enc_x_train_fold = [enc_x_train[i] for i in train_index]\n",
        "    enc_y_train_fold = [enc_y_train[i] for i in train_index]\n",
        "    X_test_fold = X_train_fin[test_index]\n",
        "    y_test_fold = y_train_fin[test_index]\n",
        "\n",
        "    # Initialize the model from the plain Logistic Regression weights\n",
        "      # Assuming LR is your logistic regression model\n",
        "    torch_lr = LR(n_features)\n",
        "    eelr = EncryptedLR(torch_lr)\n",
        "    eelr.encrypt(ctx_training)  # This assumes you only need to encrypt model parameters\n",
        "\n",
        "    # Train on encrypted data\n",
        "    for epoch in range(EPOCHS):\n",
        "        for enc_x, enc_y in tqdm(zip(enc_x_train_fold, enc_y_train_fold)):\n",
        "            enc_out = eelr(enc_x)\n",
        "            eelr.backward(enc_x, enc_out, enc_y)\n",
        "        eelr.update_parameters()\n",
        "        eelr.decrypt()\n",
        "        plain_accuracy = eelr.plain_accuracy(torch.tensor(X_test_fold), torch.tensor(y_test_fold))\n",
        "        eelr.encrypt(ctx_training)\n",
        "        print(f\"Accuracy at epoch #{epoch + 1} is {plain_accuracy}\")\n",
        "    # Decrypt the model for evaluation\n",
        "\n",
        "    # Evaluate on the plain test set\n",
        "    eelr.decrypt()\n",
        "    pytorch_lr = LR(n_features)\n",
        "    pytorch_lr_model.lr.weight.data = torch.tensor([eelr.weight], dtype=torch.float32)\n",
        "    pytorch_lr_model.lr.bias.data = torch.tensor(eelr.bias, dtype=torch.float32)\n",
        "\n",
        "    # # Convert numpy arrays to PyTorch tensors\n",
        "    X_test_fold = torch.tensor(X_test_fold).float()\n",
        "    y_test_fold = torch.tensor(y_test_fold).float()\n",
        "    y_test_np = y_test_fold.detach().numpy()\n",
        "\n",
        "    # Use the PyTorch model to predict\n",
        "    y_pred_test_prob = pytorch_lr_model(X_test_fold).detach().numpy()  # Get probabilities\n",
        "    y_pred_test = (y_pred_test_prob > 0.5).astype(int)  # Convert probabilities to 0/1 predictions\n",
        "\n",
        "    # Calculate evaluation metrics using sklearn\n",
        "    results['accuracy'].append(accuracy_score(y_test_np, y_pred_test))\n",
        "    results['f1_score'].append(f1_score(y_test_np, y_pred_test))\n",
        "    results['roc_auc_score'].append(roc_auc_score(y_test_np, y_pred_test_prob))\n",
        "    results['confusion_matrix'].append(confusion_matrix(y_test_np, y_pred_test))\n",
        "\n",
        "# Print results\n",
        "for metric, scores in results.items():\n",
        "    print(f\"{metric}: Mean = {np.mean(scores)}, Scores = {scores}\")"
      ]
    },
    {
      "cell_type": "markdown",
      "metadata": {
        "id": "374io-3i8ath"
      },
      "source": [
        "5-Fold Results (Unecrypted):\n",
        "accuracy: Mean = 0.7175278774466622, Scores = [0.7359108781127129, 0.7051114023591087, 0.7024901703800787, 0.7064220183486238, 0.7377049180327869]\n",
        "f1_score: Mean = 0.1490155371686161, Scores = [0.14437367303609341, 0.16666666666666669, 0.16236162361623618, 0.14503816793893132, 0.12663755458515286]\n",
        "roc_auc_score: Mean = 0.6352012366796125, Scores = [0.6400301086216387, 0.6209579114369896, 0.6462231469271733, 0.6265848229399418, 0.642210193472319]\n",
        "confusion_matrix: Mean = 381.45, Scores = [array([[1089,   24],\n",
        "       [ 379,   34]]), array([[1031,   36],\n",
        "       [ 414,   45]]), array([[1028,   35],\n",
        "       [ 419,   44]]), array([[1040,   54],\n",
        "       [ 394,   38]]), array([[1096,   32],\n",
        "       [ 368,   29]])]"
      ]
    },
    {
      "cell_type": "code",
      "execution_count": 28,
      "metadata": {
        "colab": {
          "base_uri": "https://localhost:8080/",
          "height": 507
        },
        "id": "NvBhHOHdEHF8",
        "outputId": "0898dce7-a430-4f1e-db68-a5b36f5b2dc6"
      },
      "outputs": [
        {
          "name": "stdout",
          "output_type": "stream",
          "text": [
            "[0.6730930107642394, 0.2754619679574886, 0.61051755643248] [0.022863329501408604, 0.06864316290794006, 0.012294881536723945]\n"
          ]
        },
        {
          "data": {
            "text/plain": [
              "<matplotlib.legend.Legend at 0x7e7830067f40>"
            ]
          },
          "execution_count": 28,
          "metadata": {},
          "output_type": "execute_result"
        },
        {
          "data": {
            "image/png": "[encoded data removed]",
            "text/plain": [
              "<Figure size 640x480 with 1 Axes>"
            ]
          },
          "metadata": {},
          "output_type": "display_data"
        }
      ],
      "source": [
        "encrypted_accuracy = [0.700524246395806, 0.6651376146788991, 0.6461336828309305, 0.653997378768021, 0.699672131147541]\n",
        "encrypted_f1 = [0.14897579143389197, 0.32317880794701986, 0.31645569620253167, 0.25633802816901413, 0.3323615160349854]\n",
        "encrypted_rocauc = [0.5954763101275048, 0.6188343920302684, 0.6085551914078293, 0.6003897521836279, 0.6293321364131697]\n",
        "\n",
        "unencrypted_accuracy = [0.6330275229357798, 0.6277850589777195, 0.6376146788990825, 0.6028833551769331, 0.600655737704918]\n",
        "unencrypted_f1 = [0.3926247288503254, 0.27918781725888325, 0.26948480845442535, 0.27163461538461536, 0.362303664921466]\n",
        "unencrypted_rocauc = [0.5984958742051345, 0.5250973449881879, 0.5499716560774855, 0.5048623806621979, 0.5920489665398289]\n",
        "\n",
        "# Set up the data\n",
        "encrypted_avg = [np.mean(encrypted_accuracy), np.mean(encrypted_f1), np.mean(encrypted_rocauc)]\n",
        "encrypted_std = [np.std(encrypted_accuracy), np.std(encrypted_f1), np.std(encrypted_rocauc)]\n",
        "print(encrypted_avg, encrypted_std)\n",
        "\n",
        "unencrypted_avg = [np.mean(unencrypted_accuracy), np.mean(unencrypted_f1), np.mean(unencrypted_rocauc)]\n",
        "unencrypted_std = [np.std(unencrypted_accuracy), np.std(unencrypted_f1), np.std(unencrypted_rocauc)]\n",
        "\n",
        "# Set up the data\n",
        "categories = ['Accuracy', 'F1 Score', 'ROC-AUC Score']\n",
        "bar_width = 0.35\n",
        "index = np.arange(len(categories))\n",
        "\n",
        "# Define colors\n",
        "encrypted_color = '#66c2a5'  # greenish\n",
        "unencrypted_color = '#fc8d62'  # orangish\n",
        "\n",
        "# Plotting\n",
        "fig, ax = plt.subplots()\n",
        "bar1 = ax.bar(index - bar_width/2, encrypted_avg, bar_width, yerr=encrypted_std, capsize=5, label='Encrypted', color=encrypted_color)\n",
        "bar2 = ax.bar(index + bar_width/2, unencrypted_avg, bar_width, yerr=unencrypted_std, capsize=5, label='Unencrypted', color=unencrypted_color)\n",
        "\n",
        "# Add labels, title, and legend\n",
        "ax.set_xlabel('Metrics')\n",
        "ax.set_ylabel('Scores')\n",
        "ax.set_title('Comparison of Encrypted vs. Unencrypted Scores')\n",
        "ax.set_xticks(index)\n",
        "ax.set_xticklabels(categories)\n",
        "ax.legend()\n",
        "\n",
        "# Display the"
      ]
    },
    {
      "cell_type": "markdown",
      "metadata": {
        "id": "mIPeaIXGkuoa"
      },
      "source": [
        "### 2 Layer MLP Encrypted Training and Evaluation"
      ]
    },
    {
      "cell_type": "markdown",
      "metadata": {},
      "source": [
        "!!!!!!!!\n",
        "**This part cannot finish execution due to high demand of time and resources**\n",
        "!!!!!!!!"
      ]
    },
    {
      "cell_type": "code",
      "execution_count": null,
      "metadata": {
        "colab": {
          "base_uri": "https://localhost:8080/",
          "height": 464
        },
        "id": "lBmZif4Ukzc2",
        "outputId": "9d7f5992-0b7e-42cd-b101-72fc321c4e41"
      },
      "outputs": [],
      "source": [
        "import torch\n",
        "import tenseal as ts\n",
        "import pandas as pd\n",
        "import random\n",
        "from time import time\n",
        "\n",
        "# those are optional and are not necessary for training\n",
        "import numpy as np\n",
        "import matplotlib.pyplot as plt\n",
        "from tqdm import tqdm"
      ]
    },
    {
      "cell_type": "code",
      "execution_count": null,
      "metadata": {
        "id": "II9oDYUDTg7Q"
      },
      "outputs": [],
      "source": [
        "# parameters\n",
        "poly_mod_degree = 16384\n",
        "coeff_mod_bit_sizes = [40, 21, 21, 21, 40]\n",
        "# create TenSEALContext\n",
        "ctx_eval = ts.context(ts.SCHEME_TYPE.CKKS, poly_mod_degree, -1, coeff_mod_bit_sizes)\n",
        "# scale of ciphertext to use\n",
        "ctx_eval.global_scale = 2 ** 20\n",
        "# this key is needed for doing dot-product operations\n",
        "ctx_eval.generate_galois_keys()"
      ]
    },
    {
      "cell_type": "code",
      "execution_count": null,
      "metadata": {
        "id": "Vh3CuoQnTjiM"
      },
      "outputs": [],
      "source": [
        "# parameters\n",
        "poly_mod_degree = 8192\n",
        "coeff_mod_bit_sizes = [40, 21, 21, 21, 21, 21, 21, 40]\n",
        "# create TenSEALContext\n",
        "ctx_training = ts.context(ts.SCHEME_TYPE.CKKS, poly_mod_degree, -1, coeff_mod_bit_sizes)\n",
        "ctx_training.global_scale = 2 ** 21\n",
        "ctx_training.generate_galois_keys()"
      ]
    },
    {
      "cell_type": "code",
      "execution_count": null,
      "metadata": {
        "id": "DW0eZKF6TFHT"
      },
      "outputs": [],
      "source": [
        "t_start = time()\n",
        "enc_x_train = [ts.ckks_vector(ctx_training, x.tolist()) for x in X_train_fin[:100]]\n",
        "t_end = time()\n",
        "print(f\"Encryption of the training_set took {int(t_end - t_start)} seconds\")"
      ]
    },
    {
      "cell_type": "code",
      "execution_count": null,
      "metadata": {
        "id": "AIkQcveoTE8G"
      },
      "outputs": [],
      "source": [
        "enc_y_train = [ts.ckks_vector(ctx_training, y.tolist()) for y in y_train_fin[:100]]"
      ]
    },
    {
      "cell_type": "code",
      "execution_count": null,
      "metadata": {
        "id": "_F8TIY_lk586"
      },
      "outputs": [],
      "source": [
        "class MLP2(torch.nn.Module):\n",
        "\n",
        "    def __init__(self, n_features, n_hidden):\n",
        "        super(MLP2, self).__init__()\n",
        "        self.h1 = torch.nn.Linear(n_features, n_hidden)\n",
        "        self.h2 = torch.nn.Linear(n_hidden, 1) # second linear layer added\n",
        "\n",
        "    def forward(self, x):\n",
        "        o1 = torch.sigmoid(self.h1(x))\n",
        "        out = torch.sigmoid(self.h2(o1))\n",
        "        return out"
      ]
    },
    {
      "cell_type": "code",
      "execution_count": null,
      "metadata": {
        "id": "iP59najnlJHy"
      },
      "outputs": [],
      "source": [
        "n_features = X_train_fin.shape[1]\n",
        "NUM_HIDDEN = 5\n",
        "model = MLP2(n_features, NUM_HIDDEN)\n",
        "# use gradient descent with a learning_rate=1\n",
        "optim = torch.optim.SGD(model.parameters(), lr=1)\n",
        "# use Binary Cross Entropy Loss\n",
        "criterion = torch.nn.BCELoss()"
      ]
    },
    {
      "cell_type": "code",
      "execution_count": null,
      "metadata": {
        "id": "9SuHuvFQgKAQ"
      },
      "outputs": [],
      "source": [
        "def accuracy(model, x, y):\n",
        "    out = model(x)\n",
        "    correct = torch.abs(y - out) < 0.5\n",
        "    return correct.float().mean()"
      ]
    },
    {
      "cell_type": "code",
      "execution_count": null,
      "metadata": {
        "colab": {
          "base_uri": "https://localhost:8080/"
        },
        "id": "bBE9qDealbL5",
        "outputId": "548e5195-63f3-45a7-eb56-62a143e2db8e"
      },
      "outputs": [
        {
          "name": "stdout",
          "output_type": "stream",
          "text": [
            "torch.float32 torch.float32\n",
            "Loss at epoch 1: 0.8058459162712097\n",
            "Accuracy on plain test_set: 0.7148520946502686\n",
            "torch.float32 torch.float32\n",
            "Loss at epoch 2: 0.6366924047470093\n",
            "Accuracy on plain test_set: 0.7148520946502686\n",
            "torch.float32 torch.float32\n",
            "Loss at epoch 3: 0.6044758558273315\n",
            "Accuracy on plain test_set: 0.7148520946502686\n",
            "torch.float32 torch.float32\n",
            "Loss at epoch 4: 0.5971039533615112\n",
            "Accuracy on plain test_set: 0.7148520946502686\n",
            "torch.float32 torch.float32\n",
            "Loss at epoch 5: 0.594877302646637\n",
            "Accuracy on plain test_set: 0.7148520946502686\n"
          ]
        }
      ],
      "source": [
        "EPOCHS = 5\n",
        "\n",
        "def train(model, optim, criterion, x, y, epochs=EPOCHS):\n",
        "    for e in range(1, epochs + 1):\n",
        "        optim.zero_grad()\n",
        "        out = model(x)\n",
        "        print(out.dtype, y.dtype)\n",
        "        loss = criterion(out, y)\n",
        "        loss.backward()\n",
        "        optim.step()\n",
        "        print(f\"Loss at epoch {e}: {loss.data}\")\n",
        "        plain_accuracy = accuracy(model, torch.tensor(X_test_fin), torch.tensor(y_test_fin))\n",
        "        print(f\"Accuracy on plain test_set: {plain_accuracy}\")\n",
        "    return model\n",
        "\n",
        "model = train(model, optim, criterion, torch.tensor(X_train_fin), torch.tensor(y_train_fin))"
      ]
    },
    {
      "cell_type": "code",
      "execution_count": null,
      "metadata": {
        "colab": {
          "base_uri": "https://localhost:8080/"
        },
        "id": "YRNME-eSliey",
        "outputId": "195750f2-7b50-44bf-f92e-25b6f210b84d"
      },
      "outputs": [
        {
          "name": "stdout",
          "output_type": "stream",
          "text": [
            "Accuracy on plain test_set: 0.7148520946502686\n",
            "Untrained Accuracy on plain test_set: 0.28514790534973145\n"
          ]
        }
      ],
      "source": [
        "\n",
        "\n",
        "plain_accuracy = accuracy(model, torch.tensor(X_test_fin), torch.tensor(y_test_fin))\n",
        "print(f\"Accuracy on plain test_set: {plain_accuracy}\")\n",
        "new_model = MLP2(n_features, NUM_HIDDEN)\n",
        "plain_accuracy_new = accuracy(new_model, torch.tensor(X_test_fin), torch.tensor(y_test_fin))\n",
        "print(f\"Untrained Accuracy on plain test_set: {plain_accuracy_new}\")"
      ]
    },
    {
      "cell_type": "code",
      "execution_count": null,
      "metadata": {
        "id": "bevzTHG-lvsp"
      },
      "outputs": [],
      "source": [
        "class EncryptedMLP2:\n",
        "    def __init__(self, torch_mlp):\n",
        "        self.weight1 = torch_mlp.h1.weight.data.tolist()\n",
        "        self.bias1 = torch_mlp.h1.bias.data.tolist()\n",
        "        self.weight2 = torch_mlp.h2.weight.data.tolist()\n",
        "        self.bias2 = torch_mlp.h2.bias.data.tolist()\n",
        "        # Gradient accumulators\n",
        "        self._delta_w1 = 0\n",
        "        self._delta_b1 = 0\n",
        "        self._delta_w2 = 0\n",
        "        self._delta_b2 = 0\n",
        "        self.n_input = torch_mlp.h1.weight.data.shape[0]\n",
        "        self.n_hidden = torch_mlp.h1.weight.data.shape[0]\n",
        "        print(self.n_input, self.n_hidden)\n",
        "        self._count = 0\n",
        "\n",
        "    def forward(self, enc_x):\n",
        "        enc_o1 = self.weight1.dot(enc_x) + self.bias1\n",
        "        enc_o1_sigmoid = EncryptedMLP2.sigmoid(enc_o1)\n",
        "        print(enc_o1_sigmoid.shape, self.weight2.shape, self.bias2.shape)\n",
        "        enc_out = self.weight2.dot(enc_o1_sigmoid) + self.bias2\n",
        "        enc_out_sigmoid = EncryptedMLP2.sigmoid(enc_out)\n",
        "        return enc_out_sigmoid, (enc_o1, enc_o1_sigmoid, enc_out_sigmoid)\n",
        "\n",
        "    def backward(self, enc_x, forward_outputs, enc_y):\n",
        "        enc_o1, enc_o1_sigmoid, enc_out_sigmoid = forward_outputs\n",
        "        enc_error_out = enc_out_sigmoid - enc_y\n",
        "        self._delta_w2 += enc_o1_sigmoid.dot(enc_error_out)\n",
        "        self._delta_b2 += enc_error_out\n",
        "        enc_error_o1 = (self.weight2.dot(enc_error_out)) * enc_o1_sigmoid * (1 - enc_o1_sigmoid)\n",
        "        self._delta_w1 += enc_x.dot(enc_error_o1)\n",
        "        self._delta_b1 += enc_error_o1\n",
        "        self._count += 1\n",
        "\n",
        "    @staticmethod\n",
        "    def sigmoid(enc_x):\n",
        "        return enc_x.polyval([0.5, 0.197, 0, -0.004])\n",
        "\n",
        "    def update_parameters(self, learning_rate=0.01, regularization=0.05):\n",
        "        if self._count == 0:\n",
        "            raise RuntimeError(\"You should at least run one forward iteration\")\n",
        "        self.weight1 -= (self._delta_w1 / self._count) * learning_rate + self.weight1 * regularization\n",
        "        self.bias1 -= (self._delta_b1 / self._count) * learning_rate\n",
        "        self.weight2 -= (self._delta_w2 / self._count) * learning_rate + self.weight2 * regularization\n",
        "        self.bias2 -= (self._delta_b2 / self._count) * learning_rate\n",
        "        self._delta_w1 = 0\n",
        "        self._delta_b1 = 0\n",
        "        self._delta_w2 = 0\n",
        "        self._delta_b2 = 0\n",
        "        self._count = 0\n",
        "\n",
        "    def encrypt(self, context):\n",
        "        self.weight1 = ts.ckks_tensor(context, self.weight1)\n",
        "        self.bias1 = ts.ckks_tensor(context, self.bias1)\n",
        "        self.weight2 = ts.ckks_tensor(context, self.weight2)\n",
        "        self.bias2 = ts.ckks_tensor(context, self.bias2)\n",
        "\n",
        "    def decrypt(self):\n",
        "        self.weight1 = self.weight1.decrypt()\n",
        "        self.bias1 = self.bias1.decrypt()\n",
        "        self.weight2 = self.weight2.decrypt()\n",
        "        self.bias2 = self.bias2.decrypt()\n",
        "\n",
        "    def plain_accuracy(self, x_test, y_test):\n",
        "        # First, perform a forward pass with plain data.\n",
        "        w1 = torch.tensor(self.weight1)\n",
        "        b1 = torch.tensor(self.bias1)\n",
        "        w2 = torch.tensor(self.weight2)\n",
        "        b2 = torch.tensor(self.bias2)\n",
        "\n",
        "        # Forward pass through first layer\n",
        "        out1 = torch.sigmoid(x_test.matmul(w1.t()) + b1)\n",
        "\n",
        "        # Forward pass through second layer\n",
        "        out2 = torch.sigmoid(out1.matmul(w2.t()) + b2)\n",
        "\n",
        "        # Calculate predictions (as 0 or 1) by thresholding the output at 0.5\n",
        "        predictions = (out2 >= 0.5).float()\n",
        "\n",
        "        # Compute accuracy by comparing predictions to actual labels\n",
        "        correct = (predictions == y_test).float()\n",
        "        accuracy = correct.mean()\n",
        "\n",
        "        return accuracy\n",
        "\n",
        "    def __call__(self, *args, **kwargs):\n",
        "        return self.forward(*args, **kwargs)[0]"
      ]
    },
    {
      "cell_type": "code",
      "execution_count": null,
      "metadata": {
        "id": "CeYLIccsc6fl"
      },
      "outputs": [],
      "source": [
        "def load_batch(data, batch_size, index):\n",
        "    start_idx = index * batch_size\n",
        "    end_idx = min(start_idx + batch_size, len(data))  # Ensure not to go out of bounds\n",
        "    return data[start_idx:end_idx]"
      ]
    },
    {
      "cell_type": "code",
      "execution_count": null,
      "metadata": {
        "colab": {
          "base_uri": "https://localhost:8080/"
        },
        "id": "kjwmbPCPQdeD",
        "outputId": "6ae231e7-ae90-4477-af80-be0f75607fa9"
      },
      "outputs": [
        {
          "name": "stdout",
          "output_type": "stream",
          "text": [
            "5 5\n",
            "Accuracy at epoch #0 is 0.28514790534973145\n",
            "Starting epoch 1/5\n"
          ]
        }
      ],
      "source": [
        "ee_mlp2 = EncryptedMLP2(MLP2(n_features, NUM_HIDDEN))\n",
        "accuracy = ee_mlp2.plain_accuracy(torch.tensor(X_test_fin), torch.tensor(y_test_fin))\n",
        "print(f\"Accuracy at epoch #0 is {accuracy}\")\n",
        "ee_mlp2.encrypt(ctx_training)\n",
        "\n",
        "batch_size = 100  # Set your batch size\n",
        "num_batches = (len(X_train_fin) + batch_size - 1) // batch_size  # This ensures all batches are counted\n",
        "\n",
        "for epoch in range(EPOCHS):\n",
        "    print(f\"Starting epoch {epoch + 1}/{EPOCHS}\")\n",
        "    for batch_index in range(num_batches):\n",
        "        # Load a batch of data\n",
        "        X_batch = load_batch(X_train_fin, batch_size, batch_index)\n",
        "        y_batch = load_batch(y_train_fin, batch_size, batch_index)\n",
        "\n",
        "        # Encrypt the batch data\n",
        "        enc_x_batch = [ts.ckks_tensor(ctx_training, X.tolist()) for X in X_batch]\n",
        "        enc_y_batch = [ts.ckks_tensor(ctx_training, y.tolist()) for y in y_batch]\n",
        "\n",
        "        # Perform training on the batch\n",
        "        for enc_x, enc_y in zip(enc_x_batch, enc_y_batch):\n",
        "            print(enc_x.shape, enc_y.shape)\n",
        "            enc_out, fwd_outputs = ee_mlp2(enc_x)\n",
        "            ee_mlp2.backward(enc_x, fwd_outputs, enc_y)\n",
        "        ee_mlp2.update_parameters()\n",
        "\n",
        "        # Clear the encrypted data from memory to prevent memory overflow\n",
        "        del enc_x_batch\n",
        "        del enc_y_batch\n",
        "        # Optional: Force garbage collection\n",
        "        import gc\n",
        "        gc.collect()\n",
        "\n",
        "    # Update parameters after processing all batches\n",
        "\n",
        "\n",
        "    # Decrypt and calculate accuracy if needed\n",
        "    ee_mlp2.decrypt()\n",
        "    accuracy = ee_mlp2.plain_accuracy(torch.tensor(X_test_fin), torch.tensor(y_test_fin))\n",
        "    print(f\"Accuracy at epoch #{epoch + 1} is {accuracy}\")\n",
        "\n",
        "    # Re-encrypt weights for the next epoch\n",
        "    ee_mlp2.encrypt(ctx_training)\n",
        "\n",
        "\n",
        "print(f\"Final accuracy is {accuracy}\")\n",
        "\n",
        "diff_accuracy = plain_accuracy - accuracy\n",
        "print(f\"Difference between plain and encrypted accuracies: {diff_accuracy}\")\n",
        "if diff_accuracy < 0:\n",
        "    print(\"Oh! We got a better accuracy when training on encrypted data! The noise was on our side...\")"
      ]
    }
  ],
  "metadata": {
    "colab": {
      "collapsed_sections": [
        "-qHl4Uc5EeQX",
        "rKDXKPNmF8dR",
        "1Dmt7fbQSKTG",
        "NRTu0eISkF9m",
        "mIPeaIXGkuoa"
      ],
      "machine_shape": "hm",
      "provenance": []
    },
    "kernelspec": {
      "display_name": "Python 3",
      "name": "python3"
    },
    "language_info": {
      "name": "python"
    }
  },
  "nbformat": 4,
  "nbformat_minor": 0
}
