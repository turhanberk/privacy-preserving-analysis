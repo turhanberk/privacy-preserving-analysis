{
  "cells": [
    {
      "cell_type": "markdown",
      "metadata": {
        "id": "l_ggClmoi9Ys"
      },
      "source": [
        "## Setup"
      ]
    },
    {
      "cell_type": "code",
      "execution_count": 1,
      "metadata": {
        "colab": {
          "base_uri": "https://localhost:8080/"
        },
        "id": "qkL6se1lmBgO",
        "outputId": "2c7c5e62-c674-4837-86b0-b41c48d1cd96"
      },
      "outputs": [
        {
          "name": "stdout",
          "output_type": "stream",
          "text": [
            "Collecting tenseal\n",
            "  Downloading tenseal-0.3.14-cp310-cp310-manylinux_2_17_x86_64.manylinux2014_x86_64.whl (4.9 MB)\n",
            "\u001b[2K     \u001b[90m━━━━━━━━━━━━━━━━━━━━━━━━━━━━━━━━━━━━━━━━\u001b[0m \u001b[32m4.9/4.9 MB\u001b[0m \u001b[31m15.6 MB/s\u001b[0m eta \u001b[36m0:00:00\u001b[0m\n",
            "\u001b[?25hInstalling collected packages: tenseal\n",
            "Successfully installed tenseal-0.3.14\n"
          ]
        }
      ],
      "source": [
        "!pip install tenseal"
      ]
    },
    {
      "cell_type": "code",
      "execution_count": 12,
      "metadata": {
        "colab": {
          "base_uri": "https://localhost:8080/"
        },
        "id": "OYg-xnhFmFgP",
        "outputId": "5858cde3-d151-4c59-94e1-93435b9ae726"
      },
      "outputs": [
        {
          "name": "stdout",
          "output_type": "stream",
          "text": [
            "Drive already mounted at /content/drive; to attempt to forcibly remount, call drive.mount(\"/content/drive\", force_remount=True).\n"
          ]
        }
      ],
      "source": [
        "# Mounting Google Drive locally to read datasets - pass if working on local!\n",
        "from google.colab import drive\n",
        "drive.mount('/content/drive')"
      ]
    },
    {
      "cell_type": "code",
      "execution_count": 13,
      "metadata": {
        "colab": {
          "base_uri": "https://localhost:8080/"
        },
        "id": "kz1jfnZ1sZVT",
        "outputId": "5c10496c-907d-43c7-af95-e8ccafd86537"
      },
      "outputs": [
        {
          "name": "stdout",
          "output_type": "stream",
          "text": [
            "['msk_impact_2017_clinical_data.tsv', 'combined_encoded.csv', 'test_encoded.csv', 'train_encoded.csv', 'combined_or.csv']\n"
          ]
        }
      ],
      "source": [
        "import os\n",
        "path = \"/content/drive/MyDrive/ml4health/\" # change this to your local path where you have the datasets!\n",
        "print(os.listdir(path))"
      ]
    },
    {
      "cell_type": "code",
      "execution_count": 14,
      "metadata": {
        "id": "hekOxf_2i9Yt"
      },
      "outputs": [],
      "source": [
        "import torch\n",
        "import tenseal as ts\n",
        "import pandas as pd\n",
        "import random\n",
        "from time import time\n",
        "from sklearn.preprocessing import MinMaxScaler\n",
        "from sklearn.preprocessing import StandardScaler\n",
        "from sklearn.metrics import accuracy_score, f1_score, roc_auc_score\n",
        "import numpy as np\n",
        "import matplotlib.pyplot as plt"
      ]
    },
    {
      "cell_type": "markdown",
      "metadata": {
        "id": "ueZGjydOvc6c"
      },
      "source": [
        "## Data resampling and scaling"
      ]
    },
    {
      "cell_type": "code",
      "execution_count": 15,
      "metadata": {
        "colab": {
          "base_uri": "https://localhost:8080/"
        },
        "id": "gCiGu7JUi9Yv",
        "outputId": "893fb453-98df-457f-b850-147101e6e3c5"
      },
      "outputs": [
        {
          "name": "stdout",
          "output_type": "stream",
          "text": [
            "############# Data summary #############\n",
            "x_train has shape: torch.Size([4339, 67])\n",
            "y_train has shape: torch.Size([4339, 1])\n",
            "x_test has shape: torch.Size([1859, 67])\n",
            "y_test has shape: torch.Size([1859, 1])\n",
            "#######################################\n"
          ]
        }
      ],
      "source": [
        "torch.random.manual_seed(73)\n",
        "random.seed(73)\n",
        "\n",
        "def split_train_test(x, y, test_ratio=0.3):\n",
        "    idxs = [i for i in range(len(x))]\n",
        "    random.Random(73).shuffle(idxs)\n",
        "    # delimiter between test and train data\n",
        "    delim = int(len(x) * test_ratio)\n",
        "    test_idxs, train_idxs = idxs[:delim], idxs[delim:]\n",
        "    return x[train_idxs], y[train_idxs], x[test_idxs], y[test_idxs]\n",
        "\n",
        "def cancer_data_resampled(path):\n",
        "    data = pd.read_csv(f\"{path}combined_or.csv\")\n",
        "    grouped = data.groupby(\"Overall Survival Status\")\n",
        "    data = grouped.apply(lambda x: x.sample(grouped.size().min(), random_state=73).reset_index(drop=True))\n",
        "\n",
        "    # extract labels\n",
        "    y = torch.tensor(data[\"Overall Survival Status\"].values).float().unsqueeze(1)\n",
        "    data = data.drop(\"Overall Survival Status\", axis = 1)\n",
        "\n",
        "    # standardize data\n",
        "    scaler = StandardScaler()\n",
        "    data = scaler.fit_transform(data)\n",
        "\n",
        "    x = torch.tensor(data).float()\n",
        "    return split_train_test(x, y)\n",
        "\n",
        "x_train_resampled, y_train_resampled, x_test_resampled, y_test_resampled = cancer_data_resampled(path)\n",
        "\n",
        "print(\"############# Data summary #############\")\n",
        "print(f\"x_train has shape: {x_train_resampled.shape}\")\n",
        "print(f\"y_train has shape: {y_train_resampled.shape}\")\n",
        "print(f\"x_test has shape: {x_test_resampled.shape}\")\n",
        "print(f\"y_test has shape: {y_test_resampled.shape}\")\n",
        "print(\"#######################################\")"
      ]
    },
    {
      "cell_type": "markdown",
      "metadata": {
        "id": "NErcQC9Ki9Yw"
      },
      "source": [
        "## 1-layer-NN LR functions"
      ]
    },
    {
      "cell_type": "code",
      "execution_count": 16,
      "metadata": {
        "id": "m4FTUPjhi9Yx"
      },
      "outputs": [],
      "source": [
        "class LR(torch.nn.Module):\n",
        "\n",
        "    def __init__(self, n_features):\n",
        "        super(LR, self).__init__()\n",
        "        self.lr = torch.nn.Linear(n_features, 1)\n",
        "\n",
        "    def forward(self, x):\n",
        "        out = torch.sigmoid(self.lr(x))\n",
        "        return out"
      ]
    },
    {
      "cell_type": "code",
      "execution_count": 17,
      "metadata": {
        "id": "RQsw5mIhi9Yz"
      },
      "outputs": [],
      "source": [
        "EPOCHS = 10\n",
        "\n",
        "def train(model, optim, criterion, x, y, epochs=EPOCHS):\n",
        "    for e in range(1, epochs + 1):\n",
        "        optim.zero_grad()\n",
        "        out = model(x)\n",
        "        loss = criterion(out, y)\n",
        "        loss.backward()\n",
        "        optim.step()\n",
        "    return model"
      ]
    },
    {
      "cell_type": "markdown",
      "metadata": {
        "id": "UVbUy7yCXJh7"
      },
      "source": [
        "## Plain & encrypted evaluations"
      ]
    },
    {
      "cell_type": "code",
      "execution_count": 18,
      "metadata": {
        "id": "SFR2maaZi9Y0"
      },
      "outputs": [],
      "source": [
        "class EncryptedLR:\n",
        "\n",
        "    def __init__(self, torch_lr):\n",
        "        self.weight = torch_lr.lr.weight.data.tolist()[0]\n",
        "        self.bias = torch_lr.lr.bias.data.tolist()\n",
        "\n",
        "    def forward(self, enc_x):\n",
        "        enc_out = enc_x.dot(self.weight) + self.bias\n",
        "        return enc_out\n",
        "\n",
        "    def __call__(self, *args, **kwargs):\n",
        "        return self.forward(*args, **kwargs)\n",
        "\n",
        "    def encrypt(self, context):\n",
        "        self.weight = ts.ckks_vector(context, self.weight)\n",
        "        self.bias = ts.ckks_vector(context, self.bias)\n",
        "\n",
        "    def decrypt(self, context):\n",
        "        self.weight = self.weight.decrypt()\n",
        "        self.bias = self.bias.decrypt()"
      ]
    },
    {
      "cell_type": "code",
      "execution_count": 19,
      "metadata": {
        "id": "Pyb2k--ni9Y0"
      },
      "outputs": [],
      "source": [
        "# parameters\n",
        "poly_mod_degree = 4096\n",
        "coeff_mod_bit_sizes = [40, 20, 40]\n",
        "# create TenSEALContext\n",
        "ctx_eval = ts.context(ts.SCHEME_TYPE.CKKS, poly_mod_degree, -1, coeff_mod_bit_sizes)\n",
        "# scale of ciphertext to use\n",
        "ctx_eval.global_scale = 2 ** 20\n",
        "# this key is needed for doing dot-product operations\n",
        "ctx_eval.generate_galois_keys()"
      ]
    },
    {
      "cell_type": "code",
      "execution_count": 20,
      "metadata": {
        "colab": {
          "base_uri": "https://localhost:8080/"
        },
        "id": "WsUlGk6zWsM1",
        "outputId": "2416a41b-2117-4ca2-9e3d-27695e8a9c3a"
      },
      "outputs": [
        {
          "name": "stdout",
          "output_type": "stream",
          "text": [
            "## Non-encrypted evaluation results\n",
            "Accuracy mean: 0.6206 +- (0.00468, 0.00769)\n",
            "F1-score mean: 0.61793 +- (0.00602, 0.00472)\n",
            "ROC AUC score mean: 0.6206 +- (0.00464, 0.00758)\n",
            "Time mean: 0.00015\n",
            "\n",
            "\n",
            "## Encrypted evaluation results\n",
            "Accuracy mean: 0.61786 +- (0.00463, 0.00882)\n",
            "F1-score mean: 0.64586 +- (0.00739, 0.00645)\n",
            "ROC AUC score mean: 0.61883 +- (0.00455, 0.00876)\n",
            "Time mean: 20.96297\n"
          ]
        }
      ],
      "source": [
        "accuracy_list = []\n",
        "accuracy_list_encrypted = []\n",
        "f1_list = []\n",
        "f1_list_encrypted = []\n",
        "roc_auc_list = []\n",
        "roc_auc_list_encrypted = []\n",
        "time_list = []\n",
        "time_list_encrypted = []\n",
        "\n",
        "for _ in range(10): # training and HE evaluation 50 times\n",
        "    n_features = x_train_resampled.shape[1]\n",
        "    model = LR(n_features)\n",
        "\n",
        "    optim = torch.optim.SGD(model.parameters(), lr=.5)\n",
        "    criterion = torch.nn.BCELoss()\n",
        "    trained_model = train(model, optim, criterion, x_train_resampled, y_train_resampled)\n",
        "\n",
        "    t_start = time()\n",
        "    nc_out = trained_model(x_test_resampled)\n",
        "    t_end = time()\n",
        "    time_list.append(t_end-t_start)\n",
        "    nc_out = [1 if p >= 0.5 else 0 for p in nc_out]\n",
        "\n",
        "    accuracy = accuracy_score(y_test_resampled, nc_out)\n",
        "    f1 = f1_score(y_test_resampled, nc_out)\n",
        "    roc_auc = roc_auc_score(y_test_resampled, nc_out)\n",
        "\n",
        "    accuracy_list.append(accuracy)\n",
        "    f1_list.append(f1)\n",
        "    roc_auc_list.append(roc_auc)\n",
        "\n",
        "    # encrypted evaluation of the same model\n",
        "    t_start = time()\n",
        "    eelr = EncryptedLR(trained_model)\n",
        "    enc_x_test = [ts.ckks_vector(ctx_eval, x.tolist()) for x in x_test_resampled]\n",
        "    enc_y_test = []\n",
        "\n",
        "    for enc_x in enc_x_test:\n",
        "      enc_out = eelr(enc_x)\n",
        "      out = enc_out.decrypt()\n",
        "      out = torch.tensor(out)\n",
        "      out = torch.sigmoid(out)\n",
        "      enc_y_test.append(out)\n",
        "    t_end = time()\n",
        "\n",
        "    enc_y_test = [1 if p >= 0.5 else 0 for p in enc_y_test]\n",
        "\n",
        "    accuracy = accuracy_score(y_test_resampled, enc_y_test)\n",
        "    f1 = f1_score(y_test_resampled, enc_y_test)\n",
        "    roc_auc = roc_auc_score(y_test_resampled, enc_y_test)\n",
        "\n",
        "    accuracy_list_encrypted.append(accuracy)\n",
        "    f1_list_encrypted.append(f1)\n",
        "    roc_auc_list_encrypted.append(roc_auc)\n",
        "    time_list_encrypted.append(t_end-t_start)\n",
        "\n",
        "accuracy_mean = np.mean(accuracy_list)\n",
        "f1_mean = np.mean(f1_list)\n",
        "roc_auc_mean = np.mean(roc_auc_list)\n",
        "\n",
        "accuracy_diff = accuracy_mean - min(accuracy_list), max(accuracy_list) - accuracy_mean\n",
        "f1_diff = f1_mean - min(f1_list), max(f1_list) - f1_mean\n",
        "roc_auc_diff = roc_auc_mean - min(roc_auc_list), max(roc_auc_list) - roc_auc_mean\n",
        "\n",
        "print(\"## Non-encrypted evaluation results\")\n",
        "print(\"Accuracy mean:\", round(accuracy_mean, 5), \"+-\", tuple(round(diff, 5) for diff in accuracy_diff))\n",
        "print(\"F1-score mean:\", round(f1_mean, 5), \"+-\", tuple(round(diff, 5) for diff in f1_diff))\n",
        "print(\"ROC AUC score mean:\", round(roc_auc_mean, 5), \"+-\", tuple(round(diff, 5) for diff in roc_auc_diff))\n",
        "print(\"Time mean:\", round(np.mean(time_list), 5))\n",
        "print(\"\\n\", sep = \"\")\n",
        "\n",
        "accuracy_mean = np.mean(accuracy_list_encrypted)\n",
        "f1_mean = np.mean(f1_list_encrypted)\n",
        "roc_auc_mean = np.mean(roc_auc_list_encrypted)\n",
        "\n",
        "accuracy_diff = accuracy_mean - min(accuracy_list_encrypted), max(accuracy_list_encrypted) - accuracy_mean\n",
        "f1_diff = f1_mean - min(f1_list_encrypted), max(f1_list_encrypted) - f1_mean\n",
        "roc_auc_diff = roc_auc_mean - min(roc_auc_list_encrypted), max(roc_auc_list_encrypted) - roc_auc_mean\n",
        "\n",
        "print(\"## Encrypted evaluation results\")\n",
        "print(\"Accuracy mean:\", round(accuracy_mean, 5), \"+-\", tuple(round(diff, 5) for diff in accuracy_diff))\n",
        "print(\"F1-score mean:\", round(f1_mean, 5), \"+-\", tuple(round(diff, 5) for diff in f1_diff))\n",
        "print(\"ROC AUC score mean:\", round(roc_auc_mean, 5), \"+-\", tuple(round(diff, 5) for diff in roc_auc_diff))\n",
        "print(\"Time mean:\", round(np.mean(time_list_encrypted), 5))"
      ]
    },
    {
      "cell_type": "code",
      "execution_count": 21,
      "metadata": {
        "colab": {
          "base_uri": "https://localhost:8080/"
        },
        "id": "a3-d5mHMnv_2",
        "outputId": "03c6e171-b26a-4089-f46a-be18a5e7fada"
      },
      "outputs": [
        {
          "name": "stdout",
          "output_type": "stream",
          "text": [
            "## Non-encrypted evaluation results\n",
            "Accuracy mean: 0.62265 +- (0.00457, 0.00726)\n",
            "F1-score mean: 0.62367 +- (0.01201, 0.00902)\n",
            "ROC AUC score mean: 0.62276 +- (0.00444, 0.00725)\n",
            "\n",
            "\n",
            "## Encrypted evaluation results\n",
            "Accuracy mean: 0.61786 +- (0.00463, 0.00882)\n",
            "F1-score mean: 0.64586 +- (0.00739, 0.00645)\n",
            "ROC AUC score mean: 0.61883 +- (0.00455, 0.00876)\n",
            "Time mean: 21.84552\n"
          ]
        }
      ],
      "source": [
        "accuracy_list = []\n",
        "accuracy_list_encrypted_w = []\n",
        "f1_list = []\n",
        "f1_list_encrypted_w = []\n",
        "roc_auc_list = []\n",
        "roc_auc_list_encrypted_w = []\n",
        "time_list_encrypted_w = []\n",
        "\n",
        "for _ in range(10): # training and HE evaluation 50 times\n",
        "    n_features = x_train_resampled.shape[1]\n",
        "    model = LR(n_features)\n",
        "\n",
        "    optim = torch.optim.SGD(model.parameters(), lr=0.5)\n",
        "    criterion = torch.nn.BCELoss()\n",
        "    trained_model = train(model, optim, criterion, x_train_resampled, y_train_resampled)\n",
        "\n",
        "    nc_out = trained_model(x_test_resampled)\n",
        "    nc_out = [1 if p >= 0.5 else 0 for p in nc_out]\n",
        "\n",
        "    accuracy = accuracy_score(y_test_resampled, nc_out)\n",
        "    f1 = f1_score(y_test_resampled, nc_out)\n",
        "    roc_auc = roc_auc_score(y_test_resampled, nc_out)\n",
        "\n",
        "    accuracy_list.append(accuracy)\n",
        "    f1_list.append(f1)\n",
        "    roc_auc_list.append(roc_auc)\n",
        "\n",
        "    # encrypted evaluation of the same model\n",
        "    t_start = time()\n",
        "    eelr = EncryptedLR(trained_model)\n",
        "    enc_x_test = [ts.ckks_vector(ctx_eval, x.tolist()) for x in x_test_resampled]\n",
        "    enc_y_test = []\n",
        "    eelr.encrypt(ctx_eval)\n",
        "    for enc_x in enc_x_test:\n",
        "      enc_out = eelr(enc_x)\n",
        "      out = enc_out.decrypt()\n",
        "      out = torch.tensor(out)\n",
        "      out = torch.sigmoid(out)\n",
        "      enc_y_test.append(out)\n",
        "    t_end = time()\n",
        "\n",
        "    enc_y_test = [1 if p >= 0.5 else 0 for p in enc_y_test]\n",
        "\n",
        "    accuracy = accuracy_score(y_test_resampled, enc_y_test)\n",
        "    f1 = f1_score(y_test_resampled, enc_y_test)\n",
        "    roc_auc = roc_auc_score(y_test_resampled, enc_y_test)\n",
        "\n",
        "    accuracy_list_encrypted_w.append(accuracy)\n",
        "    f1_list_encrypted_w.append(f1)\n",
        "    roc_auc_list_encrypted_w.append(roc_auc)\n",
        "    time_list_encrypted_w.append(t_end-t_start)\n",
        "\n",
        "accuracy_mean = np.mean(accuracy_list)\n",
        "f1_mean = np.mean(f1_list)\n",
        "roc_auc_mean = np.mean(roc_auc_list)\n",
        "\n",
        "accuracy_diff = accuracy_mean - min(accuracy_list), max(accuracy_list) - accuracy_mean\n",
        "f1_diff = f1_mean - min(f1_list), max(f1_list) - f1_mean\n",
        "roc_auc_diff = roc_auc_mean - min(roc_auc_list), max(roc_auc_list) - roc_auc_mean\n",
        "\n",
        "print(\"## Non-encrypted evaluation results\")\n",
        "print(\"Accuracy mean:\", round(accuracy_mean, 5), \"+-\", tuple(round(diff, 5) for diff in accuracy_diff))\n",
        "print(\"F1-score mean:\", round(f1_mean, 5), \"+-\", tuple(round(diff, 5) for diff in f1_diff))\n",
        "print(\"ROC AUC score mean:\", round(roc_auc_mean, 5), \"+-\", tuple(round(diff, 5) for diff in roc_auc_diff))\n",
        "print(\"\\n\", sep = \"\")\n",
        "\n",
        "accuracy_mean = np.mean(accuracy_list_encrypted)\n",
        "f1_mean = np.mean(f1_list_encrypted)\n",
        "roc_auc_mean = np.mean(roc_auc_list_encrypted)\n",
        "\n",
        "accuracy_diff = accuracy_mean - min(accuracy_list_encrypted), max(accuracy_list_encrypted) - accuracy_mean\n",
        "f1_diff = f1_mean - min(f1_list_encrypted), max(f1_list_encrypted) - f1_mean\n",
        "roc_auc_diff = roc_auc_mean - min(roc_auc_list_encrypted), max(roc_auc_list_encrypted) - roc_auc_mean\n",
        "\n",
        "print(\"## Encrypted evaluation results\")\n",
        "print(\"Accuracy mean:\", round(accuracy_mean, 5), \"+-\", tuple(round(diff, 5) for diff in accuracy_diff))\n",
        "print(\"F1-score mean:\", round(f1_mean, 5), \"+-\", tuple(round(diff, 5) for diff in f1_diff))\n",
        "print(\"ROC AUC score mean:\", round(roc_auc_mean, 5), \"+-\", tuple(round(diff, 5) for diff in roc_auc_diff))\n",
        "print(\"Time mean:\", round(np.mean(time_list_encrypted_w), 5))"
      ]
    },
    {
      "cell_type": "markdown",
      "metadata": {
        "id": "kC3jbYavvoSy"
      },
      "source": [
        "## Plotting"
      ]
    },
    {
      "cell_type": "code",
      "execution_count": 22,
      "metadata": {
        "id": "mr4_hYBnRsfi"
      },
      "outputs": [],
      "source": [
        "f1_ = [np.mean(f1_list), np.mean(f1_list_encrypted), np.mean(f1_list_encrypted_w)]\n",
        "f1_std = [np.std(f1_list), np.std(f1_list_encrypted), np.std(f1_list_encrypted_w)]\n",
        "\n",
        "roc_ = [np.mean(roc_auc_list), np.mean(roc_auc_list_encrypted), np.mean(roc_auc_list_encrypted_w)]\n",
        "roc_std = [np.std(roc_auc_list), np.std(roc_auc_list_encrypted), np.std(roc_auc_list_encrypted_w)]\n",
        "\n",
        "acc_ = [np.mean(accuracy_list), np.mean(accuracy_list_encrypted), np.mean(accuracy_list_encrypted_w)]\n",
        "acc_std = [np.std(accuracy_list), np.std(accuracy_list_encrypted), np.std(accuracy_list_encrypted_w)]"
      ]
    },
    {
      "cell_type": "code",
      "execution_count": 23,
      "metadata": {
        "colab": {
          "base_uri": "https://localhost:8080/",
          "height": 407
        },
        "id": "b383vUt0Ti4b",
        "outputId": "0bdfb4e2-b0e4-490c-edbf-673f63bc7cb3"
      },
      "outputs": [
        {
          "data": {
            "image/png": "[encoded data removed]",
            "text/plain": [
              "<Figure size 600x400 with 1 Axes>"
            ]
          },
          "metadata": {},
          "output_type": "display_data"
        }
      ],
      "source": [
        "model_names = ['Unencrypted', 'Encrypted', 'Encrypted with Weights']\n",
        "x = np.arange(len(model_names))\n",
        "width = 0.2\n",
        "fig, ax = plt.subplots(figsize=(6, 4))\n",
        "\n",
        "rects1 = ax.bar(x=x - width, height=f1_, width=width, label='F1', color='navy', yerr=f1_std)\n",
        "rects2 = ax.bar(x=x, height=roc_, width=width, label='ROC-AUC', color='gold', yerr=roc_std)\n",
        "rects3 = ax.bar(x=x + width, height=acc_, width=width, label='Accuracy', color='teal', yerr=acc_std)\n",
        "\n",
        "ax.set_ylabel('Scores', fontsize=10)\n",
        "ax.set_title('Evaluation with different encryptions', fontsize=10)\n",
        "ax.set_xticks(x + width / 2)\n",
        "ax.set_xticklabels(model_names, fontsize=9)\n",
        "ax.legend(loc='lower center', bbox_to_anchor=(.83, 0), fontsize=8)\n",
        "ax.tick_params(axis='y', labelsize=9)\n",
        "ax.grid(True, linestyle='--')\n",
        "fig.tight_layout()\n",
        "\n",
        "plt.show()\n"
      ]
    },
    {
      "cell_type": "markdown",
      "metadata": {
        "id": "XU5REt9RrtQt"
      },
      "source": [
        "**Note:** Plots might differ slightly each run due to the noise added from encryption's precision and SGD getting stuck on local minima, which effects label assigning after decryption and horribly fails the encrypted evaluation metrics. If metrics are too much off from our example here, delete runtime and run the code again where the plot above shows the most frequent results we have observed."
      ]
    }
  ],
  "metadata": {
    "colab": {
      "provenance": []
    },
    "kernelspec": {
      "display_name": "Python 3",
      "language": "python",
      "name": "python3"
    },
    "language_info": {
      "codemirror_mode": {
        "name": "ipython",
        "version": 3
      },
      "file_extension": ".py",
      "mimetype": "text/x-python",
      "name": "python",
      "nbconvert_exporter": "python",
      "pygments_lexer": "ipython3",
      "version": "3.9.6 (default, Sep 26 2022, 11:37:49) \n[Clang 14.0.0 (clang-1400.0.29.202)]"
    },
    "vscode": {
      "interpreter": {
        "hash": "31f2aee4e71d21fbe5cf8b01ff0e069b9275f58929596ceb00d14d90e3e16cd6"
      }
    }
  },
  "nbformat": 4,
  "nbformat_minor": 0
}
