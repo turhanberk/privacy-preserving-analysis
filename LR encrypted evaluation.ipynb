{
  "cells": [
    {
      "cell_type": "markdown",
      "metadata": {
        "id": "-qHl4Uc5EeQX"
      },
      "source": [
        "## Setup\n",
        "\n"
      ]
    },
    {
      "cell_type": "code",
      "execution_count": 1,
      "metadata": {
        "colab": {
          "base_uri": "https://localhost:8080/"
        },
        "id": "-ks3zG3uFCEe",
        "outputId": "ea753464-fbf3-4066-faae-90515b39ae5b"
      },
      "outputs": [
        {
          "output_type": "stream",
          "name": "stdout",
          "text": [
            "Mounted at /content/drive\n"
          ]
        }
      ],
      "source": [
        "# Mounting Google Drive locally to read datasets\n",
        "from google.colab import drive\n",
        "drive.mount('/content/drive')"
      ]
    },
    {
      "cell_type": "code",
      "execution_count": 2,
      "metadata": {
        "colab": {
          "base_uri": "https://localhost:8080/"
        },
        "id": "DpRHLv6kGCJE",
        "outputId": "9058aef7-cefd-4a8b-dd1c-87a03dec6de6"
      },
      "outputs": [
        {
          "output_type": "stream",
          "name": "stdout",
          "text": [
            "['msk_impact_2017_clinical_data.tsv', 'combined_encoded.csv', 'test_encoded.csv', 'train_encoded.csv', 'combined_or.csv']\n"
          ]
        }
      ],
      "source": [
        "import os\n",
        "path = \"/content/drive/MyDrive/ml4health/\"\n",
        "print(os.listdir(path))"
      ]
    },
    {
      "cell_type": "code",
      "source": [
        "!pip install tenseal"
      ],
      "metadata": {
        "colab": {
          "base_uri": "https://localhost:8080/"
        },
        "id": "lkYlxeSO8hog",
        "outputId": "7076ae7c-cfb8-4e49-e1ca-586425a23711"
      },
      "execution_count": 3,
      "outputs": [
        {
          "output_type": "stream",
          "name": "stdout",
          "text": [
            "Collecting tenseal\n",
            "  Downloading tenseal-0.3.14-cp310-cp310-manylinux_2_17_x86_64.manylinux2014_x86_64.whl (4.9 MB)\n",
            "\u001b[2K     \u001b[90m━━━━━━━━━━━━━━━━━━━━━━━━━━━━━━━━━━━━━━━━\u001b[0m \u001b[32m4.9/4.9 MB\u001b[0m \u001b[31m10.7 MB/s\u001b[0m eta \u001b[36m0:00:00\u001b[0m\n",
            "\u001b[?25hInstalling collected packages: tenseal\n",
            "Successfully installed tenseal-0.3.14\n"
          ]
        }
      ]
    },
    {
      "cell_type": "markdown",
      "source": [
        "## Reading & scaling the dataset"
      ],
      "metadata": {
        "id": "hxW7GlM8vMp0"
      }
    },
    {
      "cell_type": "code",
      "source": [
        "import pandas as pd\n",
        "train = pd.read_csv(f'{path}train_encoded.csv')\n",
        "test = pd.read_csv(f'{path}test_encoded.csv')\n",
        "\n",
        "AttributeLabels = train.columns.tolist()[:-1]\n",
        "\n",
        "X_train = train[AttributeLabels]\n",
        "X_train_encoded = pd.DataFrame(X_train, columns=AttributeLabels)\n",
        "y_train_encoded = train[['Overall Survival Status']]\n",
        "\n",
        "X_test = test[AttributeLabels]\n",
        "X_test_encoded = pd.DataFrame(X_test, columns=AttributeLabels)\n",
        "y_test_encoded = test[['Overall Survival Status']]"
      ],
      "metadata": {
        "id": "Ba7LJxOiAhIg"
      },
      "execution_count": 4,
      "outputs": []
    },
    {
      "cell_type": "code",
      "source": [
        "from sklearn.preprocessing import StandardScaler\n",
        "\n",
        "scaler = StandardScaler()\n",
        "\n",
        "X_train_encoded = scaler.fit_transform(X_train_encoded)\n",
        "X_train_encoded = pd.DataFrame(X_train_encoded, columns=AttributeLabels)\n",
        "\n",
        "X_test_encoded = scaler.transform(X_test_encoded)\n",
        "X_test_encoded = pd.DataFrame(X_test_encoded, columns=AttributeLabels)"
      ],
      "metadata": {
        "id": "WzeyKRfmA_yb"
      },
      "execution_count": 5,
      "outputs": []
    },
    {
      "cell_type": "markdown",
      "source": [
        "## 1-layer-NN LR functions"
      ],
      "metadata": {
        "id": "857oS76pvRS6"
      }
    },
    {
      "cell_type": "code",
      "source": [
        "import torch\n",
        "import tenseal as ts\n",
        "import pandas as pd\n",
        "import random\n",
        "from time import time\n",
        "import numpy as np\n",
        "import matplotlib.pyplot as plt\n",
        "torch.manual_seed(0)\n",
        "random.seed(0)"
      ],
      "metadata": {
        "id": "gFrtUZtL9IOJ"
      },
      "execution_count": 6,
      "outputs": []
    },
    {
      "cell_type": "code",
      "source": [
        "class LR(torch.nn.Module):\n",
        "    def __init__(self, n_features, dropout_rate=0.5):\n",
        "        super(LR, self).__init__()\n",
        "        self.lr = torch.nn.Linear(n_features, 1)\n",
        "\n",
        "    def forward(self, x):\n",
        "        out = torch.sigmoid(self.lr(x))\n",
        "        return out\n",
        "\n",
        "def train(model, optim, criterion, x, y, epochs, x_val, y_val):\n",
        "    train_losses = []\n",
        "    val_losses = []\n",
        "\n",
        "    for e in range(1, epochs + 1):\n",
        "        optim.zero_grad()\n",
        "        out = model(x)\n",
        "        loss = criterion(out, y)\n",
        "        loss.backward()\n",
        "        optim.step()\n",
        "        model.eval()\n",
        "\n",
        "        # Validation step - no gradient computation\n",
        "        with torch.no_grad():\n",
        "            out_val = model(x_val)\n",
        "            loss_val = criterion(out_val, y_val)\n",
        "\n",
        "            train_losses.append(loss.item())\n",
        "            val_losses.append(loss_val.item())\n",
        "\n",
        "    return model, train_losses, val_losses\n",
        "\n",
        "\n",
        "def accuracy(model, x, y):\n",
        "    t_start = time()\n",
        "\n",
        "    # Initialize lists to store predictions and actual labels\n",
        "    predictions = []\n",
        "    true_labels = []\n",
        "    correct = 0\n",
        "\n",
        "    for x_, y_ in zip(x, y):\n",
        "        out = model(x_)\n",
        "\n",
        "        if torch.abs(out - y_) < 0.5:\n",
        "            correct += 1\n",
        "\n",
        "        # Store predictions and true labels\n",
        "        predictions.append(out.item())\n",
        "        true_labels.append(y_.item())\n",
        "\n",
        "    t_end = time()\n",
        "\n",
        "    # Convert predictions and true labels to binary (0 or 1) based on 0.5 threshold\n",
        "    binary_predictions = [1 if pred >= 0.5 else 0 for pred in predictions]\n",
        "\n",
        "    # Calculate F1 score\n",
        "    f1 = f1_score(true_labels, binary_predictions)\n",
        "\n",
        "    # Calculate ROC AUC score\n",
        "    roc_auc = roc_auc_score(true_labels, predictions)\n",
        "\n",
        "    return f1, roc_auc, correct / len(x)\n",
        "\n",
        "def split_data(X_train_encoded, y_train_encoded, train_index, val_index):\n",
        "  X_train = X_train_encoded.iloc[train_index]\n",
        "  y_train = y_train_encoded.iloc[train_index]\n",
        "\n",
        "  X_val = X_train_encoded.iloc[val_index]\n",
        "  y_val = y_train_encoded.iloc[val_index]\n",
        "\n",
        "  X_train = torch.tensor(X_train.values, dtype=torch.float32)\n",
        "  y_train = torch.tensor(y_train.values, dtype=torch.float32)\n",
        "  X_val = torch.tensor(X_val.values, dtype=torch.float32)\n",
        "  y_val = torch.tensor(y_val.values, dtype=torch.float32)\n",
        "\n",
        "  return X_train, y_train, X_val, y_val\n",
        "\n",
        "def get_mean_std(vals):\n",
        "  mean_val= np.mean(vals)\n",
        "\n",
        "  # Calculate the standard deviation\n",
        "  std_deviation = np.std(vals)\n",
        "\n",
        "  # Calculate the standard error\n",
        "  std_error = std_deviation / np.sqrt(len(vals))\n",
        "\n",
        "  return mean_val, std_error"
      ],
      "metadata": {
        "id": "cWK6HzjD9FaB"
      },
      "execution_count": 7,
      "outputs": []
    },
    {
      "cell_type": "markdown",
      "source": [
        "### Plain Evaluation"
      ],
      "metadata": {
        "id": "jYnb-xRDtiIs"
      }
    },
    {
      "cell_type": "code",
      "source": [
        "from sklearn.utils import class_weight\n",
        "from sklearn.model_selection import train_test_split\n",
        "from sklearn.metrics import f1_score, roc_auc_score, accuracy_score, classification_report\n",
        "import numpy as np\n",
        "\n",
        "n_features = X_train_encoded.shape[1]\n",
        "model = LR(n_features)\n",
        "optim = torch.optim.SGD(model.parameters(), lr=.5) # 0.5\n",
        "criterion = torch.nn.BCELoss()\n",
        "#criterion = torch.nn.BCEWithLogitsLoss(pos_weight=torch.tensor(4))\n",
        "\n",
        "X_train, X_val, y_train, y_val = train_test_split(X_train_encoded, y_train_encoded, test_size=0.2, random_state=42)\n",
        "\n",
        "X_train = torch.tensor(X_train.values, dtype=torch.float32)\n",
        "y_train = torch.tensor(y_train.values, dtype=torch.float32)\n",
        "X_val = torch.tensor(X_val.values, dtype=torch.float32)\n",
        "y_val = torch.tensor(y_val.values, dtype=torch.float32)"
      ],
      "metadata": {
        "id": "9NDh21pr9JBD"
      },
      "execution_count": 8,
      "outputs": []
    },
    {
      "cell_type": "code",
      "source": [
        "EPOCHS = 10\n",
        "\n",
        "model, t_losses, v_losses = train(model, optim, criterion, X_train, y_train, EPOCHS, X_val, y_val)\n",
        "\n",
        "print(\"training losses: \", t_losses)\n",
        "print(\"validation losses: \", v_losses)"
      ],
      "metadata": {
        "colab": {
          "base_uri": "https://localhost:8080/"
        },
        "id": "hyC6lhqY9Mmo",
        "outputId": "eef5ac2f-248e-497d-97b9-dd3ed951c265"
      },
      "execution_count": 9,
      "outputs": [
        {
          "output_type": "stream",
          "name": "stdout",
          "text": [
            "training losses:  [0.7303343415260315, 0.6837024092674255, 0.651776909828186, 0.6292763352394104, 0.6129592657089233, 0.6008350253105164, 0.591644823551178, 0.5845640897750854, 0.5790335536003113, 0.5746630430221558]\n",
            "validation losses:  [0.695669412612915, 0.6654115319252014, 0.6440016627311707, 0.6283993721008301, 0.61674964427948, 0.6078805327415466, 0.6010227203369141, 0.5956524610519409, 0.5914030075073242, 0.5880109071731567]\n"
          ]
        }
      ]
    },
    {
      "cell_type": "code",
      "source": [
        "f1, roc_auc, plain_accuracy = accuracy(model, torch.tensor(X_test_encoded.values, dtype=torch.float32), torch.tensor(y_test_encoded.values, dtype=torch.float32))\n",
        "\n",
        "print(f\"F1 on plain test_set: {f1}\")\n",
        "print(f\"ROC-AUC on plain test_set: {roc_auc}\")\n",
        "print(f\"Accuracy on plain test_set: {plain_accuracy}\")"
      ],
      "metadata": {
        "colab": {
          "base_uri": "https://localhost:8080/"
        },
        "id": "vdlsI82J-ty5",
        "outputId": "0e189dfe-acc5-471b-deff-0aab445494b6"
      },
      "execution_count": 10,
      "outputs": [
        {
          "output_type": "stream",
          "name": "stdout",
          "text": [
            "F1 on plain test_set: 0.2618473895582329\n",
            "ROC-AUC on plain test_set: 0.6487032541840814\n",
            "Accuracy on plain test_set: 0.7197316254955779\n"
          ]
        }
      ]
    },
    {
      "cell_type": "markdown",
      "source": [
        "### Encrypted Evaluation"
      ],
      "metadata": {
        "id": "pLVdC0IptlfR"
      }
    },
    {
      "cell_type": "code",
      "source": [
        "class EncryptedLR:\n",
        "\n",
        "    def __init__(self, torch_lr):\n",
        "        # TenSEAL processes lists and not torch tensors,\n",
        "        # so we take out the parameters from the PyTorch model\n",
        "        self.weight = torch_lr.lr.weight.data.tolist()[0]\n",
        "        self.bias = torch_lr.lr.bias.data.tolist()\n",
        "\n",
        "    def forward(self, enc_x):\n",
        "        # We don't need to perform sigmoid as this model\n",
        "        # will only be used for evaluation, and the label\n",
        "        # can be deduced without applying sigmoid\n",
        "        enc_out = enc_x.dot(self.weight) + self.bias\n",
        "        return enc_out\n",
        "\n",
        "    def __call__(self, *args, **kwargs):\n",
        "        return self.forward(*args, **kwargs)\n",
        "\n",
        "    def encrypt(self, context):\n",
        "        self.weight = ts.ckks_vector(context, self.weight)\n",
        "        self.bias = ts.ckks_vector(context, self.bias)\n",
        "\n",
        "    def decrypt(self, context):\n",
        "        self.weight = self.weight.decrypt()\n",
        "        self.bias = self.bias.decrypt()"
      ],
      "metadata": {
        "id": "ZNXVGHVC8V5D"
      },
      "execution_count": 11,
      "outputs": []
    },
    {
      "cell_type": "code",
      "source": [
        "def encrypted_evaluation(model, enc_x_test, y_test):\n",
        "    t_start = time()\n",
        "\n",
        "    # Initialize lists to store predictions and actual labels\n",
        "    predictions = []\n",
        "    true_labels = []\n",
        "    correct = 0\n",
        "\n",
        "    for enc_x, y in zip(enc_x_test, y_test):\n",
        "        # Encrypted evaluation\n",
        "        enc_out = model(enc_x)\n",
        "        # Plain comparison\n",
        "        out = enc_out.decrypt()\n",
        "        out = torch.tensor(out)\n",
        "        out = torch.sigmoid(out)\n",
        "        if torch.abs(out - y) < 0.5:\n",
        "            correct += 1\n",
        "\n",
        "        # Store predictions and true labels\n",
        "        predictions.append(out.item())\n",
        "        true_labels.append(y.item())\n",
        "\n",
        "    t_end = time()\n",
        "\n",
        "    # Convert predictions and true labels to binary (0 or 1) based on 0.5 threshold\n",
        "    binary_predictions = [1 if pred >= 0.5 else 0 for pred in predictions]\n",
        "\n",
        "    # Calculate F1 score\n",
        "    f1 = f1_score(true_labels, binary_predictions)\n",
        "\n",
        "    # Calculate ROC AUC score\n",
        "    roc_auc = roc_auc_score(true_labels, predictions)\n",
        "\n",
        "    return f1, roc_auc, correct / len(enc_x_test)"
      ],
      "metadata": {
        "id": "DSizO1ZsUSMA"
      },
      "execution_count": 12,
      "outputs": []
    },
    {
      "cell_type": "code",
      "source": [
        "from sklearn.model_selection import KFold\n",
        "\n",
        "torch.manual_seed(42)\n",
        "random.seed(42)\n",
        "np.random.seed(42)\n",
        "\n",
        "### run 10 fold\n",
        "\n",
        "# plain vals\n",
        "f1_list = []\n",
        "roc_auc_list = []\n",
        "acc_list = []\n",
        "\n",
        "# encrypted vals\n",
        "f1_list_enc = []\n",
        "roc_auc_list_enc = []\n",
        "acc_list_enc = []\n",
        "\n",
        "# encrypted weights\n",
        "f1_list_enc_w = []\n",
        "roc_auc_list_enc_w = []\n",
        "acc_list_enc_w = []\n",
        "\n",
        "kf = KFold(n_splits=10, shuffle=True, random_state=42)\n",
        "\n",
        "# Loop through each fold\n",
        "for train_index, val_index in kf.split(X_train_encoded):\n",
        "\n",
        "  ### Plain evaluation\n",
        "  X_train, y_train, X_val, y_val = split_data(X_train_encoded, y_train_encoded, train_index, val_index)\n",
        "\n",
        "  model = LR(n_features)\n",
        "\n",
        "  model, t_losses, v_losses = train(model, optim, criterion, X_train, y_train, EPOCHS, X_val, y_val)\n",
        "\n",
        "  f1, roc_auc, plain_accuracy = accuracy(model, torch.tensor(X_test_encoded.values,dtype=torch.float32), torch.tensor(y_test_encoded.values,dtype=torch.float32))\n",
        "\n",
        "  f1_list.append(f1)\n",
        "  roc_auc_list.append(roc_auc)\n",
        "  acc_list.append(plain_accuracy)\n",
        "\n",
        "  ### Encrypted Evaluation\n",
        "  poly_mod_degree = 4096\n",
        "  coeff_mod_bit_sizes = [40, 20, 40]\n",
        "  # create TenSEALContext\n",
        "  ctx_eval = ts.context(ts.SCHEME_TYPE.CKKS, poly_mod_degree, -1, coeff_mod_bit_sizes)\n",
        "  # scale of ciphertext to use\n",
        "  ctx_eval.global_scale = 2 ** 20\n",
        "  # this key is needed for doing dot-product operations\n",
        "  ctx_eval.generate_galois_keys()\n",
        "\n",
        "\n",
        "  t_start = time()\n",
        "  enc_x_test = [ts.ckks_vector(ctx_eval, x.tolist()) for x in torch.tensor(X_test_encoded.values, dtype=torch.float32)]\n",
        "  t_end = time()\n",
        "\n",
        "  eelr = EncryptedLR(model)\n",
        "\n",
        "  enc_f1, enc_roc_auc, enc_accuracy = encrypted_evaluation(eelr, enc_x_test, torch.tensor(y_test_encoded.values, dtype=torch.float32))\n",
        "\n",
        "  f1_list_enc.append(enc_f1)\n",
        "  roc_auc_list_enc.append(enc_roc_auc)\n",
        "  acc_list_enc.append(enc_accuracy)\n",
        "\n",
        "\n",
        "  eelr.encrypt(ctx_eval)\n",
        "  enc_f1, enc_roc_auc, enc_accuracy = encrypted_evaluation(eelr, enc_x_test, torch.tensor(y_test_encoded.values, dtype=torch.float32))\n",
        "\n",
        "  f1_list_enc_w.append(enc_f1)\n",
        "  roc_auc_list_enc_w.append(enc_roc_auc)\n",
        "  acc_list_enc_w.append(enc_accuracy)\n",
        "\n",
        "print(\"================Unencrypted evaluation metrics:================\\n\")\n",
        "print(\"F1 scores: \", f1_list)\n",
        "f1_mean, f1_std_err = get_mean_std(f1_list)\n",
        "print(f\"F1 mean: {f1_mean} ± {f1_std_err}\")\n",
        "\n",
        "print(\"ROC-AUC scores: \", roc_auc_list)\n",
        "roc_auc_mean, roc_auc_std_err = get_mean_std(roc_auc_list)\n",
        "print(f\"ROC-AUC mean: {roc_auc_mean} ± {roc_auc_std_err}\")\n",
        "\n",
        "print(\"Accuracy scores: \", acc_list)\n",
        "acc_mean, acc_std_err = get_mean_std(acc_list)\n",
        "print(f\"Accuracy mean: {acc_mean} ± {acc_std_err}\")\n",
        "\n",
        "print(\"================Encrypted evaluation metrics:================\\n\")\n",
        "print(\"F1 scores: \", f1_list_enc)\n",
        "f1_mean_enc, f1_std_err_enc = get_mean_std(f1_list_enc)\n",
        "print(f\"F1 mean: {f1_mean_enc} ± {f1_std_err_enc}\")\n",
        "\n",
        "print(\"ROC-AUC scores: \", roc_auc_list_enc)\n",
        "roc_auc_mean_enc, roc_auc_std_err_enc = get_mean_std(roc_auc_list_enc)\n",
        "print(f\"ROC-AUC mean: {roc_auc_mean_enc} ± {roc_auc_std_err_enc}\")\n",
        "\n",
        "print(\"Accuracy scores: \", acc_list_enc)\n",
        "acc_mean_enc, acc_std_err_enc = get_mean_std(acc_list_enc)\n",
        "print(f\"Accuracy mean: {acc_mean_enc} ± {acc_std_err_enc}\")\n",
        "\n",
        "print(\"================Encrypted evaluation + weights metrics:================\\n\")\n",
        "print(\"F1 scores: \", f1_list_enc_w)\n",
        "f1_mean_enc_w, f1_std_err_enc_w = get_mean_std(f1_list_enc_w)\n",
        "print(f\"F1 mean: {f1_mean_enc_w} ± {f1_std_err_enc_w}\")\n",
        "\n",
        "print(\"ROC-AUC scores: \", roc_auc_list_enc_w)\n",
        "roc_auc_mean_enc_w, roc_auc_std_err_enc_w = get_mean_std(roc_auc_list_enc_w)\n",
        "print(f\"ROC-AUC mean: {roc_auc_mean_enc_w} ± {roc_auc_std_err_enc_w}\")\n",
        "\n",
        "print(\"Accuracy scores: \", acc_list_enc_w)\n",
        "acc_mean_enc_w, acc_std_err_enc_w = get_mean_std(acc_list_enc_w)\n",
        "print(f\"Accuracy mean: {acc_mean_enc_w} ± {acc_std_err_enc_w}\")\n"
      ],
      "metadata": {
        "colab": {
          "base_uri": "https://localhost:8080/"
        },
        "id": "qsNQnAK5Tu2w",
        "outputId": "3b1fc9e8-1876-4941-a2fe-b3d5734d0f03"
      },
      "execution_count": 13,
      "outputs": [
        {
          "output_type": "stream",
          "name": "stdout",
          "text": [
            "================Unencrypted evaluation metrics:================\n",
            "\n",
            "F1 scores:  [0.33140495867768593, 0.3881552621048419, 0.3748231966053749, 0.3395599833955999, 0.40439381611065905, 0.34205064342050645, 0.41597222222222224, 0.3637718971300783, 0.31843817787418655, 0.41303462321792256]\n",
            "F1 mean: 0.3691604780759078 ± 0.01067189604533252\n",
            "ROC-AUC scores:  [0.4640837455056487, 0.5511206219999635, 0.5030842200361373, 0.49230074282272634, 0.5681051632567392, 0.4830779690095089, 0.5562040298589184, 0.4805684327718056, 0.4664297056085853, 0.5766496778668029]\n",
            "ROC-AUC mean: 0.5141624308736837 ± 0.013202131183020327\n",
            "Accuracy scores:  [0.5065568770966759, 0.5336992985666361, 0.46081122293382126, 0.5147910948459896, 0.5535224153705398, 0.5166209210125038, 0.48703873132052455, 0.4794144556267155, 0.5208905154010369, 0.5605367490088442]\n",
            "Accuracy mean: 0.5133882281183287 ± 0.00947338391175671\n",
            "================Encrypted evaluation metrics:================\n",
            "\n",
            "F1 scores:  [0.4073364358061867, 0.3842687423187218, 0.4434927432786106, 0.3065989847715736, 0.4166054371785452, 0.09243697478991597, 0.44311017712398676, 0.0944206008583691, 0.4432278029040705, 0.1332194705380017]\n",
            "F1 mean: 0.3164717369567982 ± 0.04519905555071457\n",
            "ROC-AUC scores:  [0.4641866364913946, 0.5510756784873428, 0.5033789764742385, 0.4917564015988027, 0.5687188589366866, 0.48329789563979486, 0.5568955211622347, 0.480835356171634, 0.465959281633845, 0.5765207789600482]\n",
            "ROC-AUC mean: 0.5142625385556021 ± 0.013250027229934848\n",
            "Accuracy scores:  [0.33973772491613297, 0.5416285452881976, 0.2866727660872217, 0.5834095760902714, 0.5157060079292467, 0.6706312900274474, 0.4342787435193657, 0.6782555657212564, 0.2866727660872217, 0.6904544068313511]\n",
            "Accuracy mean: 0.5027447392497713 ± 0.0476492076188759\n",
            "================Encrypted evaluation + weights metrics:================\n",
            "\n",
            "F1 scores:  [0.4043775649794802, 0.3844580777096114, 0.4444444444444445, 0.304635761589404, 0.4223693892568065, 0.09220452640402346, 0.44144144144144143, 0.0983606557377049, 0.4432278029040705, 0.1323024054982818]\n",
            "F1 mean: 0.3167822069965268 ± 0.045116640563443396\n",
            "ROC-AUC scores:  [0.4639489149677867, 0.5509203153802632, 0.5030130404628497, 0.49200826778120493, 0.5686410633133179, 0.4825368217407969, 0.5567643408589003, 0.4811479075030571, 0.4662834680878247, 0.5765686882882225]\n",
            "ROC-AUC mean: 0.5141832828384224 ± 0.013246723681380317\n",
            "Accuracy scores:  [0.3360780725831046, 0.5410186032326929, 0.2878926501982312, 0.5837145471180238, 0.5211954864287892, 0.6697163769441903, 0.43275388838060386, 0.6813052759987801, 0.2866727660872217, 0.6919792619701128]\n",
            "Accuracy mean: 0.503232692894175 ± 0.0479016868117669\n"
          ]
        }
      ]
    },
    {
      "cell_type": "markdown",
      "source": [
        "## Plotting"
      ],
      "metadata": {
        "id": "oP5U5NAPvXmS"
      }
    },
    {
      "cell_type": "code",
      "source": [
        "f1_ = [f1_mean, f1_mean_enc, f1_mean_enc_w]\n",
        "f1_std = [f1_std_err,  f1_std_err_enc, f1_std_err_enc_w]\n",
        "\n",
        "roc_ = [roc_auc_mean, roc_auc_mean_enc, roc_auc_mean_enc_w]\n",
        "roc_std = [roc_auc_std_err, roc_auc_std_err_enc, roc_auc_std_err_enc_w]\n",
        "\n",
        "acc_ = [acc_mean, acc_mean_enc, acc_mean_enc_w]\n",
        "acc_std = [acc_std_err, acc_std_err_enc, acc_std_err_enc_w]"
      ],
      "metadata": {
        "id": "dXimZ_XrzbOX"
      },
      "execution_count": 14,
      "outputs": []
    },
    {
      "cell_type": "code",
      "source": [
        "model_names = ['Unencrypted', 'Encrypted', 'Encrypted with Weights']\n",
        "x = np.arange(len(model_names))\n",
        "width = 0.2\n",
        "fig, ax = plt.subplots(figsize=(5, 4))\n",
        "\n",
        "rects1 = ax.bar(x=x - width, height=f1_, width=width, label='F1', color='lightskyblue', yerr=f1_std)\n",
        "rects2 = ax.bar(x=x, height=roc_, width=width, label='ROC-AUC', color='coral', yerr=roc_std)\n",
        "rects3 = ax.bar(x=x + width, height=acc_, width=width, label='Accuracy', color='royalblue', yerr=acc_std)\n",
        "\n",
        "ax.set_ylabel('Scores', fontsize=10)\n",
        "ax.set_title('Evaluation with different encryptions', fontsize=10)\n",
        "ax.set_xticks(x)\n",
        "ax.set_xticklabels(model_names, fontsize=9)\n",
        "ax.legend(loc='lower center', bbox_to_anchor=(.83, 0), fontsize=8)\n",
        "ax.tick_params(axis='y', labelsize=9)\n",
        "ax.grid(True, linestyle='--')\n",
        "fig.tight_layout()\n",
        "\n",
        "plt.show()"
      ],
      "metadata": {
        "colab": {
          "base_uri": "https://localhost:8080/",
          "height": 407
        },
        "id": "CMUey-AfLi9q",
        "outputId": "1d47c073-3b64-48c6-b1b8-cc62cad8cd58"
      },
      "execution_count": 15,
      "outputs": [
        {
          "output_type": "display_data",
          "data": {
            "text/plain": [
              "<Figure size 500x400 with 1 Axes>"
            ],
            "image/png": "[encoded data removed]"
          },
          "metadata": {}
        }
      ]
    },
    {
      "cell_type": "markdown",
      "source": [
        "**Note:** Plots might differ slightly each run due to the noise added from encryption's precision and SGD getting stuck on local minima, which effects label assigning after decryption and horribly fails the encrypted evaluation metrics. If metrics are too much off from our example here, delete runtime and run the code again where the plot above shows the most frequent results we have observed."
      ],
      "metadata": {
        "id": "FOEuhfJHq-nl"
      }
    }
  ],
  "metadata": {
    "colab": {
      "provenance": []
    },
    "kernelspec": {
      "display_name": "Python 3",
      "name": "python3"
    },
    "language_info": {
      "name": "python"
    }
  },
  "nbformat": 4,
  "nbformat_minor": 0
}